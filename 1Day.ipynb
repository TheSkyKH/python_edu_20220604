{
 "cells": [
  {
   "cell_type": "code",
   "execution_count": 228,
   "id": "c9b18db6",
   "metadata": {},
   "outputs": [
    {
     "name": "stderr",
     "output_type": "stream",
     "text": [
      "C:\\Users\\soldesk\\AppData\\Local\\Temp\\ipykernel_10928\\1014303460.py:1: DeprecationWarning: Importing display from IPython.core.display is deprecated since IPython 7.14, please import from IPython display\n",
      "  from IPython.core.display import display, HTML\n"
     ]
    },
    {
     "data": {
      "text/html": [
       "<style>\n",
       "div.container { width:100% !important; }\n",
       "div.CodeMirror {font-family: Consolas; font-size: 30pt;}\n",
       "div.output { font-size: 20pt; font-weight: bold;}\n",
       "div.input { font-family: Consolas; font-size: 30pt;}\n",
       "div.prompt { min-width: 100px;}\n",
       "</style>\n"
      ],
      "text/plain": [
       "<IPython.core.display.HTML object>"
      ]
     },
     "metadata": {},
     "output_type": "display_data"
    }
   ],
   "source": [
    "from IPython.core.display import display, HTML\n",
    "display(HTML(\n",
    "\"\"\"<style>\n",
    "div.container { width:100% !important; }\n",
    "div.CodeMirror {font-family: Consolas; font-size: 30pt;}\n",
    "div.output { font-size: 20pt; font-weight: bold;}\n",
    "div.input { font-family: Consolas; font-size: 30pt;}\n",
    "div.prompt { min-width: 100px;}\n",
    "</style>\n",
    "\"\"\"))"
   ]
  },
  {
   "cell_type": "code",
   "execution_count": 17,
   "id": "bc871377",
   "metadata": {},
   "outputs": [
    {
     "name": "stdout",
     "output_type": "stream",
     "text": [
      "파이썬 실행\n"
     ]
    }
   ],
   "source": [
    "print(\"파이썬 실행\")"
   ]
  },
  {
   "cell_type": "code",
   "execution_count": 10,
   "id": "755e367b",
   "metadata": {},
   "outputs": [
    {
     "name": "stdout",
     "output_type": "stream",
     "text": [
      "30\n"
     ]
    }
   ],
   "source": [
    "print(10 * 3) # 파이썬의 명령은 한 행 이어야 한다."
   ]
  },
  {
   "cell_type": "code",
   "execution_count": 12,
   "id": "66677f75",
   "metadata": {},
   "outputs": [
    {
     "name": "stdout",
     "output_type": "stream",
     "text": [
      "50\n",
      "파이썬 실행\n"
     ]
    }
   ],
   "source": [
    "print(10 * 5)\n",
    "print(\"파이썬 실행\")"
   ]
  },
  {
   "cell_type": "code",
   "execution_count": 14,
   "id": "4eadf95b",
   "metadata": {},
   "outputs": [
    {
     "name": "stdout",
     "output_type": "stream",
     "text": [
      "50\n",
      "파이썬 실행\n"
     ]
    }
   ],
   "source": [
    "print(10 * 5); print(\"파이썬 실행\")\n",
    "# 주석 "
   ]
  },
  {
   "cell_type": "code",
   "execution_count": 25,
   "id": "7c56140f",
   "metadata": {},
   "outputs": [
    {
     "name": "stdout",
     "output_type": "stream",
     "text": [
      "10\n",
      "10.5\n",
      "10\n",
      "12\n",
      "12\n",
      "1\n",
      "3\n",
      "1\n",
      "3\n",
      "3\n",
      "1000\n",
      "1000\n"
     ]
    }
   ],
   "source": [
    "# 파이썬 프로그래밍의 기초, 자료형\n",
    "# 리터널 : 자연어 ( 문자, 숫자 )\n",
    "# 숫자 리터널 : \n",
    "#          정수 리터널 : 10, 33\n",
    "#          실수 리터널 : 10.5 , 10.33\n",
    "print(10) # 정수 리터널\n",
    "print(10.5) # 실수 리터널\n",
    "a = 10  # 리터널을 저장하도록 만든 것 : 변수\n",
    "print(a)\n",
    "# 변수 = 리터널\n",
    "print(10 + 2)\n",
    "# 숫자 리터널이 이용하는 연산자 : +, - , * , /\n",
    "a = 10\n",
    "b = 2\n",
    "print( a + b) # print(10 + 2)\n",
    "### 나머지 : %\n",
    "print( 10 % 3)\n",
    "b = 3\n",
    "print(b)\n",
    "print( a % b )\n",
    "### 몫 연산자(//)\n",
    "print( 10 // 3)\n",
    "print( a // b )\n",
    "### 제곱 승\n",
    "print( 10 ** 3)\n",
    "print( a ** b)\n",
    "### 숫자 리터널이 사용하는 연산자 : +,-,*,/,%,//,**"
   ]
  },
  {
   "cell_type": "code",
   "execution_count": 36,
   "id": "ea724e51",
   "metadata": {},
   "outputs": [
    {
     "name": "stdout",
     "output_type": "stream",
     "text": [
      "c\n",
      "c\n",
      "10\n",
      "a\n",
      "a\n",
      "10\n",
      "이숭무\n",
      "highland0@nate.com\n",
      "010-7146-1970\n",
      "10\n",
      "10\n",
      "20\n",
      "1010\n",
      "Hello World\n"
     ]
    }
   ],
   "source": [
    "## 문자열 리터널 : 한국어, 일본어 ,영어, 프랑스어,...\n",
    "# print(c) # 오류 발생 , 문자로 인식하지 않음\n",
    "# 'c', \"c\"와 같이 작은 따음표나 큰 따음표를 사용\n",
    "print('c')\n",
    "print(\"c\")\n",
    "a = 10 # 변수 = 리터널\n",
    "print(a) # 은 따음표나 큰 따음표를 사용하지 않으면 변수로 인식\n",
    "print('a'); print(\"a\")\n",
    "이숭무 = 10\n",
    "print(이숭무)\n",
    "print(\"이숭무\")\n",
    "print('highland0@nate.com')\n",
    "print(\"010-7146-1970\")\n",
    "print(10)\n",
    "print(\"10\")\n",
    "print(10 + 10) # 숫자 리터널\n",
    "# print('10' + 10) # 문자리터널 + 숫자 리터널 이어서 오류\n",
    "print('10' + '10') # 문자리터널 + 문자리터널\n",
    "# 문자 리터널에서 +연산자는 붙이기 연산자이다.\n",
    "print(\"Hello \" + \"World\")"
   ]
  },
  {
   "cell_type": "code",
   "execution_count": 37,
   "id": "2c96a655",
   "metadata": {},
   "outputs": [
    {
     "name": "stdout",
     "output_type": "stream",
     "text": [
      "이숭무\n",
      "이숭무\n",
      "이숭무\n",
      "이숭무\n"
     ]
    }
   ],
   "source": [
    "# 문자 리터널은 : \"\", '', ''' ''', \"\"\" \"\"\"\n",
    "print(\"이숭무\")\n",
    "print('이숭무')\n",
    "print(\"\"\"이숭무\"\"\")\n",
    "print('''이숭무''')"
   ]
  },
  {
   "cell_type": "code",
   "execution_count": 41,
   "id": "d40a63f5",
   "metadata": {},
   "outputs": [
    {
     "name": "stdout",
     "output_type": "stream",
     "text": [
      "Life is too short, \n",
      "You need python\n",
      "Life is too short, \n",
      "You need python\n"
     ]
    }
   ],
   "source": [
    "print(\"\"\"Life is too short, \n",
    "You need python\"\"\") #### 행바꿈이 있는 문자열이 있는 경우\n",
    "print('''Life is too short, \n",
    "You need python''')"
   ]
  },
  {
   "cell_type": "code",
   "execution_count": 45,
   "id": "93896dc4",
   "metadata": {},
   "outputs": [
    {
     "name": "stdout",
     "output_type": "stream",
     "text": [
      "a a abcd abcd\n",
      "Life's too short, You need python\n",
      "Life is too short, \"You need python\"\n",
      "Life is too short, \"You need python\"\n",
      "Life's too short, You need python\n"
     ]
    }
   ],
   "source": [
    "# 다른 언어\n",
    "# 문자열 : 하나 이상의 문자로 이루어진 것 , a, abc, abcd :\"abc\"\n",
    "# 문자 : 하나의 알파벳 : a,b,c,d : 'a'\n",
    "str1 = \"a\"\n",
    "str2 = 'a'\n",
    "str3 =\"abcd\"\n",
    "str4 = 'abcd'\n",
    "print(str1, str2, str3, str4)\n",
    "print(\"Life's too short, You need python\")\n",
    "print('Life is too short, \"You need python\"')\n",
    "print(\"Life is too short, \\\"You need python\\\"\")\n",
    "print('Life\\'s too short, You need python')"
   ]
  },
  {
   "cell_type": "code",
   "execution_count": 57,
   "id": "3db67d34",
   "metadata": {},
   "outputs": [
    {
     "name": "stdout",
     "output_type": "stream",
     "text": [
      "Life's too short, You need python\n",
      "Python\n",
      "Python\n",
      "is fun\n",
      "is fun\n",
      "Python is fun\n",
      "Pythonis fun\n",
      "Python is fun\n",
      "Python is fun\n",
      "==================================================\n",
      "제목\n",
      "==================================================\n",
      "PythonPythonPythonPythonPython\n"
     ]
    }
   ],
   "source": [
    "a = 'Life\\'s too short, You need python'\n",
    "print(a)\n",
    "head = \"Python\"\n",
    "tail = \"is fun\"\n",
    "print(\"Python\")\n",
    "print(head)\n",
    "print(\"is fun\")\n",
    "print(tail)\n",
    "print(\"Python is fun\")\n",
    "print(head + tail) # \"Pythonis fun\"\n",
    "print(\"Python \"+\"is fun\")\n",
    "print(head + \" \" + tail) \n",
    "print(\"=\" * 50) # 반복 연산자 \n",
    "print(\"제목\")\n",
    "print(\"=\" * 50)\n",
    "print(head * 5)\n",
    "# 파이썬 문자열 연산자 : +, *"
   ]
  },
  {
   "cell_type": "code",
   "execution_count": 63,
   "id": "5b1642f6",
   "metadata": {},
   "outputs": [
    {
     "name": "stdout",
     "output_type": "stream",
     "text": [
      "Life is too short, \"You need python\"\n",
      "36\n",
      "17\n"
     ]
    }
   ],
   "source": [
    "# 다른 언어에서는  함수명과 변수명이 같아도 된다.\n",
    "# str() : 함수\n",
    "# str : 변수\n",
    "# 파이썬에서는 함수명와 변수명이 같으면 안된다.\n",
    "str1 = \"Life is too short, \\\"You need python\\\"\"\n",
    "print(str1)\n",
    "print(len(str1))\n",
    "a = \"Life is too short\"\n",
    "#    12345678901234567\n",
    "#             1\n",
    "print(len(a)) # 문자열 길이 구하기"
   ]
  },
  {
   "cell_type": "code",
   "execution_count": 77,
   "id": "2f2b83e4",
   "metadata": {},
   "outputs": [
    {
     "name": "stdout",
     "output_type": "stream",
     "text": [
      "Life is too short\n",
      "t\n",
      "s\n",
      "s\n",
      "t\n",
      "t\n",
      "t\n",
      "r\n",
      "o\n",
      "L\n",
      "L\n",
      "L\n",
      "L\n",
      "i\n",
      "f\n",
      "e\n",
      "Life\n"
     ]
    }
   ],
   "source": [
    "# indexing : index를 이용해서 원하는 문자를 가지고 오는 것\n",
    "# index:문자열 리터널에 부여된 고유의 번호, 0번부터 1씩 증가하는 수\n",
    "a = \"Life is too short\"\n",
    "#    01234567890123456\n",
    "#              1\n",
    "#      \n",
    "#    76543210987654321(-)\n",
    "print(a)\n",
    "print(a[8]) # indexing\n",
    "print(a[12])\n",
    "print(a[6])\n",
    "print(a[16])\n",
    "# 마지막 문자를 가지고 오시오\n",
    "print(a[len(a)-1])\n",
    "print(a[-1])\n",
    "# 마지막 두번째 문자를 가지고 오시오\n",
    "print(a[-2])\n",
    "# 마지막 세번째 문자를 가지고 오시오\n",
    "print(a[-3])\n",
    "# 맨 앞 문자를 가지고 오시오\n",
    "print(a[0])\n",
    "print(a[-17])\n",
    "print(a[-len(a)])\n",
    "# index를 이용해서 'Life'를 출력하시오.\n",
    "print(a[0]); print(a[1]); print(a[2]); print(a[3])\n",
    "print(a[0]+a[1]+a[2]+a[3])"
   ]
  },
  {
   "cell_type": "code",
   "execution_count": 83,
   "id": "b940548a",
   "metadata": {},
   "outputs": [
    {
     "name": "stdout",
     "output_type": "stream",
     "text": [
      "Life\n",
      "Life\n",
      "Life\n",
      "Life is\n",
      "too\n",
      "too\n",
      "is \n"
     ]
    }
   ],
   "source": [
    "# slicing\n",
    "a = \"Life is too short\"\n",
    "#    01234567890123456\n",
    "#              1\n",
    "#           1\n",
    "#    76543210987654321(-)\n",
    "print(a[0]+a[1]+a[2]+a[3])\n",
    "print(a[0 : 0 + 4]) # 0부터 3까지만 가지고 옴\n",
    "print(a[0 : 4])\n",
    "print(a[0: 0 + 7])\n",
    "print(a[8 : 8 + 3])\n",
    "print(a[8 : 11])\n",
    "n = 3\n",
    "print(a[5 : 5 + n]) # index 5번부터 n개를 가져오시오"
   ]
  },
  {
   "cell_type": "code",
   "execution_count": 87,
   "id": "c971badc",
   "metadata": {},
   "outputs": [
    {
     "name": "stdout",
     "output_type": "stream",
     "text": [
      "Life\n",
      "Life\n",
      "too short\n",
      "too shor\n",
      "too short\n"
     ]
    }
   ],
   "source": [
    "print(a[0 : 4]) # index0번부터 4번 전까지 \n",
    "print(a[ : 4]) \n",
    "# index 8번부터 마지막까지\n",
    "print(a[8: len(a)])\n",
    "print(a[8: -1]) # index 8번부터 -1전까지\n",
    "print(a[8: ])"
   ]
  },
  {
   "cell_type": "code",
   "execution_count": 92,
   "id": "617498a4",
   "metadata": {},
   "outputs": [
    {
     "name": "stdout",
     "output_type": "stream",
     "text": [
      "L\n",
      "L\n",
      "Life\n",
      "Life\n",
      "Life\n",
      "Life\n",
      "too\n"
     ]
    }
   ],
   "source": [
    "a = \"Life is too short\"\n",
    "#    01234567890123456\n",
    "#              1\n",
    "#           1\n",
    "#    76543210987654321(-)\n",
    "print(a[0])\n",
    "print(a[-17])\n",
    "print(a[0: 4])\n",
    "print(a[-17: 4])\n",
    "print(a[-17: -17 + 4])\n",
    "print(a[-17: -13])\n",
    "# too를 가지고 오시오\n",
    "print(a[-9: 11 ])"
   ]
  },
  {
   "cell_type": "code",
   "execution_count": 95,
   "id": "f6591c50",
   "metadata": {},
   "outputs": [
    {
     "name": "stdout",
     "output_type": "stream",
     "text": [
      "20010331\n",
      "Rainy\n",
      "0331\n"
     ]
    }
   ],
   "source": [
    "# 날짜와 이름을 분리하여 출력\n",
    "a = \"20010331Rainy\"\n",
    "print(a[:8])\n",
    "print(a[8:])\n",
    "# 월일만 출력\n",
    "print(a[4: 4+4])"
   ]
  },
  {
   "cell_type": "code",
   "execution_count": 98,
   "id": "683b073a",
   "metadata": {},
   "outputs": [
    {
     "name": "stdout",
     "output_type": "stream",
     "text": [
      "pithon\n",
      "i\n"
     ]
    },
    {
     "ename": "TypeError",
     "evalue": "'str' object does not support item assignment",
     "output_type": "error",
     "traceback": [
      "\u001b[1;31m---------------------------------------------------------------------------\u001b[0m",
      "\u001b[1;31mTypeError\u001b[0m                                 Traceback (most recent call last)",
      "Input \u001b[1;32mIn [98]\u001b[0m, in \u001b[0;36m<cell line: 4>\u001b[1;34m()\u001b[0m\n\u001b[0;32m      2\u001b[0m \u001b[38;5;28mprint\u001b[39m(a)\n\u001b[0;32m      3\u001b[0m \u001b[38;5;28mprint\u001b[39m(a[\u001b[38;5;241m1\u001b[39m])\n\u001b[1;32m----> 4\u001b[0m a[\u001b[38;5;241m1\u001b[39m] \u001b[38;5;241m=\u001b[39m \u001b[38;5;124m'\u001b[39m\u001b[38;5;124my\u001b[39m\u001b[38;5;124m'\u001b[39m\n",
      "\u001b[1;31mTypeError\u001b[0m: 'str' object does not support item assignment"
     ]
    }
   ],
   "source": [
    "a = 'pithon'\n",
    "print(a)\n",
    "print(a[1])\n",
    "a[1] = 'y' # 문자열의 값은 index를 이용해서 변경할 수 없다."
   ]
  },
  {
   "cell_type": "code",
   "execution_count": 116,
   "id": "22e01736",
   "metadata": {},
   "outputs": [
    {
     "name": "stdout",
     "output_type": "stream",
     "text": [
      "이숭무의 계좌번호는 1111이고 잔액은 100입니다.\n",
      "이숭무의 계좌번호는 1111이고 잔액은 100입니다.\n",
      "이숭무의 계좌번호는 1111이고 잔액은 100입니다.\n",
      "이숭무의 나이는 25살이고 키는 175.300000입니다\n",
      "이숭무의 나이는 25살이고 키는 175.300000입니다\n",
      "이숭무의 나이는 25살이고 키는 175.3입니다\n",
      "이숭무의 나이는 25살이고 키는 175.30입니다\n",
      "이숭무의 나이는 25살이고 키는 175.3입니다\n",
      "이숭무의 나이는 25살이고 키는 175.3입니다\n"
     ]
    }
   ],
   "source": [
    "# 문자열 포매팅\n",
    "account = '1111'\n",
    "name = '이숭무'\n",
    "money = 100\n",
    "### 이숭무의 계좌번호는 1111이고 잔액은 100입니다.\n",
    "print(name + \"의 계좌번호는 \" + account + \"이고 잔액은 \" + str(money) + \"입니다.\")\n",
    "print(\"%s의 계좌번호는 %s이고 잔액은 %d입니다.\" % (name,account,money))\n",
    "print(\"%s의 계좌번호는 %s이고 잔액은 %d입니다.\" % ('이숭무','1111',100))\n",
    "### %s, %d, %f,... 포멧문자\n",
    "age = 25\n",
    "height = 175.3\n",
    "\"이숭무의 나이는 25살이고 키는 175.3입니다\"\n",
    "print(\"%s의 나이는 %d살이고 키는 %f입니다\" % (name, age, height))\n",
    "str1 = \"%s의 나이는 %d살이고 키는 %f입니다\" % (name, age, height)\n",
    "print(str1)\n",
    "###  f : float : 솟수점자리 6자리가 출력\n",
    "print(\"%s의 나이는 %d살이고 키는 %5.1f입니다\" % (name, age, height))\n",
    "print(\"%s의 나이는 %d살이고 키는 %5.2f입니다\" % (name, age, height))\n",
    "### 75.30과 175.30은 숫자의 크기가 너무 틀려진다.\n",
    "### 정수는 출력 공간과 상관 없이 출력되게 되어 있다.\n",
    "print(\"%s의 나이는 %d살이고 키는 %.1f입니다\" % (name, age, height))\n",
    "\n",
    "print(\"%s의 나이는 %s살이고 키는 %s입니다\" % (name, age, height))"
   ]
  },
  {
   "cell_type": "code",
   "execution_count": 137,
   "id": "bd8f6423",
   "metadata": {},
   "outputs": [
    {
     "name": "stdout",
     "output_type": "stream",
     "text": [
      "       이숭무의 나이는 25살이고 키는 175.3입니다\n",
      "이숭무       의 나이는    25살이고 키는      175.3입니다\n",
      "이숭무의 나이는 25   살이고 키는 175.3     입니다\n"
     ]
    }
   ],
   "source": [
    "print(\"%10s의 나이는 %d살이고 키는 %.1f입니다\" % (name, age, height))\n",
    "print(\"%-10s의 나이는 %5d살이고 키는 %10.1f입니다\" % (name, age, height))\n",
    "str2 = \"%s의 나이는 %-5d살이고 키는 %-10.1f입니다\" % (name, age, height)\n",
    "print(str2)\n",
    "#-는 왼쪽정렬, +는 오른쪽 정렬"
   ]
  },
  {
   "cell_type": "code",
   "execution_count": 155,
   "id": "796af7ab",
   "metadata": {},
   "outputs": [
    {
     "name": "stdout",
     "output_type": "stream",
     "text": [
      "이숭무님의 나이는 25살이고요 키는 175.3입니다\n",
      "이숭무님의 나이는 25살이고요 키는 175.3입니다\n",
      "이숭무님의 나이는 25살이고요 키는 175.3입니다\n",
      "이숭무님의 나이는 35살이고요 키는 175.3입니다\n",
      "이숭무입니다\n",
      "이숭무님의 나이는 35살이고요 키는 175.3입니다\n",
      "이숭무님의 나이는 35살이고요 키는 175.3입니다\n",
      "이숭무님의 나이는 25살이고요. 블러그이름은 이숭무입니다.\n"
     ]
    }
   ],
   "source": [
    "# format 함수를 사용한 포매팅\n",
    "# 문자 : '10' , 'a' ; 숫자 : 10, 20.5 ;  변수 : a ;  함수 : a()\n",
    "# print() : print함수\n",
    "# format()\n",
    "account = '1111'\n",
    "name = '이숭무'\n",
    "money = 100\n",
    "age = 25\n",
    "height = 175.3\n",
    "# 이숭무님의 나이는 25살이고요 키는 175.3입니다\n",
    "print(\"%s님의 나이는 %d살이고요 키는 %.1f입니다\" % (name,age,height))\n",
    "print(\"{0}님의 나이는 {1}살이고요 키는 {2}입니다\".format(name,age,height))\n",
    "#                                                      0    1    2\n",
    "print(\"{1}님의 나이는 {2}살이고요 키는 {0}입니다\".format(height,name,age))\n",
    "str1 = \"{1}님의 나이는 {2}살이고요 키는 {0}입니다\".format(height,name,35)\n",
    "print(str1)\n",
    "print(\"{0}입니다\".format(name))\n",
    "### 인덱스와 이름을 혼용해서 넣기\n",
    "str1 = \"{1}님의 나이는 {bbb}살이고요 키는 {0}입니다\"\\\n",
    "            .format(height,name,bbb=35)\n",
    "print(str1)\n",
    "'''\n",
    "str1 = \"{1}님의 나이는 {2}살이고요 키는 {0}입니다\"\\\n",
    "            .format(height,name,bbb=35)\n",
    "변수 이름을 사용하는 경우에는 index를 사용할 수 없다.\n",
    "\n",
    "str1 = \"{1}님의 나이는 {bbb}살이고요 키는 {0}입니다\"\\\n",
    "            .format(height,bbb=35,name)\n",
    "변수 이름을 사용할 경우에는 변수이름이 뒤에서 부터 있어야 한다.      \n",
    "'''\n",
    "str1 = \"{n}님의 나이는 {bbb}살이고요 키는 {0}입니다\"\\\n",
    "            .format(height, bbb=35, n = name)\n",
    "print(str1)\n",
    "### 이숭무님의 나이는 25살이고요. 블러그이름은 이숭무입니다.\n",
    "print(\"{0}님의 나이는 {1}살이고요. 블러그이름은 {0}입니다.\"\\\n",
    "      .format(name, age))"
   ]
  },
  {
   "cell_type": "code",
   "execution_count": 158,
   "id": "a8040e70",
   "metadata": {},
   "outputs": [
    {
     "name": "stdout",
     "output_type": "stream",
     "text": [
      "이숭무님의 나이는 25살이고요 키는 175.3입니다\n",
      "이숭무님의 나이는 25살이고요 키는 175.3입니다\n"
     ]
    }
   ],
   "source": [
    "### f 문자열 포매팅\n",
    "### 이숭무님의 나이는 35살이고요 키는 175.3입니다\n",
    "str1 = f'{name}님의 나이는 {age}살이고요 키는 {height}입니다'\n",
    "print(str1)\n",
    "print(f'{name}님의 나이는 {age}살이고요 키는 {height}입니다')"
   ]
  },
  {
   "cell_type": "code",
   "execution_count": 159,
   "id": "d174f4f7",
   "metadata": {},
   "outputs": [],
   "source": [
    "### 문자열 리터널 (\"\",'',\"\"\"\"\"\",'''''')\n",
    "### 문자열 추출 : indexing, slicing\n",
    "### 문자열 다루기 : 포멧문자 , 포멧함수, f문자\n",
    "### 문자열 연산자 : +, *"
   ]
  },
  {
   "cell_type": "code",
   "execution_count": 191,
   "id": "0a934a8f",
   "metadata": {},
   "outputs": [
    {
     "name": "stdout",
     "output_type": "stream",
     "text": [
      "5\n",
      "5\n",
      "2\n",
      "2\n",
      "1\n",
      "2\n",
      "3\n",
      "1\n",
      "2\n",
      "3\n",
      "2\n",
      "too\n",
      "too\n",
      "t :  8\n",
      "too short\n",
      "too short\n",
      "-1\n",
      "12\n",
      "12\n",
      "12\n"
     ]
    }
   ],
   "source": [
    "### 문자열 함수 : 문자열을 가공하기 위해서 자주 사용하는 명령문\n",
    "a = \"hobby\"\n",
    "#    01234\n",
    "#    \n",
    "#문자열의 크기\n",
    "print(len(a))\n",
    "print(len(\"hobby\"))\n",
    "###  문자열에 특정 문자의 갯수\n",
    "print (a.count('b'))\n",
    "print (\"hobby\".count('b'))\n",
    "# 원하는 문자가 있는 위치(index)\n",
    "print(a.index('o'))\n",
    "print(a.index('b'))\n",
    "print(a.rindex('b'))\n",
    "print(a.find('o'))\n",
    "print(a.find('b'))\n",
    "print(a.rfind('b'))\n",
    "print(a.find('b'))\n",
    "\n",
    "\n",
    "b = \"Life is too short\"\n",
    "# too문자열을 출력하시오.\n",
    "i = b.index('t')\n",
    "print(b[i : i + 3])\n",
    "print(b[b.index('t') : b.index('t') + 3])\n",
    "\n",
    "# too short 를 출력하시오\n",
    "i = b.index('too')\n",
    "print(\"t : \" , i)\n",
    "print(b[ i : i + 9])\n",
    "print(b[ b.index('too') : b.index('too') + 9])\n",
    "\n",
    "print(a.find('k')) #  찾는 문자가 없는 경우 -1을 출력\n",
    "#print(a.index('k')) # index 함수는 없는 문자는 오류가 발생\n",
    "print(b.index('s', 7)) # index 7번부터 's'가 있는 index\n",
    "print(b.find('s', 7))\n",
    "# 두번째 's'의 위치는\n",
    "print(b.index('s', b.index('s') + 1)) # 두번째 's'가 있는 index\n",
    "##                첫번째 s가 있는"
   ]
  },
  {
   "cell_type": "code",
   "execution_count": 195,
   "id": "f13838bd",
   "metadata": {},
   "outputs": [
    {
     "name": "stdout",
     "output_type": "stream",
     "text": [
      "Life is too short\n",
      "life is too short\n",
      "LIFE IS TOO SHORT\n"
     ]
    }
   ],
   "source": [
    "print(b)\n",
    "# 모두 소문자로 가져오기\n",
    "result = b.lower()\n",
    "print(result)\n",
    "# 모두 대문자로 가져오기\n",
    "result = b.upper()\n",
    "print(result)"
   ]
  },
  {
   "cell_type": "code",
   "execution_count": 207,
   "id": "06cf8e64",
   "metadata": {},
   "outputs": [
    {
     "name": "stdout",
     "output_type": "stream",
     "text": [
      " abcd \n",
      "abcd\n",
      "abcd\n",
      "ab cd\n",
      "Life is too short\n",
      "Life is too short\n",
      "Life is too short    \n",
      "   Life is too short\n",
      "cdabefg\n",
      "Life is too short\n"
     ]
    }
   ],
   "source": [
    "c = ' abcd '\n",
    "print(c)\n",
    "d = 'abcd'\n",
    "print(d)\n",
    "result = c.strip()\n",
    "print(result)\n",
    "d = ' ab cd '\n",
    "result = d.strip()\n",
    "print(result)\n",
    "print(b)\n",
    "e = \"   Life is too short    \"\n",
    "result = e.strip()\n",
    "print(result)\n",
    "result = e.lstrip()\n",
    "print(result)\n",
    "result = e.rstrip()\n",
    "print(result)\n",
    "f = 'abcdabefgab'\n",
    "result = f.strip(\"ab\")\n",
    "print(result)"
   ]
  },
  {
   "cell_type": "code",
   "execution_count": 209,
   "id": "f86637d9",
   "metadata": {},
   "outputs": [
    {
     "name": "stdout",
     "output_type": "stream",
     "text": [
      "Your leg is too short\n",
      "Lifeistooshort\n"
     ]
    }
   ],
   "source": [
    "b = \"Life is too short\"\n",
    "# \"Life\"를 \"Your leg\"로 변경\n",
    "result = b.replace(\"Life\", \"Your leg\")\n",
    "print(result)\n",
    "result = b.replace(\" \", \"\")\n",
    "print(result)"
   ]
  },
  {
   "cell_type": "code",
   "execution_count": 212,
   "id": "8dca0f0a",
   "metadata": {},
   "outputs": [
    {
     "name": "stdout",
     "output_type": "stream",
     "text": [
      "Life is too short\n",
      "['Life', 'is', 'too', 'short']\n",
      "['Life', 'is', 'too', 'short']\n"
     ]
    }
   ],
   "source": [
    "b = \"Life is too short\"\n",
    "print(b)\n",
    "result = b.split()\n",
    "print(result) # 리스트\n",
    "g = \"Life:is:too:short\"\n",
    "result = g.split(\":\")\n",
    "print(result)"
   ]
  },
  {
   "cell_type": "code",
   "execution_count": 221,
   "id": "6516d914",
   "metadata": {},
   "outputs": [
    {
     "name": "stdout",
     "output_type": "stream",
     "text": [
      "1\n",
      "11\n",
      "[1, 1]\n",
      "[1, 2, 3, 4]\n",
      "['이숭무', '이상범', '이장범']\n",
      "['이숭무', 35, 175.5, [1, 2, 3]]\n",
      "[]\n",
      "['Life', 'is', 'too', 'short']\n"
     ]
    }
   ],
   "source": [
    "### 숫자 리터널 자료형 : 10, 10.5\n",
    "### 문자열 리터널 자료형 : \"\",'''','''''',\"\"\"\"\"\"; '10', 'a' \n",
    "### 리스트 자료형 : 여러개의 데이터(자료)를 저장할 수 있는 자료형 : []\n",
    "i = 1 # 정수\n",
    "s = '1' # 문자\n",
    "l = [1] # 리스트\n",
    "print(i)\n",
    "print(s + str(1))\n",
    "print(l + [1]) \n",
    "a = [1,2,3,4] # 정수값을 가진 리스트 자료형\n",
    "print(a)\n",
    "a = [\"이숭무\",\"이상범\",\"이장범\"] # 문자열을 가지고 있는 리스트 자료형\n",
    "print(a)\n",
    "a  = [\"이숭무\" , 35 , 175.5 , [1,2,3] ] # 혼합형 리스트 자료형\n",
    "print(a)\n",
    "a = [[1,2,3], [4,5,6]] # 리스트를 가진 리스트 자료형\n",
    "a = [] # 빈리스트\n",
    "print(a)\n",
    "a = \"Life:is:too:short\"\n",
    "print(a.split(\":\")) # 문자열을 split하게 되면 결과를 리스트로 가져온다."
   ]
  },
  {
   "cell_type": "code",
   "execution_count": 237,
   "id": "b0e35063",
   "metadata": {},
   "outputs": [
    {
     "name": "stdout",
     "output_type": "stream",
     "text": [
      "e\n",
      "e is \n",
      "3\n",
      "13\n",
      "6\n",
      "4\n",
      "3\n",
      "7\n",
      "Life\n",
      "is\n",
      "Lifeis\n",
      "too\n"
     ]
    }
   ],
   "source": [
    "a = \"Life is too short\"\n",
    "#    01234567890123456\n",
    "#              1\n",
    "print(a[3])\n",
    "print(a[3:8])\n",
    "l = [1,2,3,4,5,6] #  리스트 안에 있는 값을 요소\n",
    "#    0 1 2 3 4 5 index\n",
    "#    6 5 4 3 2 1 (-)\n",
    "print(l[2]) # index로 요소를 가지고 오면 요소 자신의 자료형을 가진다.\n",
    "print(l[2] + 10)\n",
    "print(l[-1])\n",
    "print(l[-3])\n",
    "print(l[-4])\n",
    "print(l[1] + l[-2])  # 2 + 5 = 7\n",
    "l1 = ['Life', 'is', 'too', 'short']\n",
    "#       0       1     2       3\n",
    "#       4       3     2       1  (-)\n",
    "print(l1[0])\n",
    "print(l1[1])\n",
    "print(l1[0] + l1[1])\n",
    "print(l1[-2])"
   ]
  },
  {
   "cell_type": "code",
   "execution_count": 246,
   "id": "b08060ea",
   "metadata": {},
   "outputs": [
    {
     "name": "stdout",
     "output_type": "stream",
     "text": [
      "1\n",
      "2\n",
      "3\n",
      "['a', 'b', 'c']\n",
      "b\n",
      "b\n",
      "b\n",
      "b\n"
     ]
    }
   ],
   "source": [
    "a = [1, 2, 3, ['a', 'b', 'c']]\n",
    "#    0  1  2         3\n",
    "#               0    1    2\n",
    "#    4  3  2         1         (-)\n",
    "#               3    2    1    (-)\n",
    "print(a[0])\n",
    "print(a[1])\n",
    "print(a[2])\n",
    "print(a[3]) # ['a', 'b', 'c']\n",
    "#               0    1    2\n",
    "print(['a', 'b', 'c'][1])\n",
    "print(a[3][1])\n",
    "print(a[-1][-2])\n",
    "print(a[-1][1])"
   ]
  },
  {
   "cell_type": "code",
   "execution_count": 248,
   "id": "9a44ffdd",
   "metadata": {},
   "outputs": [
    {
     "name": "stdout",
     "output_type": "stream",
     "text": [
      "Life\n",
      "f\n"
     ]
    }
   ],
   "source": [
    "a = [1, 2, ['a', 'b', ['Life', 'is']]]\n",
    "#    0  1            2\n",
    "#            0    1         2\n",
    "#                        0       1\n",
    "# 'Life'를 출력하세요.\n",
    "print(a[2][2][0]) # Life\n",
    "# f를 출력\n",
    "print(a[2][2][0][2])"
   ]
  },
  {
   "cell_type": "code",
   "execution_count": 251,
   "id": "ee45f8b3",
   "metadata": {},
   "outputs": [
    {
     "name": "stdout",
     "output_type": "stream",
     "text": [
      "too\n",
      "[2]\n",
      "[2, 3, 4]\n"
     ]
    }
   ],
   "source": [
    "### 리스트의 슬라이싱\n",
    "a ='Life is too short'\n",
    "### 01234567890123456\n",
    "##            1\n",
    "print(a[8: 8+ 3])\n",
    "l = [1,2,3,4,5]\n",
    "#    0 1 2 3 4\n",
    "print(l[1 : 1 + 1]) # slicing은 결과를 리스트로 가져옴\n",
    "print(l[1 : 1 + 3])"
   ]
  },
  {
   "cell_type": "code",
   "execution_count": 254,
   "id": "68d5d42b",
   "metadata": {},
   "outputs": [
    {
     "name": "stdout",
     "output_type": "stream",
     "text": [
      "[3, ['a', 'b', 'c'], 4]\n",
      "['a', 'b', 'c']\n",
      "['a', 'b', 'c']\n",
      "b\n",
      "b\n"
     ]
    }
   ],
   "source": [
    "# idexing과 slicing을 혼합해서 사용\n",
    "a = [1, 2, 3, ['a', 'b', 'c'], 4, 5]\n",
    "#    0  1  2         3         4  5\n",
    "#               0    1    2\n",
    "\n",
    "# [3, ['a', 'b', 'c'], 4]를 출력\n",
    "print(a[2:2+3]) # [3, ['a', 'b', 'c'], 4]\n",
    "#                  0         1         2\n",
    "# ['a', 'b', 'c']를 출력\n",
    "print(a[2:2+3][1])\n",
    "print(a[3])\n",
    "# 'b'를 출력\n",
    "print(a[2:2+3][1][1])\n",
    "print(a[3][1])"
   ]
  },
  {
   "cell_type": "code",
   "execution_count": 258,
   "id": "58f35066",
   "metadata": {},
   "outputs": [
    {
     "name": "stdout",
     "output_type": "stream",
     "text": [
      "['b', 'c']\n",
      "['b', 'c']\n",
      "['b', 'c']\n"
     ]
    }
   ],
   "source": [
    "a = [1, 2, 3, ['a', 'b', 'c'], 4, 5]\n",
    "#    0  1  2         3         4  5\n",
    "#               0    1    2\n",
    "#    6  5  4         3         2   1(-)\n",
    "#               3    2    1 (-)\n",
    "# ['b', 'c']를 출력하세요.\n",
    "print(a[3][1:1+2])\n",
    "print(a[3][1:])\n",
    "print(a[-3][-2:])"
   ]
  },
  {
   "cell_type": "code",
   "execution_count": null,
   "id": "e9bae550",
   "metadata": {},
   "outputs": [],
   "source": []
  },
  {
   "cell_type": "code",
   "execution_count": null,
   "id": "bd0f130f",
   "metadata": {},
   "outputs": [],
   "source": []
  },
  {
   "cell_type": "code",
   "execution_count": null,
   "id": "95e3211e",
   "metadata": {},
   "outputs": [],
   "source": []
  }
 ],
 "metadata": {
  "kernelspec": {
   "display_name": "Python 3 (ipykernel)",
   "language": "python",
   "name": "python3"
  },
  "language_info": {
   "codemirror_mode": {
    "name": "ipython",
    "version": 3
   },
   "file_extension": ".py",
   "mimetype": "text/x-python",
   "name": "python",
   "nbconvert_exporter": "python",
   "pygments_lexer": "ipython3",
   "version": "3.10.4"
  }
 },
 "nbformat": 4,
 "nbformat_minor": 5
}
