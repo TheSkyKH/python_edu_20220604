{
 "cells": [
  {
   "cell_type": "code",
   "execution_count": 1,
   "id": "fe96ad24",
   "metadata": {},
   "outputs": [
    {
     "name": "stderr",
     "output_type": "stream",
     "text": [
      "C:\\Users\\soldesk\\AppData\\Local\\Temp\\ipykernel_4836\\627556072.py:1: DeprecationWarning: Importing display from IPython.core.display is deprecated since IPython 7.14, please import from IPython display\n",
      "  from IPython.core.display import display, HTML\n"
     ]
    },
    {
     "data": {
      "text/html": [
       "<style>\n",
       "div.container { width:100% !important; }\n",
       "div.CodeMirror {font-family: Consolas; font-size: 25pt;}\n",
       "div.output { font-size: 20pt; font-weight: bold;}\n",
       "div.input { font-family: Consolas; font-size: 25pt;}\n",
       "div.prompt { min-width: 100px;}\n",
       "</style>\n"
      ],
      "text/plain": [
       "<IPython.core.display.HTML object>"
      ]
     },
     "metadata": {},
     "output_type": "display_data"
    }
   ],
   "source": [
    "from IPython.core.display import display, HTML\n",
    "display(HTML(\n",
    "\"\"\"<style>\n",
    "div.container { width:100% !important; }\n",
    "div.CodeMirror {font-family: Consolas; font-size: 25pt;}\n",
    "div.output { font-size: 20pt; font-weight: bold;}\n",
    "div.input { font-family: Consolas; font-size: 25pt;}\n",
    "div.prompt { min-width: 100px;}\n",
    "</style>\n",
    "\"\"\"))"
   ]
  },
  {
   "cell_type": "code",
   "execution_count": 5,
   "id": "98f5ef49",
   "metadata": {},
   "outputs": [
    {
     "name": "stdout",
     "output_type": "stream",
     "text": [
      "3 * 1 = 3\n",
      "3 * 2 = 6\n",
      "3 * 3 = 9\n",
      "3 * 4 = 12\n",
      "3 * 5 = 15\n",
      "3 * 6 = 18\n",
      "3 * 7 = 21\n",
      "3 * 8 = 24\n",
      "3 * 9 = 27\n",
      "4 * 1 = 4\n",
      "4 * 2 = 8\n",
      "4 * 3 = 12\n",
      "4 * 4 = 16\n",
      "4 * 5 = 20\n",
      "4 * 6 = 24\n",
      "4 * 7 = 28\n",
      "4 * 8 = 32\n",
      "4 * 9 = 36\n",
      "5 * 1 = 5\n",
      "5 * 2 = 10\n",
      "5 * 3 = 15\n",
      "5 * 4 = 20\n",
      "5 * 5 = 25\n",
      "5 * 6 = 30\n",
      "5 * 7 = 35\n",
      "5 * 8 = 40\n",
      "5 * 9 = 45\n",
      "6 * 1 = 6\n",
      "6 * 2 = 12\n",
      "6 * 3 = 18\n",
      "6 * 4 = 24\n",
      "6 * 5 = 30\n",
      "6 * 6 = 36\n",
      "6 * 7 = 42\n",
      "6 * 8 = 48\n",
      "6 * 9 = 54\n"
     ]
    }
   ],
   "source": [
    "# 3단을 출력하시오\n",
    "i = 1\n",
    "while i <= 9:\n",
    "    print(f\"3 * {i} = {3 * i}\")\n",
    "    i += 1\n",
    "# 4단을 출력하시오\n",
    "i = 1\n",
    "while i <= 9:\n",
    "    print(f\"4 * {i} = {4 * i}\")\n",
    "    i += 1\n",
    "# 5단을 출력하시오\n",
    "i = 1\n",
    "while i <= 9:\n",
    "    print(f\"5 * {i} = {5 * i}\")\n",
    "    i += 1\n",
    "# 6단을 출력하시오\n",
    "i = 1\n",
    "while i <= 9:\n",
    "    print(f\"6 * {i} = {6 * i}\")\n",
    "    i += 1"
   ]
  },
  {
   "cell_type": "code",
   "execution_count": 6,
   "id": "d2695100",
   "metadata": {},
   "outputs": [
    {
     "name": "stdout",
     "output_type": "stream",
     "text": [
      "3 * 1 = 3\n",
      "3 * 2 = 6\n",
      "3 * 3 = 9\n",
      "3 * 4 = 12\n",
      "3 * 5 = 15\n",
      "3 * 6 = 18\n",
      "3 * 7 = 21\n",
      "3 * 8 = 24\n",
      "3 * 9 = 27\n",
      "3 * 1 = 3\n",
      "3 * 2 = 6\n",
      "3 * 3 = 9\n",
      "3 * 4 = 12\n",
      "3 * 5 = 15\n",
      "3 * 6 = 18\n",
      "3 * 7 = 21\n",
      "3 * 8 = 24\n",
      "3 * 9 = 27\n",
      "3 * 1 = 3\n",
      "3 * 2 = 6\n",
      "3 * 3 = 9\n",
      "3 * 4 = 12\n",
      "3 * 5 = 15\n",
      "3 * 6 = 18\n",
      "3 * 7 = 21\n",
      "3 * 8 = 24\n",
      "3 * 9 = 27\n",
      "3 * 1 = 3\n",
      "3 * 2 = 6\n",
      "3 * 3 = 9\n",
      "3 * 4 = 12\n",
      "3 * 5 = 15\n",
      "3 * 6 = 18\n",
      "3 * 7 = 21\n",
      "3 * 8 = 24\n",
      "3 * 9 = 27\n"
     ]
    }
   ],
   "source": [
    "# 2중 반복문\n",
    "dan = 3\n",
    "while dan <= 6:\n",
    "    i = 1\n",
    "    while i <= 9:\n",
    "        print(f\"3 * {i} = {3 * i}\")\n",
    "        i += 1\n",
    "    dan += 1"
   ]
  },
  {
   "cell_type": "code",
   "execution_count": null,
   "id": "fc90763c",
   "metadata": {},
   "outputs": [],
   "source": [
    "# 2단부터 4단까지 , 곱은 4곱부터 8곱까지만 출력하시오\n",
    "# 2단\n",
    "gop = 4\n",
    "while gop <= 8:\n",
    "    print(f\"2 * {gop} = {2 * gop}\")\n",
    "    gop += 1\n",
    "# 3단\n",
    "gop = 4\n",
    "while gop <= 8:\n",
    "    print(f\"3 * {gop} = {3 * gop}\")\n",
    "    gop += 1\n",
    "# 4단\n",
    "gop = 4\n",
    "while gop <= 8:\n",
    "    print(f\"4 * {gop} = {4 * gop}\")\n",
    "    gop += 1"
   ]
  },
  {
   "cell_type": "code",
   "execution_count": 9,
   "id": "b424ab55",
   "metadata": {},
   "outputs": [
    {
     "name": "stdout",
     "output_type": "stream",
     "text": [
      "2 * 4 = 8\n",
      "2 * 5 = 10\n",
      "2 * 6 = 12\n",
      "2 * 7 = 14\n",
      "2 * 8 = 16\n",
      "3 * 4 = 12\n",
      "3 * 5 = 15\n",
      "3 * 6 = 18\n",
      "3 * 7 = 21\n",
      "3 * 8 = 24\n",
      "4 * 4 = 16\n",
      "4 * 5 = 20\n",
      "4 * 6 = 24\n",
      "4 * 7 = 28\n",
      "4 * 8 = 32\n"
     ]
    }
   ],
   "source": [
    "dan = 2\n",
    "while dan <= 4:\n",
    "    gop = 4\n",
    "    while gop <= 8:\n",
    "        print(f\"{dan} * {gop} = {dan * gop}\")\n",
    "        gop += 1\n",
    "    dan +=1"
   ]
  },
  {
   "cell_type": "code",
   "execution_count": 10,
   "id": "d3a627d2",
   "metadata": {},
   "outputs": [
    {
     "name": "stdout",
     "output_type": "stream",
     "text": [
      "시작단을 입력해주세요4\n",
      "끝단을 입력해주세요7\n",
      "시작곱을 입력해주세요5\n",
      "끝곱을 입력해주세요7\n",
      "4 * 5 = 20\n",
      "4 * 6 = 24\n",
      "4 * 7 = 28\n",
      "5 * 5 = 25\n",
      "5 * 6 = 30\n",
      "5 * 7 = 35\n",
      "6 * 5 = 30\n",
      "6 * 6 = 36\n",
      "6 * 7 = 42\n",
      "7 * 5 = 35\n",
      "7 * 6 = 42\n",
      "7 * 7 = 49\n"
     ]
    }
   ],
   "source": [
    "startDan = int(input(\"시작단을 입력해주세요\"))\n",
    "endDan = int(input(\"끝단을 입력해주세요\"))\n",
    "startGop = int(input(\"시작곱을 입력해주세요\"))\n",
    "endGop = int(input(\"끝곱을 입력해주세요\"))\n",
    "dan = startDan\n",
    "while dan <= endDan:\n",
    "    gop = startGop\n",
    "    while gop <= endGop:\n",
    "        print(f\"{dan} * {gop} = {dan * gop}\")\n",
    "        gop += 1\n",
    "    dan +=1"
   ]
  },
  {
   "cell_type": "code",
   "execution_count": 46,
   "id": "a2432790",
   "metadata": {},
   "outputs": [
    {
     "name": "stdout",
     "output_type": "stream",
     "text": [
      "[1, 2, 3, 4, 5, 6, 7, 8, 9, 10, 11, 12, 13, 14, 15, 16, 17, 18, 19, 20, 21, 22, 23, 24, 25, 26, 27, 28, 29, 30, 31, 32, 33, 34, 35, 36, 37, 38, 39, 40, 41, 42, 43, 44, 45]\n",
      "43, 39, 38, 25, 8, 35, "
     ]
    }
   ],
   "source": [
    "import random\n",
    "lotto = [] #빈 리스트\n",
    "i = 1\n",
    "while i <= 45:\n",
    "    lotto.append(i)\n",
    "    i += 1\n",
    "print(lotto)\n",
    "# idx = random.randint(0, 44) # 0 ~ 44\n",
    "# lottonum = lotto[idx] # 복원 추출\n",
    "# lottonum = lotto.pop(idx) # 비복원 추출\n",
    "# print(lottonum)\n",
    "# print(lotto)\n",
    "lottosize = len(lotto) # 45\n",
    "i = 1\n",
    "while i <= 6:\n",
    "    lottosize -= 1\n",
    "    idx = random.randint(0, lottosize)\n",
    "    lottonum = lotto.pop(idx)\n",
    "    print(lottonum, end=\", \")\n",
    "    i += 1"
   ]
  },
  {
   "cell_type": "code",
   "execution_count": 51,
   "id": "649ca6fc",
   "metadata": {},
   "outputs": [
    {
     "name": "stdout",
     "output_type": "stream",
     "text": [
      "구매 수량을 입력해주세요5\n",
      "40, 10, 39, 25, 20, 7, \n",
      "19, 17, 22, 35, 8, 36, \n",
      "4, 8, 12, 37, 16, 39, \n",
      "42, 4, 17, 40, 31, 37, \n",
      "41, 32, 5, 21, 2, 22, \n"
     ]
    }
   ],
   "source": [
    "import random\n",
    "lotto = []\n",
    "qty = int(input(\"구매 수량을 입력해주세요\"))\n",
    "cnt = 1\n",
    "while cnt <= qty:\n",
    "    i = 1\n",
    "    while i <= 45:\n",
    "        lotto.append(i)\n",
    "        i += 1\n",
    "    lottosize = len(lotto) # 45\n",
    "    i = 1\n",
    "    while i <= 6:\n",
    "        lottosize -= 1\n",
    "        idx = random.randint(0, lottosize)\n",
    "        lottonum = lotto.pop(idx)\n",
    "        print(lottonum, end=\", \")\n",
    "        i += 1\n",
    "    lotto.clear()\n",
    "    cnt += 1\n",
    "    print()"
   ]
  },
  {
   "cell_type": "code",
   "execution_count": 53,
   "id": "b5c39eed",
   "metadata": {},
   "outputs": [
    {
     "name": "stdout",
     "output_type": "stream",
     "text": [
      "5050\n"
     ]
    }
   ],
   "source": [
    "### 1 ~ 100까지의 합을 구하시오.\n",
    "i = 1\n",
    "sum1 = 0\n",
    "while i <= 100:\n",
    "    sum1 += i\n",
    "    i += 1\n",
    "print(sum1)"
   ]
  },
  {
   "cell_type": "code",
   "execution_count": 55,
   "id": "5d16c106",
   "metadata": {},
   "outputs": [
    {
     "name": "stdout",
     "output_type": "stream",
     "text": [
      "5050\n"
     ]
    }
   ],
   "source": [
    "i = 1\n",
    "sum1 = 0\n",
    "while True:\n",
    "    if i > 100:\n",
    "        break # 반복문을 중지 시킴. break문을 만나면 다음 명령문은 실행되지 않는다.\n",
    "    sum1 += i\n",
    "    i += 1\n",
    "print(sum1)"
   ]
  },
  {
   "cell_type": "code",
   "execution_count": 57,
   "id": "8f035c2b",
   "metadata": {},
   "outputs": [
    {
     "name": "stdout",
     "output_type": "stream",
     "text": [
      "2\n",
      "4\n",
      "6\n",
      "8\n",
      "10\n",
      "12\n",
      "14\n",
      "16\n",
      "18\n",
      "20\n"
     ]
    }
   ],
   "source": [
    "# 1 ~ 20중 짝수만 출력하시오,\n",
    "i = 0\n",
    "while i <= 19:\n",
    "    i += 1\n",
    "    if i % 2 != 0: # 홀수\n",
    "        continue # 다음 명령문은 실행 하지 않고 while문으로 올라간다.\n",
    "    print(i)"
   ]
  },
  {
   "cell_type": "code",
   "execution_count": 58,
   "id": "f2f32cf5",
   "metadata": {},
   "outputs": [
    {
     "name": "stdout",
     "output_type": "stream",
     "text": [
      "1\n",
      "3\n",
      "5\n",
      "7\n",
      "9\n",
      "11\n",
      "13\n",
      "15\n",
      "17\n",
      "19\n"
     ]
    }
   ],
   "source": [
    "# 1 ~ 20중 홀수만 출력하시오.\n",
    "i = 0\n",
    "while i <= 19:\n",
    "    i += 1\n",
    "    if i % 2 == 0: # 짝수\n",
    "        continue # 다음 명령문은 실행 하지 않고 while문으로 올라간다.\n",
    "    print(i)"
   ]
  },
  {
   "cell_type": "code",
   "execution_count": 2,
   "id": "3acdf4d6",
   "metadata": {},
   "outputs": [
    {
     "name": "stdout",
     "output_type": "stream",
     "text": [
      "2500\n",
      "2500\n",
      "2500\n"
     ]
    }
   ],
   "source": [
    "# 1 ~ 100중 홀수의 합을 구하시오.\n",
    "i = 0\n",
    "sum1 = 0\n",
    "while i <= 99:\n",
    "    i += 1\n",
    "    if i % 2 == 0: # 짝수\n",
    "        continue \n",
    "    sum1 += i\n",
    "print(sum1)\n",
    "\n",
    "i = 1\n",
    "sum1 = 0\n",
    "while i <= 100:\n",
    "    if i % 2 != 0:\n",
    "        sum1 += i\n",
    "    i += 1\n",
    "print(sum1)\n",
    "\n",
    "i = 1\n",
    "sum1 = 0\n",
    "while True:\n",
    "    if i > 100:\n",
    "        break\n",
    "    if i % 2 != 0:\n",
    "        sum1 += i\n",
    "    i += 1\n",
    "print(sum1)"
   ]
  },
  {
   "cell_type": "code",
   "execution_count": 3,
   "id": "11676b1e",
   "metadata": {},
   "outputs": [
    {
     "name": "stdout",
     "output_type": "stream",
     "text": [
      "105\n"
     ]
    }
   ],
   "source": [
    "# 리스트에 있는 합을 구하시오\n",
    "l = [1, 43, 5, 56]\n",
    "sum1 = 0\n",
    "    #   0   +  1    = 1\n",
    "sum1 = sum1 + l[0]\n",
    "    #   1   +  43   = 44\n",
    "sum1 = sum1 + l[1]\n",
    "    #   44  + 5     = 49\n",
    "sum1 = sum1 + l[2]\n",
    "sum1 = sum1 + l[3]\n",
    "print(sum1)"
   ]
  },
  {
   "cell_type": "code",
   "execution_count": 11,
   "id": "48e15ebe",
   "metadata": {},
   "outputs": [
    {
     "name": "stdout",
     "output_type": "stream",
     "text": [
      "105\n",
      "105\n"
     ]
    }
   ],
   "source": [
    "l = [1, 43, 5, 56]\n",
    "idx = 0\n",
    "sum1 = 0\n",
    "while idx <= 3:\n",
    "    sum1 += l[idx]\n",
    "    idx += 1\n",
    "print(sum1)\n",
    "\n",
    "idx = 0\n",
    "sum1 = 0\n",
    "cnt = len(l) -1\n",
    "while idx <= cnt :\n",
    "    sum1 += l[idx]\n",
    "    idx += 1\n",
    "print(sum1)"
   ]
  },
  {
   "cell_type": "code",
   "execution_count": 13,
   "id": "785257ef",
   "metadata": {},
   "outputs": [
    {
     "name": "stdout",
     "output_type": "stream",
     "text": [
      "1\n",
      "43\n",
      "5\n",
      "56\n",
      "1\n",
      "43\n",
      "5\n",
      "56\n"
     ]
    }
   ],
   "source": [
    "for num in [1, 43, 5, 56]:\n",
    "    print(num)\n",
    "\n",
    "l = [1, 43, 5, 56]\n",
    "for num in l:\n",
    "    print(num)\n",
    "\n",
    "sum1 = 0\n",
    "for num in l:\n",
    "    sum1 += num\n",
    "print(sum1)\n",
    "# while문은 보통 증가가 있는 범위를 가지는 명령문에서 사용\n",
    "#for문은 리스트나 튜플과 같은 자료형인 경우 사용"
   ]
  },
  {
   "cell_type": "code",
   "execution_count": 14,
   "id": "96a26bd3",
   "metadata": {},
   "outputs": [
    {
     "name": "stdout",
     "output_type": "stream",
     "text": [
      "105\n"
     ]
    }
   ],
   "source": [
    "t = (1, 43, 5, 56)\n",
    "sum1 = 0\n",
    "for num in t:\n",
    "    sum1 += num\n",
    "print(sum1)"
   ]
  },
  {
   "cell_type": "code",
   "execution_count": 16,
   "id": "ecd91846",
   "metadata": {},
   "outputs": [
    {
     "name": "stdout",
     "output_type": "stream",
     "text": [
      "79.0\n",
      "79.0\n"
     ]
    }
   ],
   "source": [
    "# l = [70, 60, 55, 75, 95, 90, 80, 80, 85, 100] 의 평균을 구하시오\n",
    "l = [70, 60, 55, 75, 95, 90, 80, 80, 85, 100]\n",
    "sum1 = 0\n",
    "for num in l:\n",
    "    sum1 += num\n",
    "print(sum1 / len(l))\n",
    "\n",
    "# while\n",
    "idx = 0\n",
    "sum1 = 0\n",
    "while idx <= len(l) -1:\n",
    "    sum1 += l[idx]\n",
    "    idx += 1\n",
    "print(sum1 / len(l))"
   ]
  },
  {
   "cell_type": "code",
   "execution_count": 20,
   "id": "de1e4a74",
   "metadata": {},
   "outputs": [
    {
     "name": "stdout",
     "output_type": "stream",
     "text": [
      "(1, 2)\n",
      "(3, 4)\n",
      "(5, 6)\n",
      "1 2\n",
      "3\n",
      "3 4\n",
      "7\n",
      "5 6\n",
      "11\n"
     ]
    }
   ],
   "source": [
    "l1 = [(1,2),(3,4),(5,6)]\n",
    "for t in l1:\n",
    "    print(t)\n",
    "\n",
    "for (a, b) in l1:\n",
    "    print(a, b)\n",
    "    print(a + b)"
   ]
  },
  {
   "cell_type": "code",
   "execution_count": 22,
   "id": "23048d59",
   "metadata": {},
   "outputs": [
    {
     "name": "stdout",
     "output_type": "stream",
     "text": [
      "1 2 3\n",
      "6\n",
      "3 4 5\n",
      "12\n",
      "5 6 7\n",
      "18\n",
      "1 2 3\n",
      "6\n",
      "3 4 5\n",
      "12\n",
      "5 6 7\n",
      "18\n"
     ]
    }
   ],
   "source": [
    "l1 = [(1,2,3),(3,4,5),(5,6,7)]\n",
    "for (a,b,c) in l1:\n",
    "    print(a, b, c)\n",
    "    print(a+b+c)\n",
    "for num in l1:\n",
    "    print(num[0], num[1], num[2])\n",
    "    print(num[0] + num[1] + num[2])"
   ]
  },
  {
   "cell_type": "code",
   "execution_count": 24,
   "id": "048739f2",
   "metadata": {},
   "outputs": [
    {
     "ename": "ValueError",
     "evalue": "too many values to unpack (expected 2)",
     "output_type": "error",
     "traceback": [
      "\u001b[1;31m---------------------------------------------------------------------------\u001b[0m",
      "\u001b[1;31mValueError\u001b[0m                                Traceback (most recent call last)",
      "Input \u001b[1;32mIn [24]\u001b[0m, in \u001b[0;36m<cell line: 2>\u001b[1;34m()\u001b[0m\n\u001b[0;32m      1\u001b[0m l1 \u001b[38;5;241m=\u001b[39m [(\u001b[38;5;241m1\u001b[39m,\u001b[38;5;241m2\u001b[39m,\u001b[38;5;241m3\u001b[39m),(\u001b[38;5;241m4\u001b[39m,\u001b[38;5;241m5\u001b[39m),(\u001b[38;5;241m5\u001b[39m,\u001b[38;5;241m6\u001b[39m,\u001b[38;5;241m7\u001b[39m)]\n\u001b[1;32m----> 2\u001b[0m \u001b[38;5;28;01mfor\u001b[39;00m (a,b) \u001b[38;5;129;01min\u001b[39;00m l1:\n\u001b[0;32m      3\u001b[0m     \u001b[38;5;28mprint\u001b[39m(a,b,c)\n",
      "\u001b[1;31mValueError\u001b[0m: too many values to unpack (expected 2)"
     ]
    }
   ],
   "source": [
    "l1 = [(1,2,3),(4,5),(5,6,7)]\n",
    "for (a,b) in l1:\n",
    "    print(a,b,c)"
   ]
  },
  {
   "cell_type": "code",
   "execution_count": 27,
   "id": "34cd81f7",
   "metadata": {},
   "outputs": [
    {
     "name": "stdout",
     "output_type": "stream",
     "text": [
      "5050\n",
      "5050\n",
      "2550\n"
     ]
    }
   ],
   "source": [
    "# 1~ 100까지의 합을 구하시오.\n",
    "i = 1\n",
    "sum1 = 0\n",
    "while i <= 100:\n",
    "    sum1 += i\n",
    "    i += 1\n",
    "print(sum1)\n",
    "\n",
    "sum1 = 0\n",
    "for num in range(1, 101): # 1부터 100까지\n",
    "    sum1 += num\n",
    "print(sum1)\n",
    "\n",
    "# 1 ~ 100중 짝수만 더하시오.\n",
    "i = 0\n",
    "sum1 = 0\n",
    "while i <= 99:\n",
    "    i += 1\n",
    "    if i % 2 != 0:\n",
    "        continue\n",
    "    sum1 += i\n",
    "print(sum1)\n",
    "\n",
    "sum1 = 0\n",
    "for num in range(1, 1 + 100):\n",
    "    if num % 2 != 0:\n",
    "        continue\n",
    "    sum1 += i\n",
    "print(sum1)"
   ]
  },
  {
   "cell_type": "code",
   "execution_count": 29,
   "id": "e89bb13c",
   "metadata": {},
   "outputs": [
    {
     "name": "stdout",
     "output_type": "stream",
     "text": [
      "3 * 1 = 3\n",
      "3 * 2 = 6\n",
      "3 * 3 = 9\n",
      "3 * 4 = 12\n",
      "3 * 5 = 15\n",
      "3 * 6 = 18\n",
      "3 * 7 = 21\n",
      "3 * 8 = 24\n",
      "3 * 9 = 27\n",
      "3 * 1 = 3\n",
      "3 * 2 = 6\n",
      "3 * 3 = 9\n",
      "3 * 4 = 12\n",
      "3 * 5 = 15\n",
      "3 * 6 = 18\n",
      "3 * 7 = 21\n",
      "3 * 8 = 24\n",
      "3 * 9 = 27\n",
      "4 * 1 = 4\n",
      "4 * 2 = 8\n",
      "4 * 3 = 12\n",
      "4 * 4 = 16\n",
      "4 * 5 = 20\n",
      "4 * 6 = 24\n",
      "4 * 7 = 28\n",
      "4 * 8 = 32\n",
      "4 * 9 = 36\n",
      "5 * 1 = 5\n",
      "5 * 2 = 10\n",
      "5 * 3 = 15\n",
      "5 * 4 = 20\n",
      "5 * 5 = 25\n",
      "5 * 6 = 30\n",
      "5 * 7 = 35\n",
      "5 * 8 = 40\n",
      "5 * 9 = 45\n"
     ]
    }
   ],
   "source": [
    "# 3단\n",
    "for gop in range(1, 10):\n",
    "    print(f\"3 * {gop} = {3 * gop}\")\n",
    "\n",
    "for dan in range(3, 6):\n",
    "    for gop in range(1, 10):\n",
    "        print(f\"{dan} * {gop} = {dan * gop}\")"
   ]
  },
  {
   "cell_type": "code",
   "execution_count": 32,
   "id": "5871a818",
   "metadata": {},
   "outputs": [
    {
     "name": "stdout",
     "output_type": "stream",
     "text": [
      "시작단을 입력하세요.3\n",
      "끝단을 입력하세요.5\n",
      "시작곱을 입력하세요.3\n",
      "끝곱을 입력하세요.4\n",
      "3 * 3 = 9\n",
      "3 * 4 = 12\n",
      "4 * 3 = 12\n",
      "4 * 4 = 16\n",
      "5 * 3 = 15\n",
      "5 * 4 = 20\n"
     ]
    }
   ],
   "source": [
    "startDan = int(input(\"시작단을 입력하세요.\"))\n",
    "endDan = int(input(\"끝단을 입력하세요.\"))\n",
    "startGop = int(input(\"시작곱을 입력하세요.\"))\n",
    "endGop = int(input(\"끝곱을 입력하세요.\"))\n",
    "\n",
    "for dan in range( startDan, endDan + 1 ):\n",
    "    for gop in range( startGop, endGop + 1 ):\n",
    "        print(f\"{dan} * {gop} = {dan * gop}\")"
   ]
  },
  {
   "cell_type": "code",
   "execution_count": 34,
   "id": "074b284d",
   "metadata": {},
   "outputs": [
    {
     "name": "stdout",
     "output_type": "stream",
     "text": [
      "[3, 6, 9, 12]\n",
      "==============================\n",
      "[3, 6, 9, 12]\n"
     ]
    }
   ],
   "source": [
    "# a퓨플에 있는 값에 3을 곱한 값을 빈 리스트에 저장하시오.\n",
    "a = (1,2,3,4)\n",
    "\n",
    "result = []\n",
    "for num in a:\n",
    "    result.append(num * 3)\n",
    "print(result)\n",
    "\n",
    "# 리스트를 포함한 반복문\n",
    "print(\"=\" * 30)\n",
    "result = [num * 3 for num in a]\n",
    "print(result)"
   ]
  },
  {
   "cell_type": "code",
   "execution_count": 42,
   "id": "5407ad9c",
   "metadata": {},
   "outputs": [
    {
     "name": "stdout",
     "output_type": "stream",
     "text": [
      "[6, 12]\n",
      "[6, 12]\n"
     ]
    }
   ],
   "source": [
    "# a튜플에서 값이 짝수인 것만 3을 곱한 값을 리스트에 추가하시오.\n",
    "a = (1,2,3,4)\n",
    "result = []\n",
    "for num in a: \n",
    "    if num % 2 == 0: result.append(num * 3)\n",
    "print(result)\n",
    "\n",
    "# 리스트를 포함한 반복문\n",
    "result = [num * 3 for num in a \n",
    "                      if num % 2 == 0]\n",
    "print(result)"
   ]
  },
  {
   "cell_type": "code",
   "execution_count": 43,
   "id": "65564bd4",
   "metadata": {},
   "outputs": [
    {
     "name": "stdout",
     "output_type": "stream",
     "text": [
      "90\n",
      "25\n",
      "67\n",
      "45\n",
      "80\n",
      "307\n",
      "307\n"
     ]
    }
   ],
   "source": [
    "marks = [90, 25, 67, 45, 80]\n",
    "for idx in range(len(marks)): # index를 가지고 오는 방법\n",
    "    print(marks[idx])\n",
    "\n",
    "sum1 = 0 \n",
    "for idx in range(len(marks)): # index를 가지고 오는 방법\n",
    "    sum1 += marks[idx]\n",
    "print(sum1)\n",
    "\n",
    "sum1 = 0\n",
    "for num in marks: \n",
    "    sum1 += num\n",
    "print(sum1)"
   ]
  },
  {
   "cell_type": "code",
   "execution_count": 46,
   "id": "eb54ea07",
   "metadata": {},
   "outputs": [
    {
     "name": "stdout",
     "output_type": "stream",
     "text": [
      "[3, 6, 9, 12, 15, 18, 21, 24, 27, 4, 8, 12, 16, 20, 24, 28, 32, 36, 5, 10, 15, 20, 25, 30, 35, 40, 45]\n",
      "[3, 6, 9, 12, 15, 18, 21, 24, 27, 4, 8, 12, 16, 20, 24, 28, 32, 36, 5, 10, 15, 20, 25, 30, 35, 40, 45]\n"
     ]
    }
   ],
   "source": [
    "result = []\n",
    "for dan in range(3, 6):\n",
    "    for gop in range(1, 10):\n",
    "        result.append(dan * gop)\n",
    "print(result)\n",
    "\n",
    "result =[dan * gop for dan in range(3, 6)\n",
    "                   for gop in range(1, 10)]\n",
    "print(result)"
   ]
  },
  {
   "cell_type": "code",
   "execution_count": 47,
   "id": "3a434770",
   "metadata": {},
   "outputs": [
    {
     "name": "stdout",
     "output_type": "stream",
     "text": [
      "13\n"
     ]
    }
   ],
   "source": [
    "# 함수\n",
    "# f(x, y) = 2x + 3y\n",
    "# z = f( 2, 3 )\n",
    "# z : 13\n",
    "def f(x, y) : # 피호출함수\n",
    "    return 2*x + 3*y # 결과값 13\n",
    "\n",
    "z = f( 2, 3 ) # 호출함수 : 13\n",
    "print(z)\n",
    "\n",
    "'''\n",
    "정의 : 피호출 함수 : parameter :입력값\n",
    "def 함수명(param1,param2, param3, ... ): \n",
    "    명령문1\n",
    "    명령문2\n",
    "    ...\n",
    "    result 결과값 # retrun문 뒤에 있는 값은 호출함수에게 전달이 된다.\n",
    "    \n",
    "실행 : 호출함수\n",
    "result = 함수명(arg1,arg2,arg3,... ) \n",
    "print(result)\n",
    "'''"
   ]
  },
  {
   "cell_type": "code",
   "execution_count": 48,
   "id": "450147ec",
   "metadata": {},
   "outputs": [
    {
     "name": "stdout",
     "output_type": "stream",
     "text": [
      "3 * 1 = 3\n",
      "3 * 2 = 6\n",
      "3 * 3 = 9\n",
      "3 * 4 = 12\n",
      "3 * 5 = 15\n",
      "3 * 6 = 18\n",
      "3 * 7 = 21\n",
      "3 * 8 = 24\n",
      "3 * 9 = 27\n"
     ]
    }
   ],
   "source": [
    "# 3단\n",
    "for gop in range(1, 10):\n",
    "    print(f\"3 * {gop} = {3 * gop}\")\n",
    "# 5단\n",
    "for gop in range(1, 10):\n",
    "    print(f\"5 * {gop} = {5 * gop}\")\n",
    "# 9단\n",
    "for gop in range(1, 10):\n",
    "    print(f\"9 * {gop} = {9 * gop}\")"
   ]
  },
  {
   "cell_type": "code",
   "execution_count": 49,
   "id": "ec860eea",
   "metadata": {},
   "outputs": [],
   "source": [
    "def guguDan(dan): # 피호출함수\n",
    "    for gop in range(1, 10):\n",
    "        print(f\"{dan} * {gop} = {dan * gop}\")"
   ]
  },
  {
   "cell_type": "code",
   "execution_count": 52,
   "id": "82fd47d7",
   "metadata": {},
   "outputs": [
    {
     "name": "stdout",
     "output_type": "stream",
     "text": [
      "3 * 1 = 3\n",
      "3 * 2 = 6\n",
      "3 * 3 = 9\n",
      "3 * 4 = 12\n",
      "3 * 5 = 15\n",
      "3 * 6 = 18\n",
      "3 * 7 = 21\n",
      "3 * 8 = 24\n",
      "3 * 9 = 27\n",
      "5 * 1 = 5\n",
      "5 * 2 = 10\n",
      "5 * 3 = 15\n",
      "5 * 4 = 20\n",
      "5 * 5 = 25\n",
      "5 * 6 = 30\n",
      "5 * 7 = 35\n",
      "5 * 8 = 40\n",
      "5 * 9 = 45\n",
      "9 * 1 = 9\n",
      "9 * 2 = 18\n",
      "9 * 3 = 27\n",
      "9 * 4 = 36\n",
      "9 * 5 = 45\n",
      "9 * 6 = 54\n",
      "9 * 7 = 63\n",
      "9 * 8 = 72\n",
      "9 * 9 = 81\n"
     ]
    }
   ],
   "source": [
    "guguDan(3) # 호출함수\n",
    "guguDan(5)\n",
    "guguDan(9)"
   ]
  },
  {
   "cell_type": "code",
   "execution_count": 64,
   "id": "d2383ee3",
   "metadata": {},
   "outputs": [],
   "source": [
    "def gugu3Dan():\n",
    "    for gop in range(1, 10):\n",
    "        print(f\"3 * {gop} = {3 * gop}\")\n",
    "def gugu8Dan():\n",
    "    for gop in range(1, 10):\n",
    "        print(f\"8 * {gop} = {8 * gop}\")"
   ]
  },
  {
   "cell_type": "code",
   "execution_count": null,
   "id": "822d375b",
   "metadata": {},
   "outputs": [],
   "source": [
    "gugu3Dan()\n",
    "gugu3Dan()\n",
    "gugu3Dan()\n",
    "gugu8Dan()\n",
    "gugu8Dan()"
   ]
  },
  {
   "cell_type": "code",
   "execution_count": 66,
   "id": "4348bddc",
   "metadata": {},
   "outputs": [],
   "source": [
    "### 함수를 만드는 4가지 형식\n",
    "'''1. 일반적인 형식 : 입력값이 있고 결과값이 있는 함수'''\n",
    "def f(x): #x는 parameter이고 입력값이다.\n",
    "    return 3 + x * 5"
   ]
  },
  {
   "cell_type": "code",
   "execution_count": 68,
   "id": "23ec716c",
   "metadata": {},
   "outputs": [
    {
     "name": "stdout",
     "output_type": "stream",
     "text": [
      "43\n"
     ]
    }
   ],
   "source": [
    "result = f(8)\n",
    "print(result)"
   ]
  },
  {
   "cell_type": "code",
   "execution_count": 69,
   "id": "c38d731f",
   "metadata": {},
   "outputs": [],
   "source": [
    "def add1(x, y):\n",
    "    z = x + y\n",
    "    return z"
   ]
  },
  {
   "cell_type": "code",
   "execution_count": 70,
   "id": "08c76a00",
   "metadata": {},
   "outputs": [
    {
     "name": "stdout",
     "output_type": "stream",
     "text": [
      "8\n"
     ]
    }
   ],
   "source": [
    "result = add1(3, 5)\n",
    "print(result)"
   ]
  },
  {
   "cell_type": "code",
   "execution_count": 71,
   "id": "5c17444b",
   "metadata": {},
   "outputs": [
    {
     "name": "stdout",
     "output_type": "stream",
     "text": [
      "13\n"
     ]
    }
   ],
   "source": [
    "result = add1(8, 5)\n",
    "print(result)"
   ]
  },
  {
   "cell_type": "code",
   "execution_count": 73,
   "id": "2bfac801",
   "metadata": {},
   "outputs": [],
   "source": [
    "'''2. 입력값은 없지만 결과값이 있다.'''\n",
    "def add2():\n",
    "    x = 2\n",
    "    y = 5\n",
    "    return x + y"
   ]
  },
  {
   "cell_type": "code",
   "execution_count": 74,
   "id": "7660d81c",
   "metadata": {},
   "outputs": [
    {
     "name": "stdout",
     "output_type": "stream",
     "text": [
      "7\n"
     ]
    }
   ],
   "source": [
    "result = add2()\n",
    "print(result)"
   ]
  },
  {
   "cell_type": "code",
   "execution_count": 75,
   "id": "de93957a",
   "metadata": {},
   "outputs": [],
   "source": [
    "def add2():\n",
    "    x = int(input(\"숫자를 입력해주세요\"))\n",
    "    y = int(input(\"숫자를 입력해주세요\"))\n",
    "    return x + y"
   ]
  },
  {
   "cell_type": "code",
   "execution_count": 76,
   "id": "24d5a3d5",
   "metadata": {},
   "outputs": [
    {
     "name": "stdout",
     "output_type": "stream",
     "text": [
      "숫자를 입력해주세요3\n",
      "숫자를 입력해주세요5\n",
      "8\n"
     ]
    }
   ],
   "source": [
    "result = add2()\n",
    "print(result)"
   ]
  },
  {
   "cell_type": "code",
   "execution_count": 77,
   "id": "2209b0a5",
   "metadata": {},
   "outputs": [
    {
     "name": "stdout",
     "output_type": "stream",
     "text": [
      "숫자를 입력해주세요10\n",
      "숫자를 입력해주세요20\n",
      "30\n"
     ]
    }
   ],
   "source": [
    "result = add2() # 재 사용\n",
    "print(result)"
   ]
  },
  {
   "cell_type": "code",
   "execution_count": 78,
   "id": "9133f9bf",
   "metadata": {},
   "outputs": [],
   "source": [
    "'''3.입력 값은 있으나 결과값이 없다.'''\n",
    "def add3(x, y):\n",
    "    z = x + y\n",
    "    print(z)"
   ]
  },
  {
   "cell_type": "code",
   "execution_count": 80,
   "id": "aaa9e6e1",
   "metadata": {},
   "outputs": [
    {
     "name": "stdout",
     "output_type": "stream",
     "text": [
      "30\n"
     ]
    }
   ],
   "source": [
    "add3(10, 20)"
   ]
  },
  {
   "cell_type": "code",
   "execution_count": 82,
   "id": "233a35db",
   "metadata": {},
   "outputs": [],
   "source": [
    "'''4. 입력값도 없고 결과값도 없다.'''\n",
    "def add4():\n",
    "    x = 3\n",
    "    y = 5\n",
    "    z = x + y\n",
    "    print(z)"
   ]
  },
  {
   "cell_type": "code",
   "execution_count": 83,
   "id": "8468c919",
   "metadata": {},
   "outputs": [
    {
     "name": "stdout",
     "output_type": "stream",
     "text": [
      "8\n"
     ]
    }
   ],
   "source": [
    "add4()"
   ]
  },
  {
   "cell_type": "code",
   "execution_count": 84,
   "id": "ca7f7101",
   "metadata": {},
   "outputs": [],
   "source": [
    "def add4():\n",
    "    x = int(input(\"숫자를 입력해 주세요\"))\n",
    "    y = int(input(\"숫자를 입력해 주세요\"))\n",
    "    z = x + y\n",
    "    print(z)"
   ]
  },
  {
   "cell_type": "code",
   "execution_count": 85,
   "id": "eee6d96a",
   "metadata": {},
   "outputs": [
    {
     "name": "stdout",
     "output_type": "stream",
     "text": [
      "숫자를 입력해 주세요10\n",
      "숫자를 입력해 주세요20\n",
      "30\n"
     ]
    }
   ],
   "source": [
    "add4()"
   ]
  },
  {
   "cell_type": "code",
   "execution_count": 95,
   "id": "91d48b29",
   "metadata": {},
   "outputs": [
    {
     "name": "stdout",
     "output_type": "stream",
     "text": [
      "41, 1, 7, 3, 36, 11, "
     ]
    }
   ],
   "source": [
    "import random\n",
    "lotto = [n for n in range(1, 1 + 45) ]\n",
    "lottoSize = len(lotto)\n",
    "j = 1\n",
    "while j <= 6:\n",
    "    lottoSize -= 1\n",
    "    idx = random.randint(0, lottoSize) #index\n",
    "    num = lotto.pop(idx)\n",
    "    print(num , end=\", \")\n",
    "    j += 1"
   ]
  },
  {
   "cell_type": "code",
   "execution_count": 99,
   "id": "fe97c7f5",
   "metadata": {},
   "outputs": [],
   "source": [
    "def lottofnc():\n",
    "    lotto = [n for n in range(1, 1 + 45) ]\n",
    "    lottoSize = len(lotto)\n",
    "    j = 1\n",
    "    while j <= 6:\n",
    "        lottoSize -= 1\n",
    "        idx = random.randint(0, lottoSize) #index\n",
    "        num = lotto.pop(idx)\n",
    "        print(num , end=\", \")\n",
    "        j += 1 \n",
    "    print()"
   ]
  },
  {
   "cell_type": "code",
   "execution_count": 103,
   "id": "a0ae5f3c",
   "metadata": {},
   "outputs": [
    {
     "name": "stdout",
     "output_type": "stream",
     "text": [
      "구매수량을 입력해주세요6\n",
      "24, 42, 45, 23, 39, 29, \n",
      "22, 41, 8, 2, 43, 11, \n",
      "11, 40, 21, 31, 44, 16, \n",
      "10, 7, 35, 36, 24, 26, \n",
      "2, 41, 18, 15, 43, 9, \n",
      "26, 28, 27, 44, 14, 40, \n"
     ]
    }
   ],
   "source": [
    "cnt = int(input(\"구매수량을 입력해주세요\"))\n",
    "i = 1\n",
    "while i <= cnt:\n",
    "    lottofnc()\n",
    "    i += 1"
   ]
  },
  {
   "cell_type": "code",
   "execution_count": 104,
   "id": "acd0ec7f",
   "metadata": {},
   "outputs": [],
   "source": [
    "def lottoCnt():\n",
    "    cnt = int(input(\"구매수량을 입력해주세요\"))\n",
    "    i = 1\n",
    "    while i <= cnt:\n",
    "        lottofnc()\n",
    "        i += 1"
   ]
  },
  {
   "cell_type": "code",
   "execution_count": 105,
   "id": "b50772ae",
   "metadata": {},
   "outputs": [
    {
     "name": "stdout",
     "output_type": "stream",
     "text": [
      "구매수량을 입력해주세요5\n",
      "8, 17, 9, 26, 12, 16, \n",
      "2, 41, 9, 17, 39, 1, \n",
      "1, 17, 22, 4, 14, 19, \n",
      "45, 38, 32, 44, 12, 24, \n",
      "17, 32, 12, 4, 26, 44, \n"
     ]
    }
   ],
   "source": [
    "lottoCnt()"
   ]
  },
  {
   "cell_type": "code",
   "execution_count": 106,
   "id": "93bdbcc5",
   "metadata": {},
   "outputs": [
    {
     "name": "stdout",
     "output_type": "stream",
     "text": [
      "5050\n"
     ]
    }
   ],
   "source": [
    "# 1~~~100, 1~~~~1000, 50~~~~1000 에 해당하는 합계 값을 구하시오.\n",
    "sum1 = 0\n",
    "for i in range(1, 1 + 100):\n",
    "    sum1 += i\n",
    "print(sum1)"
   ]
  },
  {
   "cell_type": "code",
   "execution_count": 107,
   "id": "08a84441",
   "metadata": {},
   "outputs": [],
   "source": [
    "def sum2(start, end):\n",
    "    sum1 = 0\n",
    "    for i in range(start, end + 1):\n",
    "        sum1 += i\n",
    "    print(sum1)"
   ]
  },
  {
   "cell_type": "code",
   "execution_count": 110,
   "id": "6d5adb59",
   "metadata": {},
   "outputs": [
    {
     "name": "stdout",
     "output_type": "stream",
     "text": [
      "5050\n",
      "500500\n",
      "499275\n"
     ]
    }
   ],
   "source": [
    "sum2(1, 100)\n",
    "sum2(1, 1000)\n",
    "sum2(50, 1000)"
   ]
  },
  {
   "cell_type": "code",
   "execution_count": 111,
   "id": "87ac162e",
   "metadata": {},
   "outputs": [],
   "source": [
    "def sum3(start, end):\n",
    "    sum1 = 0\n",
    "    for i in range(start, end + 1):\n",
    "        sum1 += i\n",
    "    return sum1"
   ]
  },
  {
   "cell_type": "code",
   "execution_count": 117,
   "id": "f9fca855",
   "metadata": {},
   "outputs": [
    {
     "name": "stdout",
     "output_type": "stream",
     "text": [
      "5050\n",
      "500500\n",
      "499275\n"
     ]
    }
   ],
   "source": [
    "result = sum3(1, 100)\n",
    "print(result)\n",
    "result = sum3(1, 1000)\n",
    "print(result)\n",
    "result = sum3(50, 1000)\n",
    "print(result)"
   ]
  },
  {
   "cell_type": "code",
   "execution_count": 113,
   "id": "f6cb9d21",
   "metadata": {},
   "outputs": [
    {
     "name": "stdout",
     "output_type": "stream",
     "text": [
      "499275\n"
     ]
    }
   ],
   "source": [
    "result = sum3(end = 1000, start = 50) # argument에 parameter를 지정한 경우 순서는 상관 없다.\n",
    "print(result)"
   ]
  },
  {
   "cell_type": "code",
   "execution_count": 174,
   "id": "bd49546c",
   "metadata": {},
   "outputs": [],
   "source": [
    "def sum11( *para1): #튜플로 받아온다.\n",
    "    print(\"para = \", para)\n",
    "    sum1 = 0\n",
    "    for num in para:\n",
    "        sum1 += num\n",
    "    print(sum1)"
   ]
  },
  {
   "cell_type": "code",
   "execution_count": 146,
   "id": "180f74b8",
   "metadata": {},
   "outputs": [
    {
     "name": "stdout",
     "output_type": "stream",
     "text": [
      "para =  (1, 2)\n",
      "3\n",
      "para =  (1, 2, 3)\n",
      "6\n",
      "para =  (1, 2, 3, 4)\n",
      "10\n",
      "para =  (1, 2, 3, 4, 5, 6, 7, 8, 9, 10)\n",
      "55\n"
     ]
    }
   ],
   "source": [
    "sum11(1,2)\n",
    "sum11(1,2,3)\n",
    "sum11(1,2,3,4)\n",
    "sum11(1,2,3,4,5,6,7,8,9,10)"
   ]
  },
  {
   "cell_type": "code",
   "execution_count": 181,
   "id": "792674b8",
   "metadata": {},
   "outputs": [],
   "source": [
    "def sum12(opt, *para):\n",
    "    print(\"opt = \" , opt)\n",
    "    print(\"para = \", para)\n",
    "    result = 2\n",
    "    if opt == \"add\":\n",
    "        # result += para   # result = result + para : result = int + tuple\n",
    "        for num in para:\n",
    "            result += num\n",
    "    elif opt == \"mul\":\n",
    "        for num in para:\n",
    "            result *= num\n",
    "    print(result)"
   ]
  },
  {
   "cell_type": "code",
   "execution_count": 182,
   "id": "5c194828",
   "metadata": {},
   "outputs": [
    {
     "name": "stdout",
     "output_type": "stream",
     "text": [
      "opt =  add\n",
      "para =  (1, 2, 3)\n",
      "8\n",
      "opt =  mul\n",
      "para =  (1, 2, 3, 4, 5, 6)\n",
      "1440\n"
     ]
    }
   ],
   "source": [
    "sum12(\"add\", 1,2,3)\n",
    "sum12(\"mul\", 1,2,3,4,5,6 )"
   ]
  },
  {
   "cell_type": "code",
   "execution_count": 138,
   "id": "006d07cc",
   "metadata": {},
   "outputs": [],
   "source": [
    "a , b = (10, 20)"
   ]
  },
  {
   "cell_type": "code",
   "execution_count": 180,
   "id": "e476057e",
   "metadata": {},
   "outputs": [
    {
     "name": "stdout",
     "output_type": "stream",
     "text": [
      "1abcd\n"
     ]
    }
   ],
   "source": [
    "t  = (1,2,3,4)\n",
    "#print( 1 + t)\n",
    "str1 = \"abcd\"\n",
    "print( str(1)+ str1)"
   ]
  },
  {
   "cell_type": "code",
   "execution_count": 202,
   "id": "1393268b",
   "metadata": {},
   "outputs": [
    {
     "name": "stdout",
     "output_type": "stream",
     "text": [
      "(1, 2, 3, 4, 5, 6)\n",
      "(1, 2, 3, 1, 2, 3, 1, 2, 3, 1, 2, 3)\n"
     ]
    }
   ],
   "source": [
    "def sum14(opt, *para): # para:튜플 자료형\n",
    "    result = (1,2,3)\n",
    "    if opt == \"add\":\n",
    "        result = result + para   # 튜플 + 튜플\n",
    "    elif opt == \"mul\":\n",
    "        result = result * para[0] # 튜플 * 정수\n",
    "    print(result)\n",
    "sum14(\"add\", 4,5,6)\n",
    "sum14(\"mul\", 4,5,6)"
   ]
  },
  {
   "cell_type": "code",
   "execution_count": 197,
   "id": "d375d867",
   "metadata": {},
   "outputs": [
    {
     "name": "stdout",
     "output_type": "stream",
     "text": [
      "1\n",
      "2\n",
      "3\n",
      "4\n",
      "11\n",
      "(1,)\n"
     ]
    }
   ],
   "source": [
    "t = (1,2,3,4)\n",
    "print((1,2,3,4)[0])\n",
    "print((1,2,3,4)[1])\n",
    "print((1,2,3,4)[2])\n",
    "print((1,2,3,4)[3])\n",
    "print( 1 + (1,2,3,4)[0] + (1,2,3,4)[1] + (1,2,3,4)[2] + (1,2,3,4)[3])\n",
    "# print( 1 + (1,2,3,4)) # 숫자와 튜플은 연산할 수 없다."
   ]
  },
  {
   "cell_type": "code",
   "execution_count": 200,
   "id": "d0a0dca1",
   "metadata": {},
   "outputs": [
    {
     "name": "stdout",
     "output_type": "stream",
     "text": [
      "The original tuple : (1, 4, 5)\n"
     ]
    }
   ],
   "source": [
    "a , b = (10, 20) # 변수 = 튜플"
   ]
  },
  {
   "cell_type": "code",
   "execution_count": 210,
   "id": "2be240bc",
   "metadata": {},
   "outputs": [],
   "source": [
    "### return문에 의해 전달 되는 값은 오로지 하나이다.\n",
    "def add_mul(x, y):\n",
    "    i = x + y\n",
    "    j = x * y\n",
    "    return i, j # 값이 여러개인 경우 튜플로 묶어서 하나의 값으로 반환한다."
   ]
  },
  {
   "cell_type": "code",
   "execution_count": 214,
   "id": "3128a1b0",
   "metadata": {},
   "outputs": [
    {
     "name": "stdout",
     "output_type": "stream",
     "text": [
      "(9, 18)\n",
      "9 18\n",
      "9 18\n"
     ]
    }
   ],
   "source": [
    "result = add_mul(3, 6)\n",
    "print(result)\n",
    "print(result[0], result[1])\n",
    "a, b = add_mul(3, 6)\n",
    "print(a, b)"
   ]
  },
  {
   "cell_type": "code",
   "execution_count": 215,
   "id": "eac39d0f",
   "metadata": {},
   "outputs": [],
   "source": [
    "def add_mul1(x , y):\n",
    "    i = x + y\n",
    "    j = x * y\n",
    "    return i # return은 함수 종료\n",
    "    return j # 함수안에서 return문은 한번만 사용가능하다."
   ]
  },
  {
   "cell_type": "code",
   "execution_count": 216,
   "id": "c4f0fa1d",
   "metadata": {},
   "outputs": [
    {
     "name": "stdout",
     "output_type": "stream",
     "text": [
      "8\n"
     ]
    }
   ],
   "source": [
    "result = add_mul1(3, 5)\n",
    "print(result)"
   ]
  },
  {
   "cell_type": "code",
   "execution_count": 217,
   "id": "fc39175a",
   "metadata": {},
   "outputs": [],
   "source": [
    "#### 매개변수에 초깃값 미리 설정하기 \n",
    "def say_myself(name, old, man = True):\n",
    "    print(\"나의 이름은 %s 입니다.\" % name) \n",
    "    print(\"나이는 %d살입니다.\" % old)\n",
    "    if man:\n",
    "        print(\"남자입니다.\")\n",
    "    else:\n",
    "        print(\"여자입니다\")"
   ]
  },
  {
   "cell_type": "code",
   "execution_count": 220,
   "id": "7ca46f5e",
   "metadata": {},
   "outputs": [
    {
     "name": "stdout",
     "output_type": "stream",
     "text": [
      "나의 이름은 이숭무 입니다.\n",
      "나이는 35살입니다.\n",
      "남자입니다.\n",
      "나의 이름은 이지연 입니다.\n",
      "나이는 35살입니다.\n",
      "여자입니다\n"
     ]
    }
   ],
   "source": [
    "say_myself(\"이숭무\", 35)\n",
    "say_myself(\"이지연\", 35, False)"
   ]
  },
  {
   "cell_type": "code",
   "execution_count": 223,
   "id": "81dc7650",
   "metadata": {},
   "outputs": [
    {
     "ename": "SyntaxError",
     "evalue": "non-default argument follows default argument (3450490253.py, line 1)",
     "output_type": "error",
     "traceback": [
      "\u001b[1;36m  Input \u001b[1;32mIn [223]\u001b[1;36m\u001b[0m\n\u001b[1;33m    def say_myself(name, old = 25, man):\u001b[0m\n\u001b[1;37m                                   ^\u001b[0m\n\u001b[1;31mSyntaxError\u001b[0m\u001b[1;31m:\u001b[0m non-default argument follows default argument\n"
     ]
    }
   ],
   "source": [
    "def say_myself(name, old = 25, man):\n",
    "    print(\"나의 이름은 %s 입니다.\" % name) \n",
    "    print(\"나이는 %d살입니다.\" % old)\n",
    "    if man:\n",
    "        print(\"남자입니다.\")\n",
    "    else:\n",
    "        print(\"여자입니다\")\n",
    "# 중간에 초기값을 가지도록 만들 수는 없다\n",
    "# 매개변수에 초기 값을 가지도록 하기 위해서는 맨뒤에서부터 앞으로 하나씩 초기값을 줘야 한다."
   ]
  },
  {
   "cell_type": "code",
   "execution_count": 224,
   "id": "d923e00b",
   "metadata": {},
   "outputs": [
    {
     "name": "stdout",
     "output_type": "stream",
     "text": [
      "함수 안에서 실행 : 100\n",
      "1\n"
     ]
    }
   ],
   "source": [
    "### 전역변수 : 보통 프로그램이 종료되기 전까지  사용할 수 있는 변수\n",
    "### 지역변수 : 함수가 종료되면 변수도 같이 소멸\n",
    "b = 1 # 전역변수, 글로벌 변수\n",
    "def test4():\n",
    "    b = 100 # 지역변수\n",
    "    print(\"함수 안에서 실행 : %d\" % b)\n",
    "test4()\n",
    "print(b)"
   ]
  },
  {
   "cell_type": "code",
   "execution_count": 225,
   "id": "7de3e2e4",
   "metadata": {},
   "outputs": [
    {
     "name": "stdout",
     "output_type": "stream",
     "text": [
      "함수 안에서 실행 : 100\n",
      "100\n"
     ]
    }
   ],
   "source": [
    "b = 1 # 전역변수, 글로벌 변수\n",
    "def test4():\n",
    "    global b\n",
    "    b = 100 # 지역변수\n",
    "    print(\"함수 안에서 실행 : %d\" % b)\n",
    "test4()\n",
    "print(b)"
   ]
  },
  {
   "cell_type": "code",
   "execution_count": 226,
   "id": "96566353",
   "metadata": {},
   "outputs": [
    {
     "name": "stdout",
     "output_type": "stream",
     "text": [
      "7\n"
     ]
    }
   ],
   "source": [
    "### lambda함수\n",
    "def add(a, b):\n",
    "    return a + b\n",
    "\n",
    "result = add(3, 4)\n",
    "print(result)"
   ]
  },
  {
   "cell_type": "code",
   "execution_count": 229,
   "id": "51944135",
   "metadata": {},
   "outputs": [
    {
     "name": "stdout",
     "output_type": "stream",
     "text": [
      "7\n",
      "7\n",
      "13\n"
     ]
    }
   ],
   "source": [
    "add = lambda a, b : a + b\n",
    "result = add(3, 4)\n",
    "print(result)\n",
    "\n",
    "add = lambda a, b = 4 : a + b\n",
    "result = add(3)\n",
    "print(result)\n",
    "result = add(3, 10)\n",
    "print(result)"
   ]
  },
  {
   "cell_type": "code",
   "execution_count": 231,
   "id": "04ef66d2",
   "metadata": {},
   "outputs": [
    {
     "name": "stdout",
     "output_type": "stream",
     "text": [
      "7\n"
     ]
    }
   ],
   "source": [
    "def add(opt, a, b):\n",
    "    if opt == \"add\":\n",
    "        return a + b\n",
    "    else:\n",
    "        return a - b\n",
    "result = add(\"add\", 4 , 3)\n",
    "print(result)"
   ]
  },
  {
   "cell_type": "code",
   "execution_count": 230,
   "id": "a0a017e6",
   "metadata": {},
   "outputs": [
    {
     "name": "stdout",
     "output_type": "stream",
     "text": [
      "7\n"
     ]
    }
   ],
   "source": [
    "add = lambda opt, a, b : a + b if opt == \"add\" else a - b\n",
    "result = add(\"add\", 4 , 3)\n",
    "print(result)"
   ]
  },
  {
   "cell_type": "code",
   "execution_count": 233,
   "id": "2a05df53",
   "metadata": {},
   "outputs": [
    {
     "name": "stdout",
     "output_type": "stream",
     "text": [
      "7\n"
     ]
    }
   ],
   "source": [
    "def add(opt, a, b):\n",
    "    if opt == \"add\":\n",
    "        return a + b\n",
    "    else:\n",
    "        if opt == \"sub\":\n",
    "            return a - b\n",
    "        else:\n",
    "            if opt == \"mul\":\n",
    "                return a * b\n",
    "            else:\n",
    "                return a / b\n",
    "result = add(\"add\", 4 , 3)\n",
    "print(result)"
   ]
  },
  {
   "cell_type": "code",
   "execution_count": 234,
   "id": "0a7dd7e9",
   "metadata": {},
   "outputs": [
    {
     "name": "stdout",
     "output_type": "stream",
     "text": [
      "7\n"
     ]
    }
   ],
   "source": [
    "add = lambda opt, a, b : a + b if opt == \"add\" else (\n",
    "                         a - b if opt == \"sub\" else (\n",
    "                         a * b if opt == \"mul\" else a / b\n",
    "                         ))\n",
    "result = add(\"add\", 4 , 3)\n",
    "print(result)"
   ]
  },
  {
   "cell_type": "code",
   "execution_count": 235,
   "id": "4e8a38b5",
   "metadata": {},
   "outputs": [],
   "source": [
    "## 파일 입출력\n",
    "## 데이터를 파일에 저장하거나 파일에 있는 데이터를 가져오고자 할 때 사용\n",
    "\n",
    "## 파일에 데이터를 저장\n",
    "# f = open( \"C:\\\\Users\\\\soldesk\\\\Desktop\\\\220604\\\\test.txt\" , \"w\")\n",
    "# f = open( \"C:/Users/soldesk/Desktop/220604/test.txt\" , \"w\") # windows에서만 가능\n",
    "f = open(\"test.txt\" , \"w\")\n",
    "f.write(\"1번째 줄입니다.\\n\")\n",
    "f.write(\"2번째 줄입니다.\\n\")\n",
    "f.write(\"3번째 줄입니다.\\n\")\n",
    "f.write(\"4번째 줄입니다.\\n\")\n",
    "f.write(\"5번째 줄입니다.\\n\")\n",
    "f.close()"
   ]
  },
  {
   "cell_type": "code",
   "execution_count": 236,
   "id": "4ab42551",
   "metadata": {},
   "outputs": [],
   "source": [
    "f = open(\"test.txt\" , \"w\") # 존재하는 파일에 내용 적으면  overwrite가 된다.\n",
    "f.write(\"6번째 줄입니다.\\n\")\n",
    "f.write(\"7번째 줄입니다.\\n\")\n",
    "f.write(\"8번째 줄입니다.\\n\")\n",
    "f.write(\"9번째 줄입니다.\\n\")\n",
    "f.write(\"10번째 줄입니다.\\n\")\n",
    "f.close()"
   ]
  },
  {
   "cell_type": "code",
   "execution_count": 237,
   "id": "fc3bcc36",
   "metadata": {},
   "outputs": [],
   "source": [
    "f = open(\"test.txt\" , \"w\") \n",
    "for num in range(1, 6):\n",
    "    f.write(f\"{num}번째 줄입니다.\\n\")\n",
    "f.close()"
   ]
  },
  {
   "cell_type": "code",
   "execution_count": 238,
   "id": "b118cc71",
   "metadata": {},
   "outputs": [],
   "source": [
    "f = open(\"test.txt\" , \"a\") # append : 파일 내용의 마지막 부터 저장\n",
    "for num in range(6, 11):\n",
    "    f.write(f\"{num}번째 줄입니다.\\n\")\n",
    "f.close()"
   ]
  },
  {
   "cell_type": "code",
   "execution_count": 243,
   "id": "4121be65",
   "metadata": {},
   "outputs": [
    {
     "name": "stdout",
     "output_type": "stream",
     "text": [
      "1번째 줄입니다.\n",
      "\n",
      "2번째 줄입니다.\n",
      "\n",
      "3번째 줄입니다.\n",
      "\n"
     ]
    }
   ],
   "source": [
    "f = open(\"test.txt\" , \"r\") # read\n",
    "line = f.readline()\n",
    "print(line)\n",
    "line = f.readline()\n",
    "print(line)\n",
    "line = f.readline()\n",
    "print(line)\n",
    "f.close()\n",
    "# line = f.readline() # 파일이 닫혀서 오류 발생\n",
    "# print(line)"
   ]
  },
  {
   "cell_type": "code",
   "execution_count": 245,
   "id": "5c8ae976",
   "metadata": {},
   "outputs": [
    {
     "name": "stdout",
     "output_type": "stream",
     "text": [
      "1번째 줄입니다.\n",
      "2번째 줄입니다.\n",
      "3번째 줄입니다.\n",
      "4번째 줄입니다.\n",
      "5번째 줄입니다.\n",
      "6번째 줄입니다.\n",
      "7번째 줄입니다.\n",
      "8번째 줄입니다.\n",
      "9번째 줄입니다.\n",
      "10번째 줄입니다.\n"
     ]
    }
   ],
   "source": [
    "f = open(\"test.txt\" , \"r\") # read\n",
    "while True:\n",
    "    line = f.readline()\n",
    "    if not line:\n",
    "        break\n",
    "    print(line, end=\"\")\n",
    "f.close()"
   ]
  },
  {
   "cell_type": "code",
   "execution_count": 250,
   "id": "e01b100a",
   "metadata": {},
   "outputs": [
    {
     "name": "stdout",
     "output_type": "stream",
     "text": [
      "['1번째 줄입니다.\\n', '2번째 줄입니다.\\n', '3번째 줄입니다.\\n', '4번째 줄입니다.\\n', '5번째 줄입니다.\\n', '6번째 줄입니다.\\n', '7번째 줄입니다.\\n', '8번째 줄입니다.\\n', '9번째 줄입니다.\\n', '10번째 줄입니다.\\n']\n",
      "1번째 줄입니다.\n",
      "2번째 줄입니다.\n",
      "3번째 줄입니다.\n",
      "4번째 줄입니다.\n",
      "5번째 줄입니다.\n",
      "6번째 줄입니다.\n",
      "7번째 줄입니다.\n",
      "8번째 줄입니다.\n",
      "9번째 줄입니다.\n",
      "10번째 줄입니다.\n",
      "==============================\n",
      "h,e,l,l,o\n",
      "1번째 줄입니다.\n",
      "2번째 줄입니다.\n",
      "3번째 줄입니다.\n",
      "4번째 줄입니다.\n",
      "5번째 줄입니다.\n",
      "6번째 줄입니다.\n",
      "7번째 줄입니다.\n",
      "8번째 줄입니다.\n",
      "9번째 줄입니다.\n",
      "10번째 줄입니다.\n",
      "\n"
     ]
    }
   ],
   "source": [
    "f = open(\"test.txt\" , \"r\")\n",
    "lines = f.readlines()\n",
    "f.close()\n",
    "print(lines)\n",
    "for line in lines:\n",
    "    print(line, end=\"\")\n",
    "print(\"=\" * 30)\n",
    "str1 = \"hello\"\n",
    "print(\",\".join(str1))\n",
    "print(\"=\" * 30)\n",
    "# 리스트나 튜플에 있는 요소들을 문자열로 변환 , *****\n",
    "strlines = \"\".join(lines) \n",
    "print(strlines)"
   ]
  },
  {
   "cell_type": "code",
   "execution_count": 259,
   "id": "b9b5d7fd",
   "metadata": {},
   "outputs": [
    {
     "name": "stdout",
     "output_type": "stream",
     "text": [
      "['1번째 줄입니다.\\n', '2번째 줄입니다.\\n', '3번째 줄입니다.\\n', '4번째 줄입니다.\\n', '5번째 줄입니다.\\n', '6번째 줄입니다.\\n', '7번째 줄입니다.\\n', '8번째 줄입니다.\\n', '9번째 줄입니다.\\n', '10번째 줄입니다.\\n']\n",
      "['1번째 줄입니다.\\n', '2번째 줄입니다.\\n', '3번째 줄입니다.\\n', '4번째 줄입니다.\\n', '5번째 줄입니다.\\n', '6번째 줄입니다.\\n', '7번째 줄입니다.\\n', '8번째 줄입니다.\\n', '9번째 줄입니다.\\n', '10번째 줄입니다.\\n']\n",
      "<class 'str'>\n",
      "(1, 2, 3, 4, 5, 6)\n",
      "(\n",
      "<class 'str'>\n"
     ]
    }
   ],
   "source": [
    "print(lines)\n",
    "print(str(lines))\n",
    "print(type(str(lines)))\n",
    "'''\n",
    "['1번째 줄입니다.\\n', '2번째 줄입니다.\\n', '3번째 줄입니다.\\n', '4번째 줄입니다.\\n', \n",
    "'5번째 줄입니다.\\n', '6번째 줄입니다.\\n', '7번째 줄입니다.\\n', '8번째 줄입니다.\\n', \n",
    "'9번째 줄입니다.\\n', '10번째 줄입니다.\\n']\n",
    "'''\n",
    "t = (1,2,3,4,5,6)\n",
    "print(str(t))\n",
    "str2 = str(t)\n",
    "print(str2[0])\n",
    "print(type(str2))"
   ]
  },
  {
   "cell_type": "code",
   "execution_count": 261,
   "id": "4f8637a2",
   "metadata": {},
   "outputs": [
    {
     "name": "stdout",
     "output_type": "stream",
     "text": [
      "1번째 줄입니다.\n",
      "2번째 줄입니다.\n",
      "3번째 줄입니다.\n",
      "4번째 줄입니다.\n",
      "5번째 줄입니다.\n",
      "6번째 줄입니다.\n",
      "7번째 줄입니다.\n",
      "8번째 줄입니다.\n",
      "9번째 줄입니다.\n",
      "10번째 줄입니다.\n",
      "\n",
      "<class 'str'>\n"
     ]
    }
   ],
   "source": [
    "f = open(\"test.txt\" , \"r\")\n",
    "data = f.read()\n",
    "f.close()\n",
    "print(data)\n",
    "print(type(data))"
   ]
  },
  {
   "cell_type": "code",
   "execution_count": null,
   "id": "9eb0f6ea",
   "metadata": {},
   "outputs": [],
   "source": [
    "f = open(\"test.txt\" , \"w\") \n",
    "for num in range(1, 6):\n",
    "    f.write(f\"{num}번째 줄입니다.\\n\")\n",
    "f.close()"
   ]
  },
  {
   "cell_type": "code",
   "execution_count": 262,
   "id": "8d46fea8",
   "metadata": {},
   "outputs": [],
   "source": [
    "with open(\"test.txt\" , \"w\") as f: # f.close()를 사용하지 않아도 되게 하기 위해서\n",
    "    for num in range(1, 6):\n",
    "        f.write(f\"{num}번째 줄입니다.\\n\")"
   ]
  },
  {
   "cell_type": "code",
   "execution_count": 263,
   "id": "74a0c3e0",
   "metadata": {},
   "outputs": [],
   "source": [
    "with open(\"test.txt\" , \"a\") as f: \n",
    "    for num in range(6, 11):\n",
    "        f.write(f\"{num}번째 줄입니다.\\n\")"
   ]
  },
  {
   "cell_type": "code",
   "execution_count": 265,
   "id": "2bb347bf",
   "metadata": {},
   "outputs": [
    {
     "name": "stdout",
     "output_type": "stream",
     "text": [
      "1번째 줄입니다.\n",
      "2번째 줄입니다.\n",
      "3번째 줄입니다.\n",
      "4번째 줄입니다.\n",
      "5번째 줄입니다.\n",
      "6번째 줄입니다.\n",
      "7번째 줄입니다.\n",
      "8번째 줄입니다.\n",
      "9번째 줄입니다.\n",
      "10번째 줄입니다.\n",
      "\n"
     ]
    }
   ],
   "source": [
    "with open(\"test.txt\" , \"r\") as f:\n",
    "    data = f.read()\n",
    "print(data)"
   ]
  },
  {
   "cell_type": "code",
   "execution_count": 275,
   "id": "443ada42",
   "metadata": {},
   "outputs": [
    {
     "name": "stdout",
     "output_type": "stream",
     "text": [
      "8\n"
     ]
    }
   ],
   "source": [
    "#### class는 반복적으로 사용해야 하는 변수와 함수를 묶어 놓것\n",
    "result = 0\n",
    "result = result + 1\n",
    "result = result + 4\n",
    "result = result + 3\n",
    "print(result)"
   ]
  },
  {
   "cell_type": "code",
   "execution_count": 276,
   "id": "c7779ab2",
   "metadata": {},
   "outputs": [
    {
     "name": "stdout",
     "output_type": "stream",
     "text": [
      "38\n",
      "8\n"
     ]
    }
   ],
   "source": [
    "result1 = 0\n",
    "result1 = result1 + 11\n",
    "result1 = result1 + 14\n",
    "result1 = result1 + 13\n",
    "print(result1)\n",
    "print(result)"
   ]
  },
  {
   "cell_type": "code",
   "execution_count": 270,
   "id": "9dc609b9",
   "metadata": {},
   "outputs": [],
   "source": [
    "result = 0\n",
    "def add(num):\n",
    "    global result\n",
    "    result += num"
   ]
  },
  {
   "cell_type": "code",
   "execution_count": 280,
   "id": "d62213f6",
   "metadata": {},
   "outputs": [
    {
     "name": "stdout",
     "output_type": "stream",
     "text": [
      "1\n",
      "5\n",
      "8\n",
      "14\n"
     ]
    }
   ],
   "source": [
    "result = 0\n",
    "add(1)\n",
    "print(result)\n",
    "add(4)\n",
    "print(result)\n",
    "add(3)\n",
    "print(result)\n",
    "add(6)\n",
    "print(result)"
   ]
  },
  {
   "cell_type": "code",
   "execution_count": 278,
   "id": "365b4ee8",
   "metadata": {},
   "outputs": [],
   "source": [
    "result1 = 0\n",
    "def add1(num):\n",
    "    global result1\n",
    "    result1 += num"
   ]
  },
  {
   "cell_type": "code",
   "execution_count": 281,
   "id": "ffb28a75",
   "metadata": {},
   "outputs": [
    {
     "name": "stdout",
     "output_type": "stream",
     "text": [
      "38\n",
      "14\n"
     ]
    }
   ],
   "source": [
    "result1 = 0\n",
    "add1(11)\n",
    "add1(14)\n",
    "add1(13)\n",
    "print(result1)\n",
    "print(result)"
   ]
  },
  {
   "cell_type": "code",
   "execution_count": 289,
   "id": "c696bf1a",
   "metadata": {},
   "outputs": [],
   "source": [
    "class ClassAdd: \n",
    "    result = 10\n",
    "    def add(self, num):\n",
    "        self.result += num"
   ]
  },
  {
   "cell_type": "code",
   "execution_count": 290,
   "id": "97d96629",
   "metadata": {},
   "outputs": [
    {
     "name": "stdout",
     "output_type": "stream",
     "text": [
      "[1, 2, 3, 4]\n"
     ]
    }
   ],
   "source": [
    "a1 = ClassAdd() # result, add()\n",
    "i = 10 # 정수\n",
    "l = [1,2,3,4] # 리스트\n",
    "print(l)"
   ]
  },
  {
   "cell_type": "code",
   "execution_count": 291,
   "id": "9aa49c85",
   "metadata": {},
   "outputs": [
    {
     "name": "stdout",
     "output_type": "stream",
     "text": [
      "10\n",
      "110\n"
     ]
    }
   ],
   "source": [
    "print(a1.result)\n",
    "a1.add(100)\n",
    "print(a1.result)"
   ]
  },
  {
   "cell_type": "code",
   "execution_count": 293,
   "id": "a3a4360a",
   "metadata": {},
   "outputs": [
    {
     "name": "stdout",
     "output_type": "stream",
     "text": [
      "10\n",
      "30\n"
     ]
    }
   ],
   "source": [
    "a2 = ClassAdd() # result, add()\n",
    "print(a2.result)\n",
    "a2.add(20)\n",
    "print(a2.result)"
   ]
  },
  {
   "cell_type": "code",
   "execution_count": 295,
   "id": "9ddbc494",
   "metadata": {},
   "outputs": [
    {
     "name": "stdout",
     "output_type": "stream",
     "text": [
      "10\n",
      "110\n",
      "110\n",
      "30\n",
      "310\n",
      "110\n",
      "30\n"
     ]
    }
   ],
   "source": [
    "a3 = ClassAdd() # result, add()\n",
    "print(a3.result)\n",
    "a3.add(100)\n",
    "print(a3.result)\n",
    "print(a1.result)\n",
    "print(a2.result)\n",
    "a3.add(200)\n",
    "print(a3.result)\n",
    "print(a1.result)\n",
    "print(a2.result)"
   ]
  },
  {
   "cell_type": "code",
   "execution_count": 302,
   "id": "6e88f6fa",
   "metadata": {},
   "outputs": [],
   "source": [
    "# class내에 있는 함수의 매개변수 self\n",
    "class Calculator:\n",
    "    result = 0 # 멤버변수, 멤버필드\n",
    "    def add(self, num): # self는 어느 객체에 있는 변수인지를 알기 위해서 사용\n",
    "        self.result += num # self.result = self.result + num\n",
    "# 파이썬의  self(명시적)는 자바의 this(암시적)와 같다"
   ]
  },
  {
   "cell_type": "code",
   "execution_count": 303,
   "id": "6ed6ea17",
   "metadata": {},
   "outputs": [
    {
     "name": "stdout",
     "output_type": "stream",
     "text": [
      "20\n",
      "400\n"
     ]
    }
   ],
   "source": [
    "cal1 = Calculator() # Calculator()의 객체 \n",
    "cal2 = Calculator()\n",
    "\n",
    "cal1.add(10) # cal1.result = cal1.result + num\n",
    "Calculator.add(cal1, 10) \n",
    "# 객체명을 self에 전달\n",
    "\n",
    "cal2.add(200) # cal2.result = cal2.result + num\n",
    "Calculator.add(cal2, 200)\n",
    "\n",
    "\n",
    "print(cal1.result)\n",
    "print(cal2.result)\n"
   ]
  },
  {
   "cell_type": "code",
   "execution_count": 304,
   "id": "ef0417e8",
   "metadata": {},
   "outputs": [
    {
     "name": "stdout",
     "output_type": "stream",
     "text": [
      "10\n",
      "20\n"
     ]
    }
   ],
   "source": [
    "cal3 = Calculator()\n",
    "Calculator.add(cal3, 10)\n",
    "print(cal3.result)\n",
    "cal3.add(10) \n",
    "print(cal3.result)"
   ]
  },
  {
   "cell_type": "code",
   "execution_count": null,
   "id": "49abcfe4",
   "metadata": {},
   "outputs": [],
   "source": []
  },
  {
   "cell_type": "code",
   "execution_count": null,
   "id": "1d6c9449",
   "metadata": {},
   "outputs": [],
   "source": []
  },
  {
   "cell_type": "code",
   "execution_count": null,
   "id": "88c6c9ef",
   "metadata": {},
   "outputs": [],
   "source": []
  },
  {
   "cell_type": "code",
   "execution_count": null,
   "id": "69a1910e",
   "metadata": {},
   "outputs": [],
   "source": []
  },
  {
   "cell_type": "code",
   "execution_count": null,
   "id": "7b5cbc97",
   "metadata": {},
   "outputs": [],
   "source": []
  },
  {
   "cell_type": "code",
   "execution_count": null,
   "id": "cb0a295d",
   "metadata": {},
   "outputs": [],
   "source": []
  },
  {
   "cell_type": "code",
   "execution_count": null,
   "id": "359198c7",
   "metadata": {},
   "outputs": [],
   "source": []
  }
 ],
 "metadata": {
  "kernelspec": {
   "display_name": "Python 3 (ipykernel)",
   "language": "python",
   "name": "python3"
  },
  "language_info": {
   "codemirror_mode": {
    "name": "ipython",
    "version": 3
   },
   "file_extension": ".py",
   "mimetype": "text/x-python",
   "name": "python",
   "nbconvert_exporter": "python",
   "pygments_lexer": "ipython3",
   "version": "3.10.4"
  }
 },
 "nbformat": 4,
 "nbformat_minor": 5
}
