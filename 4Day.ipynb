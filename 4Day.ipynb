{
 "cells": [
  {
   "cell_type": "code",
   "execution_count": 1,
   "id": "f98937f5",
   "metadata": {},
   "outputs": [
    {
     "name": "stderr",
     "output_type": "stream",
     "text": [
      "C:\\Users\\soldesk\\AppData\\Local\\Temp\\ipykernel_3396\\627556072.py:1: DeprecationWarning: Importing display from IPython.core.display is deprecated since IPython 7.14, please import from IPython display\n",
      "  from IPython.core.display import display, HTML\n"
     ]
    },
    {
     "data": {
      "text/html": [
       "<style>\n",
       "div.container { width:100% !important; }\n",
       "div.CodeMirror {font-family: Consolas; font-size: 25pt;}\n",
       "div.output { font-size: 20pt; font-weight: bold;}\n",
       "div.input { font-family: Consolas; font-size: 25pt;}\n",
       "div.prompt { min-width: 100px;}\n",
       "</style>\n"
      ],
      "text/plain": [
       "<IPython.core.display.HTML object>"
      ]
     },
     "metadata": {},
     "output_type": "display_data"
    }
   ],
   "source": [
    "from IPython.core.display import display, HTML\n",
    "display(HTML(\n",
    "\"\"\"<style>\n",
    "div.container { width:100% !important; }\n",
    "div.CodeMirror {font-family: Consolas; font-size: 25pt;}\n",
    "div.output { font-size: 20pt; font-weight: bold;}\n",
    "div.input { font-family: Consolas; font-size: 25pt;}\n",
    "div.prompt { min-width: 100px;}\n",
    "</style>\n",
    "\"\"\"))"
   ]
  },
  {
   "cell_type": "code",
   "execution_count": 8,
   "id": "89b16d5f",
   "metadata": {},
   "outputs": [],
   "source": [
    "class ClassAdd:\n",
    "    PI = 3.14\n",
    "    result = 0# 멤버필드\n",
    "    def add(self, num): # java에서 this\n",
    "        self.result += num"
   ]
  },
  {
   "cell_type": "code",
   "execution_count": 6,
   "id": "38179521",
   "metadata": {},
   "outputs": [
    {
     "name": "stdout",
     "output_type": "stream",
     "text": [
      "100\n",
      "1000\n",
      "110\n",
      "1020\n",
      "240\n",
      "1250\n"
     ]
    }
   ],
   "source": [
    "a1 = ClassAdd() # result, add() : result = 100\n",
    "a2 = ClassAdd() # result, add() : result = 1000\n",
    "a1.result = 100\n",
    "print(a1.result)\n",
    "a2.result = 1000\n",
    "print(a2.result)\n",
    "a1.add(10) # a1.result += num\n",
    "a2.add(20) # a2.result += num\n",
    "print(a1.result)\n",
    "print(a2.result)\n",
    "ClassAdd.add(a1, 130)\n",
    "ClassAdd.add(a2, 230)\n",
    "print(a1.result)\n",
    "print(a2.result)"
   ]
  },
  {
   "cell_type": "code",
   "execution_count": 15,
   "id": "b4320bf5",
   "metadata": {},
   "outputs": [],
   "source": [
    "# 멤버 필드 초기화\n",
    "class FourCal:\n",
    "    def setData(self, num1, num2): # setData함수를 이용하여 멤버필드 초기화\n",
    "        self.first = num1\n",
    "        self.second = num2\n",
    "    def add(self):\n",
    "        self.result = self.first + self.second\n",
    "    def sub(self):\n",
    "        self.result = self.first - self.second\n",
    "    def mul(self):\n",
    "        self.result = self.first * self.second\n",
    "    def div(self):\n",
    "        self.result = self.first / self.second"
   ]
  },
  {
   "cell_type": "code",
   "execution_count": 19,
   "id": "a2ff56cb",
   "metadata": {},
   "outputs": [
    {
     "name": "stdout",
     "output_type": "stream",
     "text": [
      "20 10\n",
      "30\n"
     ]
    }
   ],
   "source": [
    "a1 = FourCal()\n",
    "a1.setData(20, 10)\n",
    "print(a1.first , a1.second)\n",
    "a1.add()\n",
    "print(a1.result)"
   ]
  },
  {
   "cell_type": "code",
   "execution_count": 20,
   "id": "f33ffb6e",
   "metadata": {},
   "outputs": [
    {
     "name": "stdout",
     "output_type": "stream",
     "text": [
      "300\n",
      "30\n"
     ]
    }
   ],
   "source": [
    "a2 = FourCal()\n",
    "a2.setData(200, 100)\n",
    "a2.add()\n",
    "print(a2.result)\n",
    "print(a1.result)"
   ]
  },
  {
   "cell_type": "code",
   "execution_count": 21,
   "id": "e13a8ab0",
   "metadata": {},
   "outputs": [
    {
     "name": "stdout",
     "output_type": "stream",
     "text": [
      "40 10\n",
      "50\n"
     ]
    }
   ],
   "source": [
    "a3 = FourCal()\n",
    "FourCal.setData(a3, 40 , 10)\n",
    "print(a3.first, a3.second)\n",
    "FourCal.add(a3)\n",
    "print(a3.result)"
   ]
  },
  {
   "cell_type": "code",
   "execution_count": null,
   "id": "7797f8d2",
   "metadata": {},
   "outputs": [],
   "source": [
    "a4 = FourCal() # 객체 생성\n",
    "a4.add()\n",
    "# 멤버필드가 초기화가 되지 않았으므로 오류가 발생"
   ]
  },
  {
   "cell_type": "code",
   "execution_count": 27,
   "id": "666e4ee0",
   "metadata": {},
   "outputs": [],
   "source": [
    "# 객체 생성시에 멤버필드가 자동으로 초기화 : 생성자\n",
    "class FourCal1:\n",
    "    def __init__(self, num1, num2): # 생성자, 실행시키는 함수가 아니다.\n",
    "        self.first = num1           # 객체 생성시에 자동으로 실행되는 함수\n",
    "        self.second = num2\n",
    "    def add(self):\n",
    "        self.result = self.first + self.second\n",
    "    def sub(self):\n",
    "        self.result = self.first - self.second\n",
    "    def mul(self):\n",
    "        self.result = self.first * self.second\n",
    "    def div(self):\n",
    "        self.result = self.first / self.second"
   ]
  },
  {
   "cell_type": "code",
   "execution_count": 28,
   "id": "74771477",
   "metadata": {},
   "outputs": [
    {
     "name": "stdout",
     "output_type": "stream",
     "text": [
      "80\n"
     ]
    }
   ],
   "source": [
    "a4 = FourCal1(50, 30) # 객체 생성 , __init__()함수가 자동으로 실행\n",
    "a4.add()\n",
    "print(a4.result)"
   ]
  },
  {
   "cell_type": "code",
   "execution_count": 29,
   "id": "ff08cf3c",
   "metadata": {},
   "outputs": [
    {
     "ename": "TypeError",
     "evalue": "FourCal1.__init__() missing 2 required positional arguments: 'num1' and 'num2'",
     "output_type": "error",
     "traceback": [
      "\u001b[1;31m---------------------------------------------------------------------------\u001b[0m",
      "\u001b[1;31mTypeError\u001b[0m                                 Traceback (most recent call last)",
      "Input \u001b[1;32mIn [29]\u001b[0m, in \u001b[0;36m<cell line: 1>\u001b[1;34m()\u001b[0m\n\u001b[1;32m----> 1\u001b[0m a5 \u001b[38;5;241m=\u001b[39m \u001b[43mFourCal1\u001b[49m\u001b[43m(\u001b[49m\u001b[43m)\u001b[49m\n",
      "\u001b[1;31mTypeError\u001b[0m: FourCal1.__init__() missing 2 required positional arguments: 'num1' and 'num2'"
     ]
    }
   ],
   "source": [
    "a5 = FourCal1() # 생성자가 있는 경우 argument를 주지 않으면 오류 발생\n",
    "# 생성자가 있는 경우 디펄트생성자를 사용할 수 없다."
   ]
  },
  {
   "cell_type": "code",
   "execution_count": 49,
   "id": "0c0286b8",
   "metadata": {},
   "outputs": [],
   "source": [
    "# 상속\n",
    "class FourCal2:\n",
    "    def __init__(self, num1, num2): \n",
    "        self.first = num1           \n",
    "        self.second = num2\n",
    "    def add(self):\n",
    "        self.result = self.first + self.second\n",
    "    def div(self):\n",
    "        self.result = self.first / self.second"
   ]
  },
  {
   "cell_type": "code",
   "execution_count": 50,
   "id": "f5f1e45a",
   "metadata": {},
   "outputs": [],
   "source": [
    "class MoreFourCal(FourCal2): # FourCal2를 상속 받음\n",
    "    def mul(self):\n",
    "        self.result = self.first * self.second\n",
    "    def sub(self):\n",
    "        self.result = self.first - self.second\n",
    "#     def __init__(self, num1, num2): \n",
    "#         self.first = num1           \n",
    "#         self.second = num2\n",
    "#     def add(self):\n",
    "#         self.result = self.first + self.second\n",
    "#     def div(self):\n",
    "#         self.result = self.first / self.second    "
   ]
  },
  {
   "cell_type": "code",
   "execution_count": 37,
   "id": "10b4e258",
   "metadata": {},
   "outputs": [
    {
     "name": "stdout",
     "output_type": "stream",
     "text": [
      "50 , 30\n",
      "80\n",
      "20\n",
      "1500\n",
      "1.6666666666666667\n"
     ]
    }
   ],
   "source": [
    "a5 = MoreFourCal(50, 30)\n",
    "print(a5.first, a5.second, sep=\" , \")\n",
    "a5.add()\n",
    "print(a5.result)\n",
    "a5.sub()\n",
    "print(a5.result)\n",
    "a5.mul()\n",
    "print(a5.result)\n",
    "a5.div()\n",
    "print(a5.result)"
   ]
  },
  {
   "cell_type": "code",
   "execution_count": 51,
   "id": "c2c075eb",
   "metadata": {},
   "outputs": [
    {
     "name": "stdout",
     "output_type": "stream",
     "text": [
      "0.0\n"
     ]
    },
    {
     "ename": "ZeroDivisionError",
     "evalue": "division by zero",
     "output_type": "error",
     "traceback": [
      "\u001b[1;31m---------------------------------------------------------------------------\u001b[0m",
      "\u001b[1;31mZeroDivisionError\u001b[0m                         Traceback (most recent call last)",
      "Input \u001b[1;32mIn [51]\u001b[0m, in \u001b[0;36m<cell line: 7>\u001b[1;34m()\u001b[0m\n\u001b[0;32m      4\u001b[0m \u001b[38;5;28mprint\u001b[39m(a6\u001b[38;5;241m.\u001b[39mresult)\n\u001b[0;32m      6\u001b[0m a7 \u001b[38;5;241m=\u001b[39m MoreFourCal(\u001b[38;5;241m10\u001b[39m, \u001b[38;5;241m0\u001b[39m)\n\u001b[1;32m----> 7\u001b[0m \u001b[43ma7\u001b[49m\u001b[38;5;241;43m.\u001b[39;49m\u001b[43mdiv\u001b[49m\u001b[43m(\u001b[49m\u001b[43m)\u001b[49m\n",
      "Input \u001b[1;32mIn [49]\u001b[0m, in \u001b[0;36mFourCal2.div\u001b[1;34m(self)\u001b[0m\n\u001b[0;32m      8\u001b[0m \u001b[38;5;28;01mdef\u001b[39;00m \u001b[38;5;21mdiv\u001b[39m(\u001b[38;5;28mself\u001b[39m):\n\u001b[1;32m----> 9\u001b[0m     \u001b[38;5;28mself\u001b[39m\u001b[38;5;241m.\u001b[39mresult \u001b[38;5;241m=\u001b[39m \u001b[38;5;28;43mself\u001b[39;49m\u001b[38;5;241;43m.\u001b[39;49m\u001b[43mfirst\u001b[49m\u001b[43m \u001b[49m\u001b[38;5;241;43m/\u001b[39;49m\u001b[43m \u001b[49m\u001b[38;5;28;43mself\u001b[39;49m\u001b[38;5;241;43m.\u001b[39;49m\u001b[43msecond\u001b[49m\n",
      "\u001b[1;31mZeroDivisionError\u001b[0m: division by zero"
     ]
    }
   ],
   "source": [
    "# 오버라이딩\n",
    "a6 = MoreFourCal(0, 10)\n",
    "a6.div() # a6.result = a6.first / a6.second = 0 / 10 = 0 : 부정\n",
    "print(a6.result)\n",
    "\n",
    "a7 = MoreFourCal(10, 0)\n",
    "a7.div() # a7.result = a7.first / a7.second = 10 / 0 : 불능"
   ]
  },
  {
   "cell_type": "code",
   "execution_count": 52,
   "id": "1362fd14",
   "metadata": {},
   "outputs": [],
   "source": [
    "class MoreFourCal1(FourCal2): # FourCal2를 상속 받음\n",
    "    def mul(self):\n",
    "        self.result = self.first * self.second\n",
    "    def sub(self):\n",
    "        self.result = self.first - self.second\n",
    "    def div(self): # 상속 받은 메서드를 다시 정의 하는 것 : 오버라이딩\n",
    "        if self.second == 0:\n",
    "            self.result = 0\n",
    "        else:\n",
    "            self.result = self.first / self.second  \n",
    "            \n",
    "#     def __init__(self, num1, num2): \n",
    "#         self.first = num1           \n",
    "#         self.second = num2\n",
    "#     def add(self):\n",
    "#         self.result = self.first + self.second\n",
    "#     def div(self):\n",
    "#         self.result = self.first / self.second    "
   ]
  },
  {
   "cell_type": "code",
   "execution_count": 55,
   "id": "56ac06d4",
   "metadata": {},
   "outputs": [
    {
     "name": "stdout",
     "output_type": "stream",
     "text": [
      "0.0\n",
      "0\n"
     ]
    }
   ],
   "source": [
    "a8 = MoreFourCal1(0, 10)\n",
    "a8.div() # a9.res = a9.first / a9.second = 0 / 10 = 0 : 부정\n",
    "print(a8.result)\n",
    "\n",
    "a9 = MoreFourCal1(10, 0)\n",
    "a9.div() # a9.result =  0 \n",
    "print(a9.result)"
   ]
  },
  {
   "cell_type": "code",
   "execution_count": 58,
   "id": "33f4722e",
   "metadata": {},
   "outputs": [
    {
     "name": "stdout",
     "output_type": "stream",
     "text": [
      "3.141592\n",
      "120\n"
     ]
    }
   ],
   "source": [
    "# 모듈\n",
    "# 클래스 , 상수, 변수 , 함수등을 모아 둔 파일\n",
    "import mo1 # mo1.py\n",
    "print(mo1.PI)\n",
    "mo1.dddd.add()\n",
    "print(mo1.dddd.result)"
   ]
  },
  {
   "cell_type": "code",
   "execution_count": 62,
   "id": "e8f0cf73",
   "metadata": {},
   "outputs": [
    {
     "name": "stdout",
     "output_type": "stream",
     "text": [
      "3.141592\n",
      "80\n"
     ]
    }
   ],
   "source": [
    "from mo1 import *\n",
    "print(PI)\n",
    "dddd.sub()\n",
    "print(dddd.result)"
   ]
  },
  {
   "cell_type": "code",
   "execution_count": 64,
   "id": "c4512e23",
   "metadata": {},
   "outputs": [
    {
     "data": {
      "text/plain": [
       "('test.png', <http.client.HTTPMessage at 0x1edbd5c4580>)"
      ]
     },
     "execution_count": 64,
     "metadata": {},
     "output_type": "execute_result"
    }
   ],
   "source": [
    "# 스크래핑\n",
    "import urllib.request\n",
    "url = \"http://uta.pw/shodou/img/28/214.png\"\n",
    "savename = \"test.png\"\n",
    "urllib.request.urlretrieve(url, savename)"
   ]
  },
  {
   "cell_type": "code",
   "execution_count": 67,
   "id": "19802c14",
   "metadata": {},
   "outputs": [],
   "source": [
    "mem = urllib.request.urlopen(url).read() # 스크래핑\n",
    "#print(mem)\n",
    "with open(\"test1.png\", mode=\"wb\" ) as f:\n",
    "    f.write(mem)"
   ]
  },
  {
   "cell_type": "code",
   "execution_count": 69,
   "id": "56fa3f85",
   "metadata": {},
   "outputs": [
    {
     "name": "stdout",
     "output_type": "stream",
     "text": [
      "b'[ip]\\nAPI_URI=http://api.aoikujira.com/ip/get.php\\nREMOTE_ADDR=121.128.32.129\\nREMOTE_HOST=121.128.32.129\\nREMOTE_PORT=41630\\nHTTP_HOST=api.aoikujira.com\\nHTTP_USER_AGENT=Python-urllib/3.10\\nHTTP_ACCEPT_LANGUAGE=\\nHTTP_ACCEPT_CHARSET=\\nSERVER_PORT=80\\nFORMAT=ini\\n\\n'\n",
      "[ip]\n",
      "API_URI=http://api.aoikujira.com/ip/get.php\n",
      "REMOTE_ADDR=121.128.32.129\n",
      "REMOTE_HOST=121.128.32.129\n",
      "REMOTE_PORT=41630\n",
      "HTTP_HOST=api.aoikujira.com\n",
      "HTTP_USER_AGENT=Python-urllib/3.10\n",
      "HTTP_ACCEPT_LANGUAGE=\n",
      "HTTP_ACCEPT_CHARSET=\n",
      "SERVER_PORT=80\n",
      "FORMAT=ini\n",
      "\n",
      "\n"
     ]
    }
   ],
   "source": [
    "url = \"http://api.aoikujira.com/ip/ini\"\n",
    "data = urllib.request.urlopen(url).read() # 스크래핑\n",
    "print(data)\n",
    "text = data.decode(\"utf-8\")\n",
    "print(text)"
   ]
  },
  {
   "cell_type": "code",
   "execution_count": 72,
   "id": "37344dcc",
   "metadata": {},
   "outputs": [],
   "source": [
    "url = \"http://www.naver.com\"\n",
    "data = urllib.request.urlopen(url).read()\n",
    "#print(data)\n",
    "text = data.decode(\"utf-8\")\n",
    "#print(text)"
   ]
  },
  {
   "cell_type": "code",
   "execution_count": null,
   "id": "76efc729",
   "metadata": {},
   "outputs": [],
   "source": [
    "#https://search.naver.com/search.naver?where=nexearch&sm=top_hty&fbm=1&ie=utf8&query=이숭무\n",
    "#                                     |<--             쿼리스트링                        -->\n",
    "\n"
   ]
  },
  {
   "cell_type": "code",
   "execution_count": 77,
   "id": "4860136e",
   "metadata": {},
   "outputs": [
    {
     "name": "stdout",
     "output_type": "stream",
     "text": [
      "url = https://www.kma.go.kr/weather/forecast/mid-term-rss3.jsp?stnId=108\n"
     ]
    }
   ],
   "source": [
    "import urllib.parse\n",
    "# http://www.kma.go.kr/weather/forecast/mid-term-rss3.jsp?stnId=108\n",
    "API = \"https://www.kma.go.kr/weather/forecast/mid-term-rss3.jsp\"\n",
    "valus = {\"stnId\" : 108} # 딕셔너리\n",
    "params = urllib.parse.urlencode(valus) # stnId=108 # 딕셔너리를 쿼리스트링으로\n",
    "url = API + \"?\" + params\n",
    "print(\"url = \" + url)\n",
    "data = urllib.request.urlopen(url).read()\n",
    "text = data.decode(\"utf-8\")\n",
    "#print(text)"
   ]
  },
  {
   "cell_type": "code",
   "execution_count": 78,
   "id": "0ac9dd37",
   "metadata": {},
   "outputs": [
    {
     "name": "stdout",
     "output_type": "stream",
     "text": [
      "지역번호를 입력해주세요.108\n",
      "url = https://www.kma.go.kr/weather/forecast/mid-term-rss3.jsp?stnId=108\n"
     ]
    }
   ],
   "source": [
    "regionNumber = input(\"지역번호를 입력해주세요.\")\n",
    "API = \"https://www.kma.go.kr/weather/forecast/mid-term-rss3.jsp\"\n",
    "valus = {\"stnId\" : regionNumber} # 딕셔너리\n",
    "params = urllib.parse.urlencode(valus) # stnId=108 # 딕셔너리를 쿼리스트링으로\n",
    "url = API + \"?\" + params\n",
    "print(\"url = \" + url)\n",
    "data = urllib.request.urlopen(url).read()\n",
    "text = data.decode(\"utf-8\")"
   ]
  },
  {
   "cell_type": "code",
   "execution_count": 98,
   "id": "d068df99",
   "metadata": {},
   "outputs": [
    {
     "name": "stdout",
     "output_type": "stream",
     "text": [
      "<h1>스크레이핑이란?</h1>\n",
      "스크레이핑이란?\n",
      "<p>웹 페이지를 분석하는 것</p>\n",
      "웹 페이지를 분석하는 것\n",
      "<p>원하는 부분을 추출하는 것</p>\n",
      "원하는 부분을 추출하는 것\n"
     ]
    }
   ],
   "source": [
    "from bs4 import BeautifulSoup # 크롤링\n",
    "# urllib.request.urlopen(url).read()를 이용해서 스크래핑 한 내용이 아래와 같다고 가정\n",
    "html = \"\"\"  \n",
    "<html><body>\n",
    "  <h1>스크레이핑이란?</h1>\n",
    "  <p>웹 페이지를 분석하는 것</p>\n",
    "  <p>원하는 부분을 추출하는 것</p>\n",
    "</body></html>\n",
    "\"\"\"\n",
    "# HTML 분석하기 --- (※3)\n",
    "soup = BeautifulSoup(html, 'html.parser')\n",
    "\n",
    "# 태그를 이용하여 원하는 부분 추출하기\n",
    "h1 = soup.html.h1\n",
    "p1 = soup.html.p\n",
    "p2 = p1.next_sibling.next_sibling\n",
    "print(h1)\n",
    "print(h1.string)\n",
    "print(p1)\n",
    "print(p1.string)\n",
    "print(p2)\n",
    "print(p2.string)"
   ]
  },
  {
   "cell_type": "code",
   "execution_count": 107,
   "id": "c3f5e965",
   "metadata": {},
   "outputs": [
    {
     "name": "stdout",
     "output_type": "stream",
     "text": [
      "스크레이핑이란?\n",
      "웹 페이지를 분석하는 것\n",
      "스크레이핑이란?\n"
     ]
    }
   ],
   "source": [
    "html = \"\"\"\n",
    "<html><body>\n",
    "  <h1 id=\"title\">스크레이핑이란?</h1>\n",
    "  <p id=\"body\">웹 페이지를 분석하는 것</p>\n",
    "  <p>원하는 부분을 추출하는 것</p>\n",
    "</body></html>\n",
    "\"\"\"\n",
    "# HTML 분석하기\n",
    "soup = BeautifulSoup(html, 'html.parser')\n",
    "\n",
    "# find()함수를 이용하여 원하는 부분 추출하기\n",
    "#       soup.html.h1\n",
    "title = soup.find(id = \"title\") # 태그안에 있는 속성 id로 찾기\n",
    "body = soup.find(id = \"body\")\n",
    "h1 = soup.find(\"h1\") # 태그이름으로 찾기\n",
    "# 텍스트 부분 출력하기\n",
    "print(title.string)\n",
    "print(body.string)\n",
    "print(h1.string)\n"
   ]
  },
  {
   "cell_type": "code",
   "execution_count": 106,
   "id": "14f4a27e",
   "metadata": {},
   "outputs": [
    {
     "name": "stdout",
     "output_type": "stream",
     "text": [
      "<a href=\"a.html\" id=\"link\">원하는 부분을 추출하는 것</a>\n",
      "원하는 부분을 추출하는 것\n",
      "{'href': 'a.html', 'id': 'link'}\n",
      "<class 'dict'>\n",
      "True\n",
      "a.html\n"
     ]
    }
   ],
   "source": [
    "html = \"\"\"\n",
    "<html><body>\n",
    "  <h1 id=\"title\">스크레이핑이란?</h1>\n",
    "  <p id=\"body\">웹 페이지를 분석하는 것</p>\n",
    "  <p><a href='a.html' id = 'link'>원하는 부분을 추출하는 것</a></p>\n",
    "</body></html>\n",
    "\"\"\"\n",
    "soup = BeautifulSoup(html, 'html.parser')\n",
    "#print(soup.prettify()) # pretify메서드를 이용하면 제대로 분석되었는지 확인\n",
    "\n",
    "# <a>태그를 변수 a1에 할당\n",
    "a1 = soup.html.a\n",
    "print(a1)\n",
    "print(a1.string)\n",
    "# a태그에 있는 속성\n",
    "print(a1.attrs)\n",
    "print(type(a1.attrs))\n",
    "\n",
    "# 속성에 \"href\"이 있는지 확인\n",
    "print( \"href\" in a1.attrs)\n",
    "\n",
    "# \"href\"속성 값 출력\n",
    "print(a1['href'])"
   ]
  },
  {
   "cell_type": "code",
   "execution_count": 113,
   "id": "3cb52439",
   "metadata": {},
   "outputs": [
    {
     "name": "stdout",
     "output_type": "stream",
     "text": [
      "기상청 육상 중기예보\n",
      "○ (강수) 5일(화)~6일(수)은 전국에, 7일(목)은 중부지방과 전라권, 경북권에, 8일(금)은 중부지방과 전라권에 비가 오겠습니다. <br />○ (기온) 이번 예보기간 아침 기온은 22~26도, 낮 기온은 26~35도로 어제(1일, 아침최저기온 21~26도, 낮최고기온 28~36도)와 비슷하겠습니다.<br />○ (해상) 5일(화)은 남해상과 제주도해상을 중심으로 물결이 2.0~5.0m로 매우 높게 일겠습니다.<br /><br />* 이번 예보기간에는 북태평양고기압의 확장 정도와 제4호 태풍 에어리의 경로에 따라 예보가 변경될 가능성이 있겠으니, 앞으로 발표되는 기상정보를 참고하기 바랍니다.\n"
     ]
    }
   ],
   "source": [
    "import urllib.request as req\n",
    "from bs4 import BeautifulSoup\n",
    "url = \"https://www.kma.go.kr/weather/forecast/mid-term-rss3.jsp\"\n",
    "res = urllib.request.urlopen(url).read()\n",
    "soup = BeautifulSoup(res, \"html.parser\")\n",
    "title = soup.find(\"title\").string\n",
    "print(title)\n",
    "wf = soup.find(\"wf\").string\n",
    "print(wf)"
   ]
  },
  {
   "cell_type": "code",
   "execution_count": 130,
   "id": "86942fcc",
   "metadata": {},
   "outputs": [
    {
     "name": "stdout",
     "output_type": "stream",
     "text": [
      "위키북스 도서\n",
      "<class 'bs4.element.ResultSet'>\n",
      "[<li>유니티 게임 이펙트 입문</li>, <li>스위프트로 시작하는 아이폰 앱 개발 교과서</li>, <li>모던 웹사이트 디자인의 정석</li>]\n",
      "li =  유니티 게임 이펙트 입문\n",
      "li =  스위프트로 시작하는 아이폰 앱 개발 교과서\n",
      "li =  모던 웹사이트 디자인의 정석\n"
     ]
    }
   ],
   "source": [
    "### CSS 선택자 사용하기\n",
    "html = \"\"\"\n",
    "<html><body>\n",
    "<div id=\"meigen\">\n",
    "  <h1>위키북스 도서</h1>\n",
    "  <ul class=\"items\">\n",
    "    <li>유니티 게임 이펙트 입문</li>\n",
    "    <li>스위프트로 시작하는 아이폰 앱 개발 교과서</li>\n",
    "    <li>모던 웹사이트 디자인의 정석</li>\n",
    "  </ul>\n",
    "</div>\n",
    "</body></html>\n",
    "\"\"\"\n",
    "\n",
    "soup = BeautifulSoup(html, \"html.parser\")\n",
    "# 필요한 부분을 CSS 쿼리로 추출하기\n",
    "h1 = soup.select_one(\"div#meigen > h1\").string\n",
    "print(h1)\n",
    "li_list = soup.select(\"div#meigen > ul.items > li\")\n",
    "print(type(li_list))\n",
    "print(li_list)\n",
    "for aaa in li_list: # bs4.element.ResultSet이므로 반복문 사용해서 하나씩 가져옴\n",
    "    print(\"li = \" , aaa.string)"
   ]
  },
  {
   "cell_type": "code",
   "execution_count": 144,
   "id": "524acee0",
   "metadata": {},
   "outputs": [
    {
     "name": "stdout",
     "output_type": "stream",
     "text": [
      "usd/krw = 1,298.00\n",
      "<class 'bs4.element.ResultSet'>\n",
      "1,298.00\n",
      "958.82\n",
      "1,356.28\n",
      "193.48\n",
      "135.1000\n",
      "1.0392\n",
      "1.2003\n",
      "104.9000\n",
      "108.43\n",
      "2125.14\n",
      "1801.5\n",
      "74634.43\n",
      "1,298.00\n"
     ]
    }
   ],
   "source": [
    "# HTML 가져오기\n",
    "url = \"http://finance.naver.com/marketindex/\"\n",
    "res = req.urlopen(url)\n",
    "\n",
    "# HTML 분석하기\n",
    "soup = BeautifulSoup(res, \"html.parser\")\n",
    "\n",
    "# 원하는 데이터 추출하기\n",
    "pri =  soup.select_one(\"div.head_info > span.value\").string\n",
    "print(\"usd/krw =\" ,pri)\n",
    "prices = soup.select(\"div.head_info > span.value\")\n",
    "print(type(prices))\n",
    "for price in prices:\n",
    "    print(price.string)\n",
    "\n",
    "prices = soup.select(\"#exchangeList > li.on > a.head.usd > div > span.value\")\n",
    "for price in prices:\n",
    "    print(price.string)"
   ]
  },
  {
   "cell_type": "code",
   "execution_count": 163,
   "id": "62973f18",
   "metadata": {},
   "outputs": [
    {
     "name": "stdout",
     "output_type": "stream",
     "text": [
      "******************************\n",
      "오늘 각 지역의 날씨\n",
      "******************************\n"
     ]
    },
    {
     "data": {
      "image/png": "[encoded data removed]",
      "text/plain": [
       "<Figure size 864x288 with 1 Axes>"
      ]
     },
     "metadata": {
      "needs_background": "light"
     },
     "output_type": "display_data"
    }
   ],
   "source": [
    "import requests\n",
    "from bs4 import BeautifulSoup\n",
    "import pandas\n",
    "import matplotlib as mpl\n",
    "import matplotlib.pyplot as plt\n",
    "\n",
    "source = requests.get(\"https://www.weather.go.kr/weather/observation/currentweather.jsp\")\n",
    "\n",
    "\n",
    "soup = BeautifulSoup(source.content,\"html.parser\")\n",
    "#print(soup.prettify()) \n",
    "\n",
    "table = soup.find(\"table\",{'class' : 'table-col'})\n",
    "# print(table)\n",
    "data = []\n",
    "\n",
    "print(\"*\" * 30)\n",
    "print(\"오늘 각 지역의 날씨\")\n",
    "print(\"*\" *30 )\n",
    "\n",
    "#print(type(table)) # bs4.element.Tag\n",
    "for tr in table.find_all('tr'):\n",
    "    tds = list(tr.find_all('td'))\n",
    "    for td in tds:\n",
    "        if td.find('a'):\n",
    "            point = td.find('a').text\n",
    "            temp = tds[5].text\n",
    "            humidity = tds[9].text\n",
    "            #print(\"{0:<7}{1:<7} {2:<7}\".format(point, temp, humidity))\n",
    "            data.append([point, temp, humidity])\n",
    "#print(data)\n",
    "with open('weather.csv', 'w', encoding='utf-8') as f:\n",
    "    f.write('지역, 온도, 습도\\n')\n",
    "    for i in data:\n",
    "        f.write(\"{0},{1},{2}\\n\".format(i[0], i[1], i[2]))\n",
    "    \n",
    "\n",
    "df = pandas.read_csv('weather.csv', index_col='지역', encoding='utf-8')\n",
    "city_df = df.loc[['서울','인천','대전','대구','광주','부산','울산']]\n",
    "#print(city_df)\n",
    "\n",
    "font_name = mpl.font_manager.FontProperties(fname='C:\\Windows\\Fonts\\malgun.ttf').get_name()\n",
    "mpl.rc('font',family=font_name)\n",
    "\n",
    "\n",
    "ax = city_df.plot(kind='bar',title='날씨',figsize=(12,4),legend=True,fontsize=15)\n",
    "ax.set_xlabel('도시',fontsize=15)\n",
    "ax.set_ylabel('기온/습도',fontsize=15)\n",
    "ax.legend(['기온','습도'],fontsize=15)\n",
    " \n",
    "plt.show()"
   ]
  },
  {
   "cell_type": "code",
   "execution_count": 174,
   "id": "4070d864",
   "metadata": {},
   "outputs": [
    {
     "name": "stdout",
     "output_type": "stream",
     "text": [
      "8\n"
     ]
    }
   ],
   "source": [
    "# python 기본 자료형: 정수, 실수, 문자열, 리스트, 튜플, 딕셔너리, 집합, 부울\n",
    "#                               <-indexing, slicing-><- 키 ->   \n",
    "# 제어문, 함수, 클래스\n",
    "\n",
    "# numpy : 숫자를 다루는 파이썬 :  숫자 배열 자료형\n",
    "\n",
    "import numpy\n",
    "num = numpy.random.randint(10) # 0~9 사이의 수중 하나만 가지고 올것\n",
    "print(num)"
   ]
  },
  {
   "cell_type": "code",
   "execution_count": 176,
   "id": "1ee77b8d",
   "metadata": {},
   "outputs": [
    {
     "name": "stdout",
     "output_type": "stream",
     "text": [
      "1\n"
     ]
    }
   ],
   "source": [
    "import numpy as np\n",
    "num = np.random.randint(10)\n",
    "print(num)"
   ]
  },
  {
   "cell_type": "code",
   "execution_count": 179,
   "id": "e7346950",
   "metadata": {},
   "outputs": [
    {
     "name": "stdout",
     "output_type": "stream",
     "text": [
      "[3 5 6 6 1 5]\n",
      "[1, 5, 6, 6, 9, 1]\n",
      "6\n",
      "6\n"
     ]
    }
   ],
   "source": [
    "# 0 ~ 9사이의 수로 크기가 6인 1차원 배열을 만드시오.\n",
    "num = np.random.randint(10, size = 6)\n",
    "print(num)\n",
    "l = [1, 5, 6, 6, 9, 1]\n",
    "print(l)\n",
    "print(l[2])\n",
    "print(num[2])"
   ]
  },
  {
   "cell_type": "code",
   "execution_count": 182,
   "id": "df95f5cf",
   "metadata": {},
   "outputs": [
    {
     "name": "stdout",
     "output_type": "stream",
     "text": [
      "[[7 8 0]\n",
      " [3 9 6]]\n",
      "[[7, 2, 9], [0, 0, 1]]\n"
     ]
    }
   ],
   "source": [
    "num2 = np.random.randint(10, size = (2, 3)) # 2행 3열\n",
    "print(num2) \n",
    "l2 = [[7,2,9],[0,0,1]]\n",
    "print(l2) \n",
    "# 2차원배열은 1차원 배열(벡터 vector)의 집합체\n",
    "# 2차원배열에서 1차원배열은 행이된다.\n",
    "# 1차원배열의 각 셀은 열이라고 한다."
   ]
  },
  {
   "cell_type": "code",
   "execution_count": 183,
   "id": "9597764b",
   "metadata": {},
   "outputs": [
    {
     "name": "stdout",
     "output_type": "stream",
     "text": [
      "[0 8 3 2 1 5]\n",
      "[[0 9 5 2 9 1]]\n"
     ]
    }
   ],
   "source": [
    "num1 = np.random.randint(10, size=6) # 1차원 배열\n",
    "num3 = np.random.randint(10, size=(1, 6)) # 1향 6열인 2차원 배열\n",
    "print(num1)\n",
    "print(num3)"
   ]
  },
  {
   "cell_type": "code",
   "execution_count": 185,
   "id": "dfbc4d46",
   "metadata": {},
   "outputs": [
    {
     "name": "stdout",
     "output_type": "stream",
     "text": [
      "[3 5 6 6 1 5]\n",
      "[1, 5, 6, 6, 9, 1]\n",
      "6\n",
      "6\n",
      "1\n",
      "9\n"
     ]
    }
   ],
   "source": [
    "print(num)\n",
    "# [3 5 6 6 1 5]\n",
    "#  0 1 2 3 4 5        열번호\n",
    "#  6 5 4 3 2 1 -\n",
    "print(l)\n",
    "# [1, 5, 6, 6, 9, 1]\n",
    "#  0  1  2  3  4  5   index\n",
    "#  6  5  4  3  2  1 -\n",
    "print(num[2])\n",
    "print(l[2])\n",
    "print(num[-2])\n",
    "print(l[-2])"
   ]
  },
  {
   "cell_type": "code",
   "execution_count": 190,
   "id": "69978ec3",
   "metadata": {},
   "outputs": [
    {
     "name": "stdout",
     "output_type": "stream",
     "text": [
      "[1, 5, 6, 6]\n",
      "[3 5 6 6]\n",
      "[1, 6, 9]\n",
      "[3 6 1]\n",
      "[1, 5, 6, 6]\n",
      "[3 5 6 6]\n",
      "[1, 5, 6, 6, 9, 1]\n",
      "[3 5 6 6 1 5]\n",
      "[1, 5, 6, 6, 9, 1]\n",
      "[3 5 6 6 1 5]\n",
      "[1, 9, 6, 6, 5, 1]\n",
      "[5 1 6 6 5 3]\n"
     ]
    }
   ],
   "source": [
    "# slcing\n",
    "# [3 5 6 6 1 5]  : 배열\n",
    "# [1, 5, 6, 6, 9, 1] : 리스트\n",
    "print(l[0:4])\n",
    "print(num[0:4])\n",
    "print(l[0:6:2])\n",
    "print(num[0:6:2])\n",
    "print(l[:4])\n",
    "print(num[:4])\n",
    "print(l)\n",
    "print(num)\n",
    "print(l[:])\n",
    "print(num[:])\n",
    "print(l[::-1]) # 뒤에서 부터 출력\n",
    "print(num[::-1])\n",
    "# indexing이나 slicing은 리스트나 1차원 배열은 같다."
   ]
  },
  {
   "cell_type": "code",
   "execution_count": 192,
   "id": "8a21e516",
   "metadata": {},
   "outputs": [
    {
     "name": "stdout",
     "output_type": "stream",
     "text": [
      "[1, 5, 6, 6, 9, 1]\n",
      "[3 5 6 6 1 5]\n"
     ]
    }
   ],
   "source": [
    "print(l)\n",
    "print(num)"
   ]
  },
  {
   "cell_type": "code",
   "execution_count": 193,
   "id": "4de84da7",
   "metadata": {},
   "outputs": [],
   "source": [
    "l[3] = 10 #  index를 이용해서 요소의 값 변경\n",
    "num[3] = 20 #  열번호를 이용해서 요소의 값 변경"
   ]
  },
  {
   "cell_type": "code",
   "execution_count": 194,
   "id": "95c1be2b",
   "metadata": {},
   "outputs": [
    {
     "name": "stdout",
     "output_type": "stream",
     "text": [
      "[1, 5, 6, 10, 9, 1]\n",
      "[ 3  5  6 20  1  5]\n"
     ]
    }
   ],
   "source": [
    "print(l)\n",
    "print(num)"
   ]
  },
  {
   "cell_type": "code",
   "execution_count": 196,
   "id": "beceb367",
   "metadata": {},
   "outputs": [
    {
     "name": "stdout",
     "output_type": "stream",
     "text": [
      "[[7 8 0]\n",
      " [3 9 6]]\n",
      "[[7, 2, 9], [0, 0, 1]]\n"
     ]
    }
   ],
   "source": [
    "print(num2)\n",
    "#   3 2 1 -\n",
    "#   0 1 2\n",
    "# [[7 8 0]      0   -2\n",
    "#  [3 9 6]]     1   -1\n",
    "\n",
    "# [[7 8 0] [3 9 6]] \n",
    "#     0       1        행번호\n",
    "#   0 1 2   0 1 2      열번호\n",
    "print(l2)\n",
    "#   3  2  1 -\n",
    "#   0  1  2\n",
    "# [[7, 2, 9],   0   -2\n",
    "# [0, 0, 1]]    1   -1\n",
    "\n",
    "# [[7, 2, 9], [0, 0, 1]]\n",
    "#      0          1\n",
    "#   0  1  2    0  1  2"
   ]
  },
  {
   "cell_type": "code",
   "execution_count": 205,
   "id": "21975689",
   "metadata": {},
   "outputs": [
    {
     "name": "stdout",
     "output_type": "stream",
     "text": [
      "2\n",
      "8\n",
      "8\n",
      "2\n",
      "8\n",
      "8\n"
     ]
    }
   ],
   "source": [
    "print(l2[0][1])\n",
    "print(num2[0][1]) # 리스트 형식\n",
    "print(num2[0,1]) # 배열 형식 num2[행, 열]\n",
    "# print(l2[0,1])\n",
    "print(l2[-2][-2])\n",
    "print(num2[-2][-2])\n",
    "print(num2[-2,-2])"
   ]
  },
  {
   "cell_type": "code",
   "execution_count": 218,
   "id": "2749ab23",
   "metadata": {},
   "outputs": [
    {
     "data": {
      "text/plain": [
       "array([[8, 8, 1, 7],\n",
       "       [7, 3, 3, 9],\n",
       "       [9, 5, 2, 7]])"
      ]
     },
     "execution_count": 218,
     "metadata": {},
     "output_type": "execute_result"
    }
   ],
   "source": [
    "num3 = np.random.randint(10, size = (3, 4))\n",
    "num3"
   ]
  },
  {
   "cell_type": "code",
   "execution_count": 219,
   "id": "a85fb112",
   "metadata": {},
   "outputs": [],
   "source": [
    "l3 = [[8, 8, 1, 7],\n",
    "       [7, 3, 3, 9],\n",
    "       [9, 5, 2, 7]]"
   ]
  },
  {
   "cell_type": "code",
   "execution_count": 220,
   "id": "c8d6ad05",
   "metadata": {},
   "outputs": [
    {
     "name": "stdout",
     "output_type": "stream",
     "text": [
      "[[8 8 1 7]\n",
      " [7 3 3 9]\n",
      " [9 5 2 7]]\n",
      "[[8, 8, 1, 7], [7, 3, 3, 9], [9, 5, 2, 7]]\n"
     ]
    }
   ],
   "source": [
    "print(num3)\n",
    "# [[8 8 1 7]     0\n",
    "#  [7 3 3 9]     1\n",
    "#  [9 5 2 7]]    2\n",
    "\n",
    "print(l3)\n",
    "# [[8, 8, 1, 7], 0\n",
    "#  [7, 3, 3, 9], 1\n",
    "#  [9, 5, 2, 7]] 2"
   ]
  },
  {
   "cell_type": "code",
   "execution_count": 227,
   "id": "d34f09f3",
   "metadata": {},
   "outputs": [
    {
     "name": "stdout",
     "output_type": "stream",
     "text": [
      "[7, 3, 3, 9]\n",
      "[7 3 3 9]\n",
      "[3, 3]\n",
      "[3 3]\n",
      "[3 3]\n",
      "[[8, 8, 1, 7], [7, 3, 3, 9]]\n",
      "[[8 8 1 7]\n",
      " [7 3 3 9]]\n",
      "[9, 5]\n",
      "[9 5]\n"
     ]
    }
   ],
   "source": [
    "print(l3[1])\n",
    "print(num3[1])\n",
    "print(l3[1][1:3])\n",
    "print(num3[1][1:3])\n",
    "print(num3[1,1:3])\n",
    "#print(l3[1 , 1:3])\n",
    "print(l3[0:2])\n",
    "print(num3[0:2])\n",
    "print(l3[2][0:2])\n",
    "print(num3[2][0:2])"
   ]
  },
  {
   "cell_type": "code",
   "execution_count": 239,
   "id": "70c83332",
   "metadata": {},
   "outputs": [
    {
     "name": "stdout",
     "output_type": "stream",
     "text": [
      "[[8, 8, 1, 7], [7, 3, 3, 9], [9, 5, 2, 7]]\n",
      "[[8 8 1 7]\n",
      " [7 3 3 9]\n",
      " [9 5 2 7]]\n",
      "[[7, 3, 3, 9]]\n",
      "[[7 3 3 9]]\n",
      "[[8 1]\n",
      " [3 3]]\n",
      "[8, 1]\n",
      "[8 1]\n",
      "[8 1]\n",
      "[[8, 8, 1, 7]]\n",
      "[[8 8 1 7]]\n",
      "[[8 1]\n",
      " [9 2]]\n",
      "[[8 1]\n",
      " [7 3]\n",
      " [9 2]]\n",
      "[[8 8 1 7]\n",
      " [9 5 2 7]]\n"
     ]
    }
   ],
   "source": [
    "print(l3)\n",
    "print(num3)\n",
    "print(l3[0:2][1:3])\n",
    "print(num3[0:2][1:3])\n",
    "print(num3[0:2,1:3])\n",
    "print(l3[0][::2])\n",
    "print(num3[0][::2])\n",
    "print(num3[0,::2])\n",
    "print(l3[::2][::2])\n",
    "print(num3[::2][::2])\n",
    "print(num3[::2, ::2])\n",
    "\n",
    "### 모든 행에서 열을 한칸씩 건너 띄우기\n",
    "print(num3[:, ::2])\n",
    "### 행을 한칸씩 건너 띄우고 열은 모두 출력\n",
    "print(num3[::2, :])"
   ]
  },
  {
   "cell_type": "code",
   "execution_count": null,
   "id": "1fc2c50d",
   "metadata": {},
   "outputs": [],
   "source": [
    "#   0 1 2 3 \n",
    "# [[8 8 1 7]     0\n",
    "#  [7 3 3 9]     1\n",
    "#  [9 5 2 7]]    2\n",
    "\n",
    "#   0  1  2  3  \n",
    "# [[8, 8, 1, 7], 0\n",
    "#  [7, 3, 3, 9], 1\n",
    "#  [9, 5, 2, 7]] 2"
   ]
  },
  {
   "cell_type": "code",
   "execution_count": 246,
   "id": "4271a0f2",
   "metadata": {
    "scrolled": true
   },
   "outputs": [
    {
     "name": "stdout",
     "output_type": "stream",
     "text": [
      "[ 3  5  6 20  1  5]\n",
      "[ 5  1 20  6  5  3]\n",
      "[[9, 5, 2, 7], [7, 3, 3, 9], [8, 8, 1, 7]]\n",
      "[[9 5 2 7]\n",
      " [7 3 3 9]\n",
      " [8 8 1 7]]\n",
      "[[7 1 8 8]\n",
      " [9 3 3 7]\n",
      " [7 2 5 9]]\n",
      "[[7 2 5 9]\n",
      " [9 3 3 7]\n",
      " [7 1 8 8]]\n"
     ]
    }
   ],
   "source": [
    "print(num)\n",
    "print(num[::-1])\n",
    "\n",
    "print(l3[::-1])\n",
    "print(num3[::-1])\n",
    "# print(l3[:][::-1])\n",
    "# print(num3[:][::-1])\n",
    "print(num3[: , ::-1])\n",
    "\n",
    "# 행과 열을 모두 거꾸로 출력\n",
    "print(num3[::-1, ::-1])"
   ]
  },
  {
   "cell_type": "code",
   "execution_count": 249,
   "id": "4f7fbb72",
   "metadata": {},
   "outputs": [
    {
     "name": "stdout",
     "output_type": "stream",
     "text": [
      "[8 7 9]\n",
      "[1 3 2]\n",
      "[8, 8, 1, 7]\n"
     ]
    }
   ],
   "source": [
    "#   0 1 2 3\n",
    "# [[8 8 1 7]     0\n",
    "#  [7 3 3 9]     1\n",
    "#  [9 5 2 7]]    2\n",
    "print(num3[:, 0])\n",
    "print(num3[:, 2])\n",
    "print(l3[:][0])\n",
    "l3[0][0] = 10\n",
    "num3[0][0] = 20"
   ]
  },
  {
   "cell_type": "code",
   "execution_count": 250,
   "id": "dd4c6ae2",
   "metadata": {},
   "outputs": [
    {
     "name": "stdout",
     "output_type": "stream",
     "text": [
      "[[99  8  1  7]\n",
      " [ 7  3  3  9]\n",
      " [ 9  5  2  7]]\n"
     ]
    }
   ],
   "source": [
    "num3[0, 0] = 99\n",
    "print(num3)"
   ]
  },
  {
   "cell_type": "code",
   "execution_count": 261,
   "id": "11a1fbee",
   "metadata": {},
   "outputs": [
    {
     "name": "stdout",
     "output_type": "stream",
     "text": [
      "[[0 1 2]\n",
      " [3 4 5]\n",
      " [6 7 8]]\n",
      "[[ 0  1  2  3]\n",
      " [ 4  5  6  7]\n",
      " [ 8  9 10 11]]\n",
      "[[ 0  1  2]\n",
      " [ 3  4  5]\n",
      " [ 6  7  8]\n",
      " [ 9 10 11]]\n",
      "[[11 12 13]\n",
      " [14 15 16]\n",
      " [17 18 19]]\n",
      "[[1 2 3]]\n",
      "[[1]\n",
      " [2]\n",
      " [3]]\n",
      "[1 2 3]\n"
     ]
    }
   ],
   "source": [
    "### 배열을 만드는 방법\n",
    "i = np.random.randint(10, size=(3, 3))\n",
    "# arange()\n",
    "i2= np.arange(9).reshape(3,3) #  0~8까지 9개의 수를 가지는 2차원 배열\n",
    "print(i2)\n",
    "# i2= np.arange(10).reshape(3,3) # 숫자의 갯수와 배열의 크기는 같아야 한다. \n",
    "i3 = np.arange(12).reshape(3,4)\n",
    "print(i3)\n",
    "i4 = np.arange(12).reshape(4,3)\n",
    "print(i4)\n",
    "#  11~ 19까지 수를 가지는 2차원 배열\n",
    "i5 = np.arange(11, 20).reshape(3,3)\n",
    "print(i5)\n",
    "# 1~3까지의 수를 가지는 1행짜리 2차원배열\n",
    "i6 = np.arange(1, 4).reshape(1,3)\n",
    "print(i6)\n",
    "# 1~3까지의 수를 가지는 3행짜리 2차원배열\n",
    "i7 = np.arange(1, 4).reshape(3,1)\n",
    "print(i7)\n",
    "# 1~3까지의 수를 가지는 1차원배열\n",
    "i8 = np.arange(1, 4).reshape(3)\n",
    "print(i8)"
   ]
  },
  {
   "cell_type": "code",
   "execution_count": 269,
   "id": "b5da5fab",
   "metadata": {},
   "outputs": [
    {
     "name": "stdout",
     "output_type": "stream",
     "text": [
      "[2 5 7]\n",
      "[[1 2 3]\n",
      " [4 5 6]\n",
      " [7 8 9]]\n",
      "[[[1 2 3]\n",
      "  [4 5 6]\n",
      "  [7 8 9]]\n",
      "\n",
      " [[1 2 3]\n",
      "  [4 5 6]\n",
      "  [7 8 9]]\n",
      "\n",
      " [[1 2 3]\n",
      "  [4 5 6]\n",
      "  [7 8 9]]]\n",
      "2\n",
      "6\n",
      "6\n"
     ]
    }
   ],
   "source": [
    "# array()\n",
    "# 2,5,7을 가지는 1차원 배열을 만드시오.\n",
    "ii1 = np.array((2,5,7))\n",
    "print(ii1)\n",
    "# [[1,2,3],[4,5,6],[7,8,9]]을 가지는 2차원배열 만들자.\n",
    "ii2 = np.array(([1,2,3],[4,5,6],[7,8,9]))\n",
    "print(ii2)\n",
    "# [[[1,2,3],[4,5,6],[7,8,9]],[[1,2,3],[4,5,6],[7,8,9]],[[1,2,3],[4,5,6],[7,8,9]]]\n",
    "ii3 = np.array( [[[1,2,3],[4,5,6],[7,8,9]],\n",
    "                 [[1,2,3],[4,5,6],[7,8,9]],\n",
    "                 [[1,2,3],[4,5,6],[7,8,9]]])\n",
    "print(ii3)\n",
    "print(ii1[0]) # 열\n",
    "print(ii2[1, 2]) # 행 , 열\n",
    "print(ii3[1, 1, 2]) # 면, 행, 열"
   ]
  },
  {
   "cell_type": "code",
   "execution_count": 272,
   "id": "4a580248",
   "metadata": {},
   "outputs": [
    {
     "name": "stdout",
     "output_type": "stream",
     "text": [
      "[1, 2, 3, 4, 5, 6]\n",
      "[1, 2, 3, 4, 5, 6]\n"
     ]
    }
   ],
   "source": [
    "ll1 = [1,2,3]\n",
    "ll2 = [4,5,6]\n",
    "ll3 = [1,2,3] + [4,5,6]\n",
    "print(ll3)\n",
    "ll1.extend(ll2)\n",
    "print(ll1)"
   ]
  },
  {
   "cell_type": "code",
   "execution_count": 283,
   "id": "2284d43f",
   "metadata": {},
   "outputs": [
    {
     "name": "stdout",
     "output_type": "stream",
     "text": [
      "[1 2 3]\n",
      "[3 2 1]\n",
      "[1 2 3 3 2 1]\n",
      "[ 1  2  3  3  2  1 99 99 99]\n",
      "[1 2 3 4 5 6 7 8 9]\n",
      "[1 2 3 4 5 6 7 8 9]\n",
      "[1 2 3 4 5 6 7 8 9]\n"
     ]
    }
   ],
   "source": [
    "x = np.array([1, 2, 3]) # 1차원 배열\n",
    "y = np.array([3, 2, 1]) # 1차원 배열\n",
    "print(x)\n",
    "print(y)\n",
    "z = np.concatenate((x, y))\n",
    "print(z)\n",
    "v = [99,99,99] # 리스트\n",
    "z = np.concatenate([x, y, v]) # 배열과 리스트를 같이 사용\n",
    "print(z)\n",
    "l1 = [1,2,3]\n",
    "l2 = [4,5,6]\n",
    "l3 = [7,8,9]\n",
    "z = np.concatenate([l1, l2, l3])\n",
    "print(z)\n",
    "z = np.concatenate([[1,2,3], [4,5,6], [7,8,9]])\n",
    "print(z)\n",
    "z = np.concatenate([[1,2,3], [4,5], [6,7,8,9]])\n",
    "print(z)"
   ]
  },
  {
   "cell_type": "code",
   "execution_count": 295,
   "id": "c1bc0774",
   "metadata": {},
   "outputs": [
    {
     "name": "stdout",
     "output_type": "stream",
     "text": [
      "[[9 8 7]\n",
      " [6 5 4]\n",
      " [9 8 7]\n",
      " [6 5 4]]\n",
      "[[9 8 7]\n",
      " [6 5 4]\n",
      " [9 8 7]\n",
      " [6 5 4]]\n",
      "[[9 8 7 9 8 7]\n",
      " [6 5 4 6 5 4]]\n",
      "[[9 8 7]\n",
      " [6 5 4]\n",
      " [1 2 3]]\n",
      "[[1 2 3]\n",
      " [9 8 7]\n",
      " [6 5 4]]\n",
      "[[10  9  8  7]\n",
      " [20  6  5  4]]\n"
     ]
    }
   ],
   "source": [
    "x2 = np.array([1, 2, 3])   # 1차원 배열\n",
    "grid = np.array([[9, 8, 7], \n",
    "                 [6, 5, 4]]) # 2차원 배열\n",
    "grid1 = np.array([[9, 8, 7], \n",
    "                 [6, 5, 4]])\n",
    "\n",
    "# z = np.concatenate((x2, grid1)) # 차원이 다르면 안됨\n",
    "# 같은 차원만 가능하다.\n",
    "z = np.concatenate((grid, grid1))  # 밑으로 붙는다.\n",
    "print(z)\n",
    "z = np.concatenate((grid, grid1), axis = 0) # 밑으로 붙는다.\n",
    "print(z)\n",
    "z = np.concatenate((grid, grid1), axis = 1) # 옆으로 붙는다\n",
    "print(z)\n",
    "\n",
    "# 차원이 서로 다른 경우\n",
    "z = np.vstack([grid, x2]) # 열의 크기가 다르면 합쳐지지 않는다.\n",
    "print(z)\n",
    "z = np.vstack([x2 ,grid]) # axis = 0 , x축기준\n",
    "print(z)\n",
    "\n",
    "y2 = [[10],[20]]\n",
    "z = np.hstack([y2, grid]) # 행의 크기가 다르면 합쳐지지 않는다. # axis = 1,  y축기준\n",
    "print(z)"
   ]
  },
  {
   "cell_type": "code",
   "execution_count": 310,
   "id": "33857135",
   "metadata": {},
   "outputs": [
    {
     "name": "stdout",
     "output_type": "stream",
     "text": [
      "[0 1 2 3]\n",
      "[5 6 7 8]\n",
      "[5 6 7 8]\n",
      "[5 6 7 8]\n",
      "[-5 -4 -3 -2]\n",
      "[-5 -4 -3 -2]\n",
      "[0 1 2 3 4 5 6 7 8 9]\n",
      "[ 3  4  5  6  7  8  9 10 11 12]\n",
      "[ 3  4  5  6  7  8  9 10 11 12]\n",
      "[ 0  5 10 15]\n",
      "[ 0  5 10 15]\n"
     ]
    }
   ],
   "source": [
    "# 유니버설 함수(UFuncs)\n",
    "x = np.arange(4)\n",
    "print(x)\n",
    "#    [0 1 2 3]\n",
    "#  + [5 5 5 5]\n",
    "z = np.array([5,5,5,5])\n",
    "print( x + z )\n",
    "print( x + 5 ) # [0,1,2,3] + [5, 5, 5, 5]\n",
    "print( np.add(x, 5) ) # add() 유니버설 함수\n",
    "print( x - 5 ) # [0,1,2,3] - [5, 5, 5, 5]\n",
    "print( np.subtract(x , 5)) # 유니버설 함수\n",
    "\n",
    "x1 = np.arange(10)\n",
    "print(x1)\n",
    "print( x1 + 3 ) # [0 1 2 3 4 5 6 7 8 9] + [ 3 3 3 3 3 3 3 3 3 3]\n",
    "print(np.add(x1, 3))\n",
    "y = x * 5\n",
    "print(y)\n",
    "y = np.multiply(x, 5)\n",
    "print(y)"
   ]
  },
  {
   "cell_type": "code",
   "execution_count": 318,
   "id": "68258895",
   "metadata": {},
   "outputs": [
    {
     "name": "stdout",
     "output_type": "stream",
     "text": [
      "[0 1 2]\n",
      "[[0]\n",
      " [1]\n",
      " [2]]\n",
      "[[0 1 2]\n",
      " [1 2 3]\n",
      " [2 3 4]]\n",
      "[[1. 1. 1.]\n",
      " [1. 1. 1.]\n",
      " [1. 1. 1.]]\n",
      "[[0. 0. 0.]\n",
      " [0. 0. 0.]\n",
      " [0. 0. 0.]]\n",
      "[[1. 2. 3.]\n",
      " [1. 2. 3.]\n",
      " [1. 2. 3.]]\n"
     ]
    }
   ],
   "source": [
    "a = np.arange(3)\n",
    "print(a)\n",
    "b = a[:, np.newaxis]\n",
    "print(b) # 브로드케스팅\n",
    "z = a + b # a는 행이 확장이되고 b는 열이 확장이 되서 연산이 되게 한다.\n",
    "print(z)\n",
    "z = a + 5 # 유니버셜함수에 의해서 브로케스팅이 일어난다.\n",
    "\n",
    "# [0 1 2] + [[0][0][0]\n",
    "# [0 1 2]    [1][1][1]\n",
    "# [0 1 2]    [2][2][2]]\n",
    "M = np.ones((3,3))\n",
    "print(M)\n",
    "M1 = np.zeros((3,3))\n",
    "print(M1)\n",
    "z = a + M # 1차원 배열 a가 2차원 배열로 브로드케스팅이 일어난다.\n",
    "# [1,2,3] + [[1. 1. 1.]\n",
    "# [1,2,3]    [1. 1. 1.]\n",
    "# [1,2,3]    [1. 1. 1.]]\n",
    "print(z)"
   ]
  }
 ],
 "metadata": {
  "kernelspec": {
   "display_name": "Python 3 (ipykernel)",
   "language": "python",
   "name": "python3"
  },
  "language_info": {
   "codemirror_mode": {
    "name": "ipython",
    "version": 3
   },
   "file_extension": ".py",
   "mimetype": "text/x-python",
   "name": "python",
   "nbconvert_exporter": "python",
   "pygments_lexer": "ipython3",
   "version": "3.10.4"
  }
 },
 "nbformat": 4,
 "nbformat_minor": 5
}
