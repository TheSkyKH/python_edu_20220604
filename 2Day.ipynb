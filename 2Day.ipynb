{
 "cells": [
  {
   "cell_type": "code",
   "execution_count": 1,
   "id": "34ef4f24",
   "metadata": {},
   "outputs": [
    {
     "name": "stderr",
     "output_type": "stream",
     "text": [
      "C:\\Users\\soldesk\\AppData\\Local\\Temp\\ipykernel_9372\\1014303460.py:1: DeprecationWarning: Importing display from IPython.core.display is deprecated since IPython 7.14, please import from IPython display\n",
      "  from IPython.core.display import display, HTML\n"
     ]
    },
    {
     "data": {
      "text/html": [
       "<style>\n",
       "div.container { width:100% !important; }\n",
       "div.CodeMirror {font-family: Consolas; font-size: 30pt;}\n",
       "div.output { font-size: 20pt; font-weight: bold;}\n",
       "div.input { font-family: Consolas; font-size: 30pt;}\n",
       "div.prompt { min-width: 100px;}\n",
       "</style>\n"
      ],
      "text/plain": [
       "<IPython.core.display.HTML object>"
      ]
     },
     "metadata": {},
     "output_type": "display_data"
    }
   ],
   "source": [
    "from IPython.core.display import display, HTML\n",
    "display(HTML(\n",
    "\"\"\"<style>\n",
    "div.container { width:100% !important; }\n",
    "div.CodeMirror {font-family: Consolas; font-size: 30pt;}\n",
    "div.output { font-size: 20pt; font-weight: bold;}\n",
    "div.input { font-family: Consolas; font-size: 30pt;}\n",
    "div.prompt { min-width: 100px;}\n",
    "</style>\n",
    "\"\"\"))"
   ]
  },
  {
   "cell_type": "code",
   "execution_count": 17,
   "id": "e7a49a15",
   "metadata": {},
   "outputs": [
    {
     "name": "stdout",
     "output_type": "stream",
     "text": [
      "Life is too short\n"
     ]
    },
    {
     "data": {
      "text/plain": [
       "True"
      ]
     },
     "execution_count": 17,
     "metadata": {},
     "output_type": "execute_result"
    }
   ],
   "source": [
    "# 리터널 : 자연어 : 문자, 숫자 \n",
    "# 숫자 : 정수 자료형 , 실수 자료형; 10, 10.5 , '10'(x)\n",
    "# 연산자 : +,-,*,/,//,%,**\n",
    "# 문자 자료형: 'abc' ,\"abc\", '''abc''' , \"\"\"abc\"\"\" , '10', \n",
    "#        a : 변수 : 문자가 될 수 없다, 자료형을 저장하기 위해서 사용\n",
    "a  = 10\n",
    "a  = '10'\n",
    "# 문자열에서  indexing, slicing\n",
    "# 문자열 자료형 : + , *\n",
    "# 문자함수\n",
    "a = 'Life is too short'\n",
    "a.count('s')\n",
    "a.find('s')\n",
    "a.find('too')\n",
    "a.find('s',7)\n",
    "a.find('k') # 없는 문자인 경우 -1\n",
    "a.index('s')\n",
    "a.index('too')\n",
    "a.index('s',7)\n",
    "#a.index('k') # 없는 문자는 오류가 발생\n",
    "a.upper()\n",
    "a.lower() \n",
    "a = ' Life is too short '\n",
    "# 양쪽 공백을 제거 할때 사용\n",
    "a.strip()\n",
    "a = 'abLife is too shortab'\n",
    "a.lstrip('ab')\n",
    "a.rstrip('ab')\n",
    "a = a.strip('ab')\n",
    "print(a)\n",
    "a.replace(\"Life\", \"Your leg \")\n",
    "a = \"010-1234-1234\"\n",
    "#문자열이 모두 숫자인지\n",
    "a.isdigit()\n",
    "a = \"01012341234\"\n",
    "a.isdigit()\n",
    "a = \"abc def\"\n",
    "a.isalpha()\n",
    "a = \"abcdef\"\n",
    "a.isalpha()\n",
    "a.islower() # 모두 소문자\n",
    "a.isupper() # 모두 대문자"
   ]
  },
  {
   "cell_type": "code",
   "execution_count": 24,
   "id": "691ff749",
   "metadata": {},
   "outputs": [
    {
     "data": {
      "text/plain": [
       "'나는 10개의 사과를 먹어서 three일 동안 아팠습니다.'"
      ]
     },
     "execution_count": 24,
     "metadata": {},
     "output_type": "execute_result"
    }
   ],
   "source": [
    "# 문자열 다루기\n",
    "number = 10\n",
    "day = \"three\"\n",
    "'''나는 10개의 사과를 먹어서 three일 동안 아팠습니다.'''\n",
    "a = \"나는 %d개의 사과를 먹어서 %s일 동안 아팠습니다.\" % (number, day)\n",
    "a = \"나는 %s개의 사과를 먹어서 %s일 동안 아팠습니다.\" % (number, day)\n",
    "a = \"나는 {0}개의 사과를 먹어서 {1}일 동안 아팠습니다.\".format(number, day)\n",
    "a = \"나는 {0}개의 사과를 먹어서 {d}일 동안 아팠습니다.\".format(number, d=day)\n",
    "a = f\"나는 {number}개의 사과를 먹어서 {day}일 동안 아팠습니다.\"\n",
    "a"
   ]
  },
  {
   "cell_type": "code",
   "execution_count": 37,
   "id": "c39b248c",
   "metadata": {},
   "outputs": [
    {
     "name": "stdout",
     "output_type": "stream",
     "text": [
      "Life istoo short\n",
      "Life is too short\n",
      "============================================================\n",
      "[1, 2, 3, 'aaaa', 'bbbb', 'ccccc']\n",
      "[1, 2, 3, 1, 2, 3, 1, 2, 3]\n",
      "7\n",
      "3\n",
      "3\n"
     ]
    }
   ],
   "source": [
    "# 리스트 자료형 : 여러 유형의 데이터를 여러 개 저장할 수 있는 자료형 : []\n",
    "a = [] # []를 사용하면 리스트가 된다 ; 빈리스트\n",
    "b = [1, 2, 3] \n",
    "c = ['Life', 'is', 'too', 'short'] \n",
    "d = [1, 2, 3, 'Life', 'is', 'too', 'short']\n",
    "e = [1, 2, 3, 'Life', 'is', 'too', 'short', [1, 2, 3] ] \n",
    "# indexing , slicing\n",
    "str1 = \"Life is\"\n",
    "str2 = 'too short'\n",
    "print(str1 + str2)\n",
    "print(str1 + \" \" +str2)\n",
    "print(\"==\" * 30)\n",
    "a = [1,2,3]\n",
    "b = ['aaaa','bbbb','ccccc']\n",
    "print( a + b )\n",
    "print( a * 3 )\n",
    "# 문자열의 크기\n",
    "print(len(str1))\n",
    "# 리스트의 크기 \n",
    "print(len(a)) # 요소의 갯수 \n",
    "print(len(b))"
   ]
  },
  {
   "cell_type": "code",
   "execution_count": 47,
   "id": "81ec86ca",
   "metadata": {},
   "outputs": [
    {
     "name": "stdout",
     "output_type": "stream",
     "text": [
      "Life is\n"
     ]
    },
    {
     "data": {
      "text/plain": [
       "'L'"
      ]
     },
     "execution_count": 47,
     "metadata": {},
     "output_type": "execute_result"
    }
   ],
   "source": [
    "a = [1,2,3,4,5]\n",
    "#    0 1 2 3 4\n",
    "a[2]\n",
    "a[2] = 10\n",
    "a\n",
    "# 리스트에 있는 요소의 값을 변경할 경우 indexing을 이용해서 변경한다.\n",
    "a[1]\n",
    "a[2]\n",
    "c = ['Life', 'is', 'too', 'short'] \n",
    "c[0]\n",
    "c[0] = \"your leg\"\n",
    "c\n",
    "print(str1)  # Life is\n",
    "#              0123456\n",
    "str1[0]\n",
    "# str1[0]='l'#문자열에서는 indexing을 이용해서 문자열에 있는 값을 변경할 수 없다."
   ]
  },
  {
   "cell_type": "code",
   "execution_count": 64,
   "id": "9be99db8",
   "metadata": {},
   "outputs": [
    {
     "data": {
      "text/plain": [
       "['Life', 'is', 'too', 'short', 1, 2, 3]"
      ]
     },
     "execution_count": 64,
     "metadata": {},
     "output_type": "execute_result"
    }
   ],
   "source": [
    "# 리스트 함수\n",
    "### 리스트에 요소 추가 \n",
    "l = ['Life', 'is']\n",
    "l\n",
    "# 리스트 마지막에 요소 추가하기\n",
    "l.append('too')\n",
    "l\n",
    "l.append('short')\n",
    "l\n",
    "# 원하는 위치에 요소 삽입하기\n",
    "l = ['Life', 'short']\n",
    "l\n",
    "l.insert(1, 'is')\n",
    "l  # ['Life', 'is', 'short']\n",
    "l.insert(2, 'too')\n",
    "l\n",
    "# 리스트 확장하기 ( + )\n",
    "a =  [1,2,3]\n",
    "c = l + a \n",
    "c\n",
    "l.extend(a) # \n",
    "l"
   ]
  },
  {
   "cell_type": "code",
   "execution_count": 89,
   "id": "e7bc38b2",
   "metadata": {},
   "outputs": [
    {
     "name": "stdout",
     "output_type": "stream",
     "text": [
      "short\n",
      "too\n",
      "9\n",
      "too\n",
      "8\n",
      "[1]\n",
      "['Life', 'is', 'short', 1, 2, 3, '1']\n",
      "7\n"
     ]
    }
   ],
   "source": [
    "l = ['Life', 'is', 'too', 'short', 1, 2, 3]\n",
    "#      0      1      2       3     4  5  6\n",
    "# index를 이용해서 요소 삭제\n",
    "l[4]\n",
    "del l[4]\n",
    "l # ['Life', 'is', 'too', 'short', 2, 3]\n",
    "# slicing을 이용해서 요소 삭제\n",
    "l[4:6]\n",
    "del l[4:6]\n",
    "l # ['Life', 'is', 'too', 'short']\n",
    "del l[2:]\n",
    "l\n",
    "l = ['Life', 'is', 'too', 'short', 1, 2, 3, [1], '1']\n",
    "# 요소의 값을 이용해서 요소 삭제\n",
    "l.remove(1) # 정수\n",
    "l\n",
    "l.remove([1]) # 리스트\n",
    "l\n",
    "l.remove('1') # 문자\n",
    "l\n",
    "l.remove('is')\n",
    "l\n",
    "#리스트에서 값을 가지고 나오기\n",
    "l.pop() # 마지막 값을 가지고 나옴\n",
    "l\n",
    "l.pop() \n",
    "l\n",
    "result = l.pop()\n",
    "print(result)\n",
    "l\n",
    "result = l.pop()\n",
    "print(result)\n",
    "l\n",
    "l = ['Life', 'is', 'too', 'short', 1, 2, 3, [1], '1']\n",
    "#       0      1     2       3      4  5  6  7    8\n",
    "# pop함수에 index를 사용해서 index에 있는 값을 가져오기\n",
    "print(len(l))\n",
    "result = l.pop(2)\n",
    "print(result)\n",
    "l\n",
    "print(len(l))\n",
    "result = l.pop(6)\n",
    "print(result)\n",
    "print(l)\n",
    "print(len(l))"
   ]
  },
  {
   "cell_type": "code",
   "execution_count": 95,
   "id": "e8f2a420",
   "metadata": {},
   "outputs": [
    {
     "data": {
      "text/plain": [
       "[3, 2, 4, 1]"
      ]
     },
     "execution_count": 95,
     "metadata": {},
     "output_type": "execute_result"
    }
   ],
   "source": [
    "# 정렬\n",
    "a = [1, 4, 2, 3]\n",
    "a\n",
    "# 오름차순으로 정렬\n",
    "a.sort() \n",
    "a\n",
    "a = [1, 4, 2, 3]\n",
    "# 내림차순으로 정렬\n",
    "a.sort(reverse=True) # [4, 3, 2, 1]\n",
    "a\n",
    "# 뒤에서 부터 출력\n",
    "a = [1, 4, 2, 3]\n",
    "a.reverse() # [3, 2, 4, 1]\n",
    "a"
   ]
  },
  {
   "cell_type": "code",
   "execution_count": 101,
   "id": "ff646bc1",
   "metadata": {},
   "outputs": [
    {
     "data": {
      "text/plain": [
       "4"
      ]
     },
     "execution_count": 101,
     "metadata": {},
     "output_type": "execute_result"
    }
   ],
   "source": [
    "str3 = 'hobby'\n",
    "str3.count('b')\n",
    "a = [1, 4, 2, 5, 4, 3]\n",
    "# 같은 값의 갯수\n",
    "a.count(4)\n",
    "# 요소의 위치 찾기\n",
    "a.index(4)\n",
    "a.index(4, 2)\n",
    "# a.find(4) : find함수는 문자열에는 있지만 리스트에는 없다."
   ]
  },
  {
   "cell_type": "code",
   "execution_count": 102,
   "id": "d0403094",
   "metadata": {},
   "outputs": [
    {
     "name": "stdout",
     "output_type": "stream",
     "text": [
      "1\n",
      "1\n",
      "[1]\n",
      "(1,)\n"
     ]
    }
   ],
   "source": [
    "# 파이썬 자료형 : \n",
    "# 정수형 : 1, 54, 20, '1'(x) \n",
    "# 실수형 : 1.3, 3.6, '3.6'(x)  \n",
    "# 문자열형 : 'a', \"a\", '''a''', \"\"\"a\"\"\", '10', \"20.5\" ; a : 변수  \n",
    "# 리스트형 : [], [1]\n",
    "# 튜플 : () ,(1,) # 튜플 자료형은 ()로 표시한다.\n",
    "print(1)\n",
    "print('1')\n",
    "print([1]) # 리스트 자료형 : 여러 자료형을 여러개 저장할 때 사용\n",
    "print((1,)) # 튜플 자료형 : 여러 자료형을 여러개 저장할 때 사용"
   ]
  },
  {
   "cell_type": "code",
   "execution_count": 124,
   "id": "141a8a32",
   "metadata": {},
   "outputs": [
    {
     "name": "stdout",
     "output_type": "stream",
     "text": [
      "13\n",
      "16\n",
      "1\n",
      "(1,)\n",
      "(1,)\n"
     ]
    }
   ],
   "source": [
    "# 튜플 자료형\n",
    "l = [] # 빈 리스트\n",
    "t = () # 빈 튜플\n",
    "print( 1 + 3 * 4 )\n",
    "print((1+3) * 4) # () 최우선 연산자\n",
    "print((1))\n",
    "print((1,))#요소가 하나인 튜플인 경우 최우선 연산자와 구별하기 위해 \",\"를 적어준다.\n",
    "t1 = (1,)\n",
    "print(t1)\n",
    "t2 = (1,2,3) # 요소가 두개 이산인 경우 ()만 해주면 된다.\n",
    "t3 =  (1,2,3,'a', 'b') \n",
    "t4 = ('a', 'b', ('ab', 'cd')) # 튜플을 가진 튜플\n",
    "t5 = ('a', 'b', ('ab', 'cd'), [1,2,3]) "
   ]
  },
  {
   "cell_type": "code",
   "execution_count": 127,
   "id": "abf096c8",
   "metadata": {},
   "outputs": [
    {
     "name": "stdout",
     "output_type": "stream",
     "text": [
      "t2[1] = 2\n",
      "l[1] = 2\n",
      "l[1] = 10\n"
     ]
    },
    {
     "data": {
      "text/plain": [
       "(1, 2, 3)"
      ]
     },
     "execution_count": 127,
     "metadata": {},
     "output_type": "execute_result"
    }
   ],
   "source": [
    "t2 = (1,2,3)\n",
    "#     0 1 2\n",
    "# indexing, slicing을 할 수 있다.\n",
    "print(\"t2[1] = \" + str(t2[1]))\n",
    "t2[1:]\n",
    "l = [1,2,3]\n",
    "print(\"l[1] = \" + str(l[1]))\n",
    "l[1] = 10\n",
    "print(\"l[1] = \" + str(l[1]))\n",
    "l\n",
    "# t2[1] = 10\n",
    "# 리스트와 튜플의 차이점\n",
    "# 리스트는 요소를 변경할 수 있지만 튜플은 요소를 변경할 수 없다.\n",
    "del l[1] # 요소 삭제\n",
    "# del t2[1] # 튜플에 있는 값을 변경할 수 없으므로  삭제도 되지 않는다.\n",
    "l2 = list(t2) # 튜플을 리스트로 변경\n",
    "l2\n",
    "t6 = tuple(l2) # 리스트를 튜플로 변경\n",
    "t6"
   ]
  },
  {
   "cell_type": "code",
   "execution_count": 147,
   "id": "a17bd1db",
   "metadata": {},
   "outputs": [
    {
     "name": "stdout",
     "output_type": "stream",
     "text": [
      "2\n",
      "a\n",
      "[1, 2, 3]\n",
      "(1, 2, 3)\n",
      "2\n",
      "3\n",
      "5\n",
      "('a', 'b', [1, 2, 3])\n",
      "[2, 3]\n",
      "1\n",
      "1\n",
      "2\n"
     ]
    }
   ],
   "source": [
    "l = [1, 2, 3, \"a\", \"b\", [1,2,3], (1,2,3)]\n",
    "#    0  1  2   3   4       5        6\n",
    "l[1]\n",
    "l[5]\n",
    "l[6]\n",
    "t7 = (1, 2, 3, \"a\", \"b\", [1,2,3], (1,2,3))\n",
    "#    0  1  2   3   4       5        6\n",
    "#                         0 1 2    0 1 2\n",
    "print(t7[1])\n",
    "print(t7[3])\n",
    "print(t7[5]) # 리스트\n",
    "print(t7[6]) # 튜플\n",
    "print(t7[5][1]) # 정수 : 2\n",
    "print(t7[6][2]) # 정수 : 3\n",
    "print(t7[5][1] + t7[6][2])\n",
    "print(t7[3: 3+3])\n",
    "print(t7[5][1:])\n",
    "t8 = 1, 2, 3, \"a\", \"b\", [1,2,3], (1,2,3), 3\n",
    "t8\n",
    "# 요소의 위치\n",
    "print(l.index(2))\n",
    "print(t7.index(2))\n",
    "print(t8.count(3))"
   ]
  },
  {
   "cell_type": "code",
   "execution_count": 163,
   "id": "bce2b139",
   "metadata": {},
   "outputs": [
    {
     "name": "stdout",
     "output_type": "stream",
     "text": [
      "{'name': 'pey', 'phone': '0119993323', 'birth': '1118'}\n",
      "이숭무\n",
      "이상범\n",
      "[1, 10, 3, 4]\n",
      "{2: '이숭무', 0: '김잔중', 1: '이장범'}\n",
      "{2: '이숭무', 0: '김잔중', 1: '이장범', 3: '이상범'}\n",
      "{2: '이숭무', 0: '김잔중', 1: '이장범', 3: '박준현'}\n",
      "{1: 'b'}\n",
      "{1: 'b', 3: [1, 2, 3, 4]}\n"
     ]
    }
   ],
   "source": [
    "# 정수 , 실수 , 문자 , 리스트 , 튜플 \n",
    "### 딕셔너리(사전) : 키와 값이 하나의 쌍으로 이루어진 자료형  : {}\n",
    "l = [] # 빈 리스트\n",
    "t = () # 빈 튜플\n",
    "d = {} # 빈 딕셔너리\n",
    "# d1 = { Key1:Value1, Key2:Value2, Key3:Value3, ...}\n",
    "# java:map<키,값>\n",
    "dic = {'name':'pey', 'phone':'0119993323', 'birth': '1118'}\n",
    "print(dic)\n",
    "l = [1,2,3,4]\n",
    "#    0 1 2 3\n",
    "l[2] # index를 이용해서 값을 가지고 온다\n",
    "dic['name'] # 키를 이용해서 값을 가지고 온다.\n",
    "dic['phone']\n",
    "d2 = { 2 : '이숭무', 0 : '이상범' , 1 : '이장범'}\n",
    "#         0             1            2 (x)\n",
    "print(d2[2])\n",
    "print(d2[0])\n",
    "l[1] = 10\n",
    "print(l)\n",
    "# l[4] = 30 # list assignment index out of range\n",
    "d2[0] =  '김잔중' # 키가 있는 경우에는 값이 변경된다.\n",
    "print(d2)\n",
    "d2[3] = '이상범' # 키가 없는 경우에는 딕서너리에 추가\n",
    "print(d2)\n",
    "# 중복키를 허용하지 않는다.\n",
    "d2[3] = '박준현'\n",
    "print(d2)\n",
    "a = {1 :'a', 1: 'b'}\n",
    "print(a) # 중복 키를 허용하지 않으므로 나중에 저장된 값을 갖는다.\n",
    "\n",
    "a[3] = [1,2,3,4]\n",
    "print(a)"
   ]
  },
  {
   "cell_type": "code",
   "execution_count": 169,
   "id": "39d410c2",
   "metadata": {},
   "outputs": [
    {
     "name": "stdout",
     "output_type": "stream",
     "text": [
      "{'phone': '0119993323', 'birth': '1118'}\n",
      "{'phone': '0119993323', 'birth': '1118', 3: '이상범'}\n",
      "{'phone': '0119993323', 'birth': '1118'}\n"
     ]
    }
   ],
   "source": [
    "dic= {'name': 'pey', 'phone': '0119993323', 'birth': '1118'}\n",
    "dic\n",
    "#  요소 삭제\n",
    "del dic['name']\n",
    "print(dic)\n",
    "dic[3] = '이상범'\n",
    "print(dic)\n",
    "del dic[3]\n",
    "print(dic)"
   ]
  },
  {
   "cell_type": "code",
   "execution_count": 176,
   "id": "9d062afc",
   "metadata": {},
   "outputs": [
    {
     "name": "stdout",
     "output_type": "stream",
     "text": [
      "{'name': 'pey', 'phone': '0119993323', 'birth': '19991118'}\n",
      "19991118\n",
      "1999\n",
      "11\n",
      "18\n",
      "1118\n",
      "1118\n"
     ]
    }
   ],
   "source": [
    "dic = {'name':'pey', 'phone':'0119993323', 'birth': '1118'}\n",
    "dic['birth'] = '19991118'\n",
    "print(dic)\n",
    "print(dic['birth']) # 19991118\n",
    "#                     01234567 : index\n",
    "#                     87654321 -\n",
    "## 년, 월 , 일을 따로 출력하세요.\n",
    "print(dic['birth'][:4])\n",
    "print(dic['birth'][4:4+2])\n",
    "print(dic['birth'][6:6+2])\n",
    "#  월일만 같이 출력\n",
    "print(dic['birth'][4:])\n",
    "print(dic['birth'][-4:])"
   ]
  },
  {
   "cell_type": "code",
   "execution_count": 182,
   "id": "0712aeec",
   "metadata": {},
   "outputs": [
    {
     "name": "stdout",
     "output_type": "stream",
     "text": [
      "dict_keys(['name', 'phone', 'birth'])\n",
      "dict_values(['pey', '0119993323', '1118'])\n",
      "dict_items([('name', 'pey'), ('phone', '0119993323'), ('birth', '1118')])\n",
      "{}\n",
      "[1, 32, 4, 5]\n",
      "[]\n"
     ]
    }
   ],
   "source": [
    "#### 딕셔너리 관련 함수\n",
    "dic = {'name':'pey', 'phone':'0119993323', 'birth': '1118'}\n",
    "### 딕셔너리에 있는 키만 가져오기\n",
    "print(dic.keys())\n",
    "### 딕셔너리에 있는 값만 가져오기\n",
    "print(dic.values())\n",
    "# 딕셔너리에 있는 키와 값을 튜플로 묶어서 리스트로 가져오기\n",
    "print(dic.items())\n",
    "# 딕셔너리 비우기\n",
    "dic.clear()\n",
    "print(dic)\n",
    "l = [1,32,4,5]\n",
    "print(l)\n",
    "# 리스트 비우기\n",
    "l.clear()\n",
    "print(l)"
   ]
  },
  {
   "cell_type": "code",
   "execution_count": 194,
   "id": "c18dd9ca",
   "metadata": {},
   "outputs": [
    {
     "name": "stdout",
     "output_type": "stream",
     "text": [
      "pey\n",
      "pey\n",
      "0\n",
      "None\n",
      "1000\n",
      "1200\n",
      "1000\n",
      "1200\n",
      "100\n"
     ]
    }
   ],
   "source": [
    "dic = {'name':'pey', 'phone':'0119993323', 'birth': '1118'}\n",
    "print(dic['name'])\n",
    "print(dic.get('name'))\n",
    "# print(dic['money']) # 값을 가지고 올때 키가 없으면 오류 발생\n",
    "print(dic.get('money',0)) #키가 없는 경우 특정한 값을 가질 수 있게 할 수 있다.\n",
    "print(dic.get('money')) # None:키가 존재하지 않는다.\n",
    "\n",
    "dic1 = {'classic' : 500 ,  \"pop\" : 600 }\n",
    "dic2 = {'classic' : 500 ,  \"pop\" : 600 , \"money\" : 100 }\n",
    "print(dic1['classic'] + dic2['classic'])\n",
    "print(dic1['pop'] + dic2['pop'])\n",
    "# print(dic1['money'] + dic2['money'])\n",
    "\n",
    "print(dic1.get('classic',0) + dic2.get('classic',0))\n",
    "print(dic1.get('pop',0) + dic2.get('pop',0))\n",
    "print(dic1.get('money',0) + dic2.get('money',0))"
   ]
  },
  {
   "cell_type": "code",
   "execution_count": 200,
   "id": "91fcb8e4",
   "metadata": {},
   "outputs": [
    {
     "name": "stdout",
     "output_type": "stream",
     "text": [
      "{1, 2, 3, 4}\n",
      "{1, 2, 3, 4}\n",
      "{1, 2, 3, 4}\n",
      "{'h', 'o', 'e', 'l'}\n",
      "[1, 2, 3, 4]\n",
      "2\n",
      "(1, 2, 3, 4)\n",
      "2\n"
     ]
    },
    {
     "ename": "TypeError",
     "evalue": "'set' object is not subscriptable",
     "output_type": "error",
     "traceback": [
      "\u001b[1;31m---------------------------------------------------------------------------\u001b[0m",
      "\u001b[1;31mTypeError\u001b[0m                                 Traceback (most recent call last)",
      "Input \u001b[1;32mIn [200]\u001b[0m, in \u001b[0;36m<cell line: 17>\u001b[1;34m()\u001b[0m\n\u001b[0;32m     15\u001b[0m \u001b[38;5;28mprint\u001b[39m(t)  \u001b[38;5;66;03m# (1, 2, 3, 4)\u001b[39;00m\n\u001b[0;32m     16\u001b[0m \u001b[38;5;28mprint\u001b[39m(t[\u001b[38;5;241m1\u001b[39m])\n\u001b[1;32m---> 17\u001b[0m \u001b[38;5;28mprint\u001b[39m(\u001b[43ms1\u001b[49m\u001b[43m[\u001b[49m\u001b[38;5;241;43m1\u001b[39;49m\u001b[43m]\u001b[49m)\n",
      "\u001b[1;31mTypeError\u001b[0m: 'set' object is not subscriptable"
     ]
    }
   ],
   "source": [
    "# 정수, 실수, 문자, 리스트, 튜플, 딕셔너리\n",
    "# 집합 : 교집합, 합집합, 차집합\n",
    "s1 = set([1,2,3,4])\n",
    "s2 = set((1,2,3,4))\n",
    "s3 = {1,2,3,4}\n",
    "print(s1)\n",
    "print(s2)\n",
    "print(s3)\n",
    "s4 = set(\"hello\") # 중복 데이터는 허용하지 않는다.\n",
    "print(s4)\n",
    "l = list(s2) # [1, 2, 3, 4]\n",
    "print(l)\n",
    "print(l[1])\n",
    "t = tuple(s2)\n",
    "print(t)  # (1, 2, 3, 4)\n",
    "print(t[1])\n",
    "# print(s1[1]) # 집합자료형은 index를 사용하지 않는다.\n",
    "# index를 사용하기 위해서는 리스트나 튜플로 변환해야 한다."
   ]
  },
  {
   "cell_type": "code",
   "execution_count": 207,
   "id": "bc37f6a3",
   "metadata": {},
   "outputs": [
    {
     "name": "stdout",
     "output_type": "stream",
     "text": [
      "{1, 2, 3, 4, 5, 6}\n",
      "{4, 5, 6, 7, 8, 9}\n",
      "{4, 5, 6}\n",
      "{4, 5, 6}\n",
      "{1, 2, 3, 4, 5, 6, 7, 8, 9}\n",
      "{1, 2, 3, 4, 5, 6, 7, 8, 9}\n",
      "{1, 2, 3}\n",
      "{1, 2, 3}\n",
      "{8, 9, 7}\n",
      "{8, 9, 7}\n"
     ]
    }
   ],
   "source": [
    "#### 교집합, 합집합, 차집합\n",
    "s1 = set([1, 2, 3, 4, 5, 6])\n",
    "s2 = set([4, 5, 6, 7, 8, 9])\n",
    "print(s1)\n",
    "print(s2)\n",
    "### 교집합\n",
    "print(s1 & s2)\n",
    "print(s1.intersection(s2))\n",
    "### 합집합\n",
    "print(s1 | s2) \n",
    "print(s1.union(s2))\n",
    "### 차집합\n",
    "print(s1 - s2)\n",
    "print(s1.difference(s2)) # {1, 2, 3}\n",
    "print(s2 - s1)\n",
    "print(s2.difference(s1)) # {8, 9, 7}"
   ]
  },
  {
   "cell_type": "code",
   "execution_count": 221,
   "id": "1a150b32",
   "metadata": {},
   "outputs": [
    {
     "name": "stdout",
     "output_type": "stream",
     "text": [
      "{1, 2, 3, 4, 5, 6, 7}\n",
      "{1, 2, 3, 4, 5, 6, 7}\n",
      "{1, 2, 3, 4, 5, 6, 7}\n",
      "{1, 2, 3, 4, 5, 6, 7, (8, 9, 10)}\n",
      "{1, 2, 3, 4, 5, 6, 7, 8, 9, 10, (8, 9, 10)}\n",
      "{1, 2, 3, 4, 5, 6, 7, 8, 9, 10, 11, 12, 13, (8, 9, 10)}\n",
      "{1, 2, 3, 4, 5, 6, 7, 8, 9, 10, 11, 12, (8, 9, 10)}\n",
      "{1, 2, 3, 4, 5, 6, 7, 8, 9, 10, 11, 12}\n"
     ]
    }
   ],
   "source": [
    "s1 = {1, 2, 3, 4, 5, 6, 7}\n",
    "### 요소 추가\n",
    "print(s1)\n",
    "s1.add(7)\n",
    "print(s1)\n",
    "s1.add(7)\n",
    "print(s1)\n",
    "# 8,9,10을 추가\n",
    "s1.add((8,9,10))\n",
    "print(s1)\n",
    "# {1, 2, 3, 4, 5, 6, 7,8, 9, 10 }\n",
    "s1.update([8,9,10])\n",
    "print(s1)\n",
    "s1.update((11,12,13))\n",
    "print(s1)\n",
    "## 요소 삭제\n",
    "s1.remove(13)\n",
    "print(s1)\n",
    "s1.remove((8, 9, 10))\n",
    "print(s1)"
   ]
  },
  {
   "cell_type": "code",
   "execution_count": 229,
   "id": "fa63f6d3",
   "metadata": {},
   "outputs": [
    {
     "name": "stdout",
     "output_type": "stream",
     "text": [
      "True\n",
      "2\n",
      "ab\n",
      "[1, 2]\n",
      "False\n",
      "True\n",
      "True\n",
      "False\n",
      "False\n",
      "True\n"
     ]
    }
   ],
   "source": [
    "# 정수 1 , 실수 10.5, 문자 'a', 리스트 [], 튜플(), 딕셔너리 {}, 집합 set, \n",
    "# 부울 : True, False\n",
    "a = 1 # 정수\n",
    "a = 1.5 # 실수\n",
    "a = 'a' # 문자\n",
    "a = 'true' # 문자\n",
    "a = 'True' # 문자\n",
    "a = [1,2] # 리스트\n",
    "a = (1, 2) # 튜플\n",
    "a = {1 : 2 } # 딕셔너리\n",
    "a = {1,2,3} # 집합\n",
    "a = True # 부울\n",
    "a = False  # 부울\n",
    "# a = true # 부울 타입이 아니라 오류 발생\n",
    "# a = false # 부울 타입이 아니라 오류 발생\n",
    "# 부울 타입을 사용하는 연산은 논리연산\n",
    "print( True and True )# 논리연산 : 부울과 부울을 논리연산을 하면 부울타입이다.\n",
    "\n",
    "print( 1 + 1) # 정수의 연산의 결과 정수\n",
    "print( 'a' + 'b') # 문자열의 연산결과 문자\n",
    "print([1] + [2]) # 리스트의 연산결과 리스트\n",
    "\n",
    "# 관계(비교)연산의 결과인 경우 부울 타입이 된다.\n",
    "x = 10 ; y = 20 \n",
    "print(x > y) # 부울 타입결과를 가진다.\n",
    "print(x < y)\n",
    "print(x <= y)\n",
    "print(x >= y)\n",
    "print(x == y)\n",
    "print(x != y)"
   ]
  },
  {
   "cell_type": "code",
   "execution_count": 233,
   "id": "024e1294",
   "metadata": {},
   "outputs": [
    {
     "name": "stdout",
     "output_type": "stream",
     "text": [
      "True\n",
      "False\n",
      "False\n",
      "False\n",
      "True\n",
      "True\n",
      "True\n",
      "False\n"
     ]
    }
   ],
   "source": [
    "# and | or : 논리연산 : bool타입을 이용해서 연산\n",
    "## and\n",
    "print(True and True)\n",
    "print(True and False)\n",
    "print(False and True)\n",
    "print(False and False)\n",
    "### or \n",
    "print(True or True)\n",
    "print(True or False)\n",
    "print(False or True)\n",
    "print(False or False)"
   ]
  },
  {
   "cell_type": "code",
   "execution_count": 235,
   "id": "18be567b",
   "metadata": {},
   "outputs": [
    {
     "name": "stdout",
     "output_type": "stream",
     "text": [
      "False\n",
      "True\n"
     ]
    }
   ],
   "source": [
    "x = 10; y = 20 ; z = 15\n",
    "print( x > y and z < y)\n",
    "print( x > y or z < y)"
   ]
  },
  {
   "cell_type": "code",
   "execution_count": 237,
   "id": "a4753993",
   "metadata": {},
   "outputs": [
    {
     "name": "stdout",
     "output_type": "stream",
     "text": [
      "False\n",
      "평년\n"
     ]
    }
   ],
   "source": [
    "### 2200년은 윤년일까요(True)? 평년일까요(False)? \n",
    "### 4년마다 윤년이지만 100년마다는 윤년이 아니다 그렇지만 400년마다는 윤년이다.\n",
    "year = 2200\n",
    "result = year % 4 == 0 and year % 100 != 0 or year % 400 == 0\n",
    "#            True      and      False      or    False\n",
    "print(result)\n",
    "\n",
    "if year % 4 == 0 and year % 100 != 0 or year % 400 == 0:\n",
    "    print(\"윤년\")\n",
    "else:\n",
    "    print(\"평년\")"
   ]
  },
  {
   "cell_type": "code",
   "execution_count": 246,
   "id": "79c7a264",
   "metadata": {
    "scrolled": true
   },
   "outputs": [
    {
     "name": "stdout",
     "output_type": "stream",
     "text": [
      "True\n",
      "False\n",
      "True\n",
      "False\n",
      "True\n",
      "False\n",
      "False\n",
      "True\n",
      "True\n",
      "False\n",
      "문자열\n"
     ]
    }
   ],
   "source": [
    "# bool함수를 사용해서 자료형이 가지고 있는 부울 타입을 확인하자.\n",
    "print(bool('이숭무')) # True\n",
    "print(bool('')) # blank  # False\n",
    "print(bool([1,2,3,4]))\n",
    "print(bool([])) # False\n",
    "print(bool((1,2,3,4)))\n",
    "print(bool(())) # False\n",
    "\n",
    "print(bool(0)) # False\n",
    "print(bool(-1)) # True\n",
    "print(bool(1)) # True\n",
    "print(bool(None)) # 존재하지만 알 수 없는 값 # False\n",
    "\n",
    "if \"이숭무\":\n",
    "    print(\"문자열\")"
   ]
  },
  {
   "cell_type": "code",
   "execution_count": 255,
   "id": "1ee0e2df",
   "metadata": {},
   "outputs": [
    {
     "name": "stdout",
     "output_type": "stream",
     "text": [
      "0 0 0\n",
      "python life\n",
      "python life\n",
      "python life\n",
      "python life\n",
      "python life\n",
      "python life\n",
      "python life\n",
      "python life [1, 2, 3]\n"
     ]
    }
   ],
   "source": [
    "### 파이썬 변수 선언법\n",
    "a = 'python'\n",
    "b = 'life'\n",
    "a = b = c = 0\n",
    "# <---------- 대입 순서\n",
    "print(a,b,c)\n",
    "a , b = 'python', 'life'\n",
    "print(a,b)\n",
    "a , b = ('python', 'life')\n",
    "print(a,b)\n",
    "a , b = ['python', 'life']\n",
    "print(a,b)\n",
    "(a , b) = 'python', 'life'\n",
    "print(a,b)\n",
    "[a , b] = 'python', 'life'\n",
    "print(a,b)\n",
    "(a , b) = ('python', 'life')\n",
    "print(a,b)\n",
    "[a , b] = ['python', 'life']\n",
    "print(a,b)\n",
    "a,b,c = 'python', 'life', [1,2,3]\n",
    "print(a,b,c)"
   ]
  },
  {
   "cell_type": "code",
   "execution_count": 257,
   "id": "c1d51a45",
   "metadata": {},
   "outputs": [
    {
     "name": "stdout",
     "output_type": "stream",
     "text": [
      "20 10\n",
      "20 10\n"
     ]
    }
   ],
   "source": [
    "# 변수에 있는 값을 서로 교환하기\n",
    "a = 10\n",
    "b = 20\n",
    "###  다른 언어인 경우\n",
    "temp = a\n",
    "a = b\n",
    "b = temp\n",
    "print(a, b)\n",
    "\n",
    "### 파이썬\n",
    "a = 10\n",
    "b = 20\n",
    "a , b = b, a\n",
    "print(a, b)"
   ]
  },
  {
   "cell_type": "code",
   "execution_count": 261,
   "id": "17b8cb16",
   "metadata": {},
   "outputs": [
    {
     "name": "stdout",
     "output_type": "stream",
     "text": [
      "문자열1\n",
      "실행 끝\n",
      "실행 끝\n"
     ]
    }
   ],
   "source": [
    "#### 3장 제어문\n",
    "### bool타입을 이용해서 원하는 결과를 얻어 오는 것을 말한다.\n",
    "\n",
    "### 조건문 : 여러가지 선택중에서 하나를 선택할 수 있게 하는 것\n",
    "### 조건문을 사용할 경우에는 조건식 뒤에는 : 이 있어야하고\n",
    "### 명령문은 들여쓰기를 하여야 한다. 들어쓰기가 되지 않은 경우 오류 발생\n",
    "### 들여쓰기는 공백문자 또는 탭을 사용할 수가 있지만 두개를 같이 사용하지 못한다.\n",
    "### 들여쓰기할 때는 주로 탭을 많이 사용한다.\n",
    "\n",
    "### 형식(문법)\n",
    "'''\n",
    "if 조건식: ### True\n",
    "    명령어1\n",
    "    ...\n",
    "    명령문n\n",
    "\n",
    "명령문11\n",
    "'''\n",
    "# 조건식 다음의 명령문은 조건식의 결과가 True이어야 실행이 되고  \n",
    "# False이면 실행이 안된다.\n",
    "if '이숭무': # True\n",
    "    print(\"문자열1\")\n",
    "\n",
    "print(\"실행 끝\")\n",
    "if '':\n",
    "    print(\"문자열2\")\n",
    "    \n",
    "print(\"실행 끝\")    "
   ]
  },
  {
   "cell_type": "code",
   "execution_count": 264,
   "id": "e40ef45f",
   "metadata": {},
   "outputs": [
    {
     "name": "stdout",
     "output_type": "stream",
     "text": [
      "차를 타고 가시오\n",
      "============================================================\n",
      "============================================================\n"
     ]
    }
   ],
   "source": [
    "# 단일 if문\n",
    "money = 3100\n",
    "# 3000원 이상이면 \"차를 타고 가시오\"를 출력\n",
    "if money >= 3000: # 조건식\n",
    "    print(\"차를 타고 가시오\")\n",
    "print(\"===\" * 20)\n",
    "money = 2500\n",
    "if money >= 3000: \n",
    "    print(\"차를 타고 가시오\")\n",
    "\n",
    "print(\"===\" * 20)"
   ]
  },
  {
   "cell_type": "code",
   "execution_count": 269,
   "id": "bae0f3a3",
   "metadata": {},
   "outputs": [
    {
     "name": "stdout",
     "output_type": "stream",
     "text": [
      "True\n",
      "차를 타고 가시오\n",
      "============================================================\n",
      "걸어가시오\n",
      "============================================================\n",
      "걸어가시오\n"
     ]
    }
   ],
   "source": [
    "# 결과가 false이어도 실행이 되도록 하자.\n",
    "# if ~ else  : 두개중에 하나를 선택하고자 할 때 사용\n",
    "'''\n",
    "if 조건식: # True\n",
    "    명령문1\n",
    "    ...\n",
    "    명령문n\n",
    "else:      #False\n",
    "    명령문1\n",
    "    ...\n",
    "    명령문n\n",
    "\n",
    "명령문\n",
    "    \n",
    "'''\n",
    "money = 3100\n",
    "# 돈이 3000원이상이면 \"차를 타고 가시오\"를 출력하고 아니면 \"걸어가시오\"를 출력\n",
    "print(money >= 3000)\n",
    "\n",
    "if money >= 3000:\n",
    "    print(\"차를 타고 가시오\")\n",
    "else:\n",
    "    print(\"걸어가시오\")\n",
    "\n",
    "print(\"==\" * 30)\n",
    "\n",
    "money = 2500\n",
    "if money >= 3000: # False\n",
    "    print(\"차를 타고 가시오\")\n",
    "else:\n",
    "    print(\"걸어가시오\")\n",
    "    \n",
    "print(\"==\" * 30)\n",
    "\n",
    "money = 2500\n",
    "if not money >= 3000: # not False => True\n",
    "    print(\"걸어가시오\")\n",
    "else:\n",
    "    print(\"차를 타고가시오\")"
   ]
  },
  {
   "cell_type": "code",
   "execution_count": 270,
   "id": "a6db2ece",
   "metadata": {},
   "outputs": [
    {
     "name": "stdout",
     "output_type": "stream",
     "text": [
      "False\n",
      "False\n",
      "True\n",
      "False\n",
      "True\n",
      "True\n"
     ]
    }
   ],
   "source": [
    "x = 10 ; y = 20 \n",
    "print( x == y )\n",
    "print( x > y )\n",
    "print( x < y )\n",
    "print( x >= y )\n",
    "print( x <= y )\n",
    "print( x != y )\n",
    "\n",
    "if x > y:\n",
    "    print(\"x가 y보다 크다\")\n",
    "else:\n",
    "    print(\"x가 y보다 작다\")\n",
    "    \n",
    "if x != y:\n",
    "    print(\"x와 y는 다르다\")\n",
    "else:\n",
    "    print(\"x와 y는 같다\")"
   ]
  },
  {
   "cell_type": "code",
   "execution_count": 281,
   "id": "cf531719",
   "metadata": {},
   "outputs": [
    {
     "name": "stdout",
     "output_type": "stream",
     "text": [
      "True\n",
      "False\n",
      "True\n",
      "False\n",
      "True\n",
      "True\n",
      "True\n",
      "True\n",
      "False\n",
      "True\n"
     ]
    }
   ],
   "source": [
    "# IN연산자 사용하기\n",
    "l = [1,2,3,4,5,6]\n",
    "print(4 in l)\n",
    "print(7 in l)\n",
    "print(4 in [1,2,3,4,5,6])\n",
    "\n",
    "print('j' in \"python\")\n",
    "print('j' not in \"python\")\n",
    "print('a' in {'a': 1, 'b' : 2})\n",
    "\n",
    "print(4 in (1,2,3,4,5,6))\n",
    "print(4 in {1,2,3,4,5,6})\n",
    "print(7 in {1,2,3,4,5,6})\n",
    "print(7 not in {1,2,3,4,5,6})"
   ]
  },
  {
   "cell_type": "code",
   "execution_count": 284,
   "id": "d1883db0",
   "metadata": {},
   "outputs": [
    {
     "name": "stdout",
     "output_type": "stream",
     "text": [
      "True\n",
      "리스트에 4가 포함되어 있습니다.\n",
      "False\n",
      "리스트에 7가 포함되어 있지 않다.\n"
     ]
    }
   ],
   "source": [
    "l = [1,2,3,4,5,6]\n",
    "print( 4 in l)\n",
    "if 4 in l:\n",
    "    print(\"리스트에 4가 포함되어 있습니다.\")\n",
    "else:\n",
    "    print(\"리스트에 4가 포함되어 있지 않다.\")\n",
    "    \n",
    "print( 7 in l)\n",
    "if 7 in l:\n",
    "    print(\"리스트에 7가 포함되어 있습니다.\")\n",
    "else:\n",
    "    print(\"리스트에 7가 포함되어 있지 않다.\")\n",
    "\n",
    "    \n",
    "if 7 not in l:\n",
    "    print(\"리스트에 7가 포함되어 있지 않다.\")\n",
    "else:\n",
    "    print(\"리스트에 7가 포함되어 있습니다.\")"
   ]
  },
  {
   "cell_type": "code",
   "execution_count": 288,
   "id": "5f796d18",
   "metadata": {},
   "outputs": [
    {
     "name": "stdout",
     "output_type": "stream",
     "text": [
      "True\n",
      " 주머니에 돈이 있습니다.\n",
      "True\n",
      "j가 없습니다.\n",
      "False\n",
      "불합격\n"
     ]
    }
   ],
   "source": [
    "pocket = ['paper', 'cellphone', 'money']\n",
    "print('money' in pocket)\n",
    "if 'money' in pocket:\n",
    "    print(\" 주머니에 돈이 있습니다.\")\n",
    "else:\n",
    "    print(\" 주머니에 돈이 없습니다.\")\n",
    "\n",
    "print('j' not in \"python\")\n",
    "if 'j' not in \"python\":\n",
    "    print(\"j가 없습니다.\")\n",
    "else:\n",
    "    print(\"j가 있습니다.\")\n",
    "    \n",
    "### 영어가 40이상이고, 국어가 40이상이고 , 수학이 40이상일 때 , \n",
    "### 평균이 60이상이면 합격 그렇지 않으면 불합격\n",
    "mat = 55\n",
    "eng = 70\n",
    "kor = 40\n",
    "result = (mat+eng+kor) / 3 >= 60 and mat >= 40 and eng >= 40 and kor >= 40\n",
    "print(result)\n",
    "\n",
    "if (mat+eng+kor) / 3 >= 60 and mat >= 40 and eng >= 40 and kor >= 40:\n",
    "    print(\"합격\")\n",
    "else:\n",
    "    print(\"불합격\")\n",
    "    "
   ]
  },
  {
   "cell_type": "code",
   "execution_count": 287,
   "id": "4e0733a9",
   "metadata": {},
   "outputs": [
    {
     "name": "stdout",
     "output_type": "stream",
     "text": [
      "C\n"
     ]
    }
   ],
   "source": [
    "# score가 90이상이면 A, 80이상이면 B, 70이상이면 C, 60이상이면 D, \n",
    "# 그렇지 않으면 F\n",
    "# 조건이 여러개인 경우\n",
    "'''\n",
    "if 조건식:\n",
    "    명령문\n",
    "elif 조건식:\n",
    "    명령문\n",
    "elif 조건식:\n",
    "    명령문\n",
    "...\n",
    "else:\n",
    "    명령문\n",
    "\n",
    "'''\n",
    "# 조건식은 무조건 if문 뒤에 와야 한다.else문 뒤에는 조건식이 올 수 없다.\n",
    "score = 79\n",
    "if score >= 90:\n",
    "    print('A')\n",
    "elif score >= 80:\n",
    "    print('B')    \n",
    "elif score >= 70:\n",
    "    print('C')\n",
    "elif score >= 60:\n",
    "    print('D')\n",
    "else:\n",
    "    print('F')"
   ]
  },
  {
   "cell_type": "code",
   "execution_count": 289,
   "id": "5b3feb30",
   "metadata": {},
   "outputs": [
    {
     "name": "stdout",
     "output_type": "stream",
     "text": [
      "C+\n"
     ]
    }
   ],
   "source": [
    "### 95이상이면 A+ 이하면 A\n",
    "### 85이상이면 B+ 이하면 B\n",
    "### 75이상이면 C+ 이하면 C\n",
    "### 65이상이면 D+ 이하면 D\n",
    "score = 79\n",
    "if score >= 90:\n",
    "    if score >= 95:\n",
    "        print('A+')\n",
    "    else:\n",
    "        print('A')\n",
    "elif score >= 80:\n",
    "    if score >= 85:\n",
    "        print('B+')\n",
    "    else:\n",
    "        print('B')    \n",
    "elif score >= 70:\n",
    "    if score >= 75:\n",
    "        print('C+')\n",
    "    else:\n",
    "        print('C')\n",
    "elif score >= 60:\n",
    "    if score >= 65:\n",
    "        print('D+')\n",
    "    else:\n",
    "        print('D')\n",
    "else:\n",
    "    print('F')"
   ]
  },
  {
   "cell_type": "code",
   "execution_count": 291,
   "id": "0c52e829",
   "metadata": {},
   "outputs": [
    {
     "name": "stdout",
     "output_type": "stream",
     "text": [
      "success\n"
     ]
    }
   ],
   "source": [
    "'''\n",
    "score가 60이면 message 변수에 success를 아니면 message 에 failure를 저장한 후 출력\n",
    "'''\n",
    "if score >= 60:\n",
    "    message = 'success'\n",
    "else:\n",
    "    message = 'failure'\n",
    "\n",
    "print(message)\n",
    "\n",
    "message = 'success' if score >= 60 else 'failure'\n",
    "print(message)"
   ]
  },
  {
   "cell_type": "code",
   "execution_count": 292,
   "id": "0b098e45",
   "metadata": {},
   "outputs": [
    {
     "name": "stdout",
     "output_type": "stream",
     "text": [
      "30\n"
     ]
    }
   ],
   "source": [
    "a = 10; b = 20; opt='add'\n",
    "\n",
    "if opt == \"add\":\n",
    "    result = a + b\n",
    "elif opt == \"sub\":\n",
    "    result = a - b\n",
    "elif opt == \"mul\":\n",
    "    result = a * b\n",
    "else :\n",
    "    result = a / b\n",
    "print(result)"
   ]
  },
  {
   "cell_type": "code",
   "execution_count": 293,
   "id": "57acc9f8",
   "metadata": {},
   "outputs": [
    {
     "name": "stdout",
     "output_type": "stream",
     "text": [
      "30\n"
     ]
    }
   ],
   "source": [
    "if opt == \"add\":\n",
    "    result = a + b\n",
    "else:\n",
    "    if opt == \"sub\":\n",
    "        result = a - b\n",
    "    else:\n",
    "        if opt == \"mul\":\n",
    "            result = a * b\n",
    "        else:\n",
    "            result = a / b\n",
    "print(result)"
   ]
  },
  {
   "cell_type": "code",
   "execution_count": 296,
   "id": "28703e54",
   "metadata": {},
   "outputs": [
    {
     "name": "stdout",
     "output_type": "stream",
     "text": [
      "30\n"
     ]
    }
   ],
   "source": [
    "result = a + b if opt == \"add\" else ( a - b if opt == \"sub\" \n",
    "                               else ( a * b if opt == \"mul\"\n",
    "                               else  a / b\n",
    "                               ))\n",
    "print(result)"
   ]
  },
  {
   "cell_type": "code",
   "execution_count": 306,
   "id": "e3208111",
   "metadata": {},
   "outputs": [
    {
     "name": "stdout",
     "output_type": "stream",
     "text": [
      "나무를 1번 찍었습니다.\n",
      "나무를 2번 찍었습니다.\n",
      "나무를 3번 찍었습니다.\n",
      "나무를 4번 찍었습니다.\n",
      "나무를 5번 찍었습니다.\n",
      "나무를 6번 찍었습니다.\n",
      "나무를 7번 찍었습니다.\n",
      "나무를 8번 찍었습니다.\n",
      "나무를 9번 찍었습니다.\n",
      "나무를 10번 찍었습니다.\n",
      "나무가 넘어 갑니다.\n",
      "============================================================\n",
      "나무를 1번 찍었습니다.\n",
      "나무를 2번 찍었습니다.\n",
      "나무를 3번 찍었습니다.\n",
      "나무를 4번 찍었습니다.\n",
      "나무를 5번 찍었습니다.\n",
      "나무를 6번 찍었습니다.\n",
      "나무를 7번 찍었습니다.\n",
      "나무를 8번 찍었습니다.\n",
      "나무를 9번 찍었습니다.\n",
      "나무를 10번 찍었습니다.\n",
      "나무가 넘어 갑니다.\n"
     ]
    }
   ],
   "source": [
    "print(\"나무를 1번 찍었습니다.\")\n",
    "print(\"나무를 2번 찍었습니다.\")\n",
    "print(\"나무를 3번 찍었습니다.\")\n",
    "print(\"나무를 4번 찍었습니다.\")\n",
    "print(\"나무를 5번 찍었습니다.\")\n",
    "print(\"나무를 6번 찍었습니다.\")\n",
    "print(\"나무를 7번 찍었습니다.\")\n",
    "print(\"나무를 8번 찍었습니다.\")\n",
    "print(\"나무를 9번 찍었습니다.\")\n",
    "print(\"나무를 10번 찍었습니다.\")\n",
    "print(\"나무가 넘어 갑니다.\")\n",
    "'''\n",
    "반복문\n",
    "반복적인 명령문이 있는 경우 한번만 사용해도 똑 같은 결과를 얻도록 하는 것이\n",
    "반복문이다. while, for\n",
    "'''\n",
    "print(\"==\" * 30)\n",
    "i = 1\n",
    "while i <= 10:\n",
    "    #print(\"나무를 %d번 찍었습니다.\" % i)\n",
    "    #print(f\"나무를 {i}번 찍었습니다.\")\n",
    "    #print(\"나무를 {0}번 찍었습니다.\".format(i))\n",
    "    print(\"나무를 {num}번 찍었습니다.\".format(num = i))\n",
    "    i = i + 1\n",
    "\n",
    "print(\"나무가 넘어 갑니다.\")"
   ]
  },
  {
   "cell_type": "code",
   "execution_count": 310,
   "id": "784e5538",
   "metadata": {},
   "outputs": [
    {
     "name": "stdout",
     "output_type": "stream",
     "text": [
      "8  * 1 = 8\n",
      "8  * 2 = 16\n",
      "8  * 3 = 24\n",
      "8  * 4 = 32\n",
      "8  * 5 = 40\n",
      "8  * 6 = 48\n",
      "8  * 7 = 56\n",
      "8  * 8 = 64\n",
      "8  * 9 = 72\n",
      "============================================================\n",
      "8  * 1 = 8\n",
      "8  * 2 = 16\n",
      "8  * 3 = 24\n",
      "8  * 4 = 32\n",
      "8  * 5 = 40\n",
      "8  * 6 = 48\n",
      "8  * 7 = 56\n",
      "8  * 8 = 64\n",
      "8  * 9 = 72\n"
     ]
    }
   ],
   "source": [
    "'''\n",
    "8단 출력\n",
    "8  * 1 = 8\n",
    "8  * 2 = 16\n",
    "8  * 3 = 24\n",
    "8  * 4 = 32\n",
    "8  * 5 = 40\n",
    "8  * 6 = 48\n",
    "8  * 7 = 56\n",
    "8  * 8 = 64\n",
    "8  * 9 = 72\n",
    "'''\n",
    "print(f\"8  * 1 = {8 * 1}\")\n",
    "print(f\"8  * 2 = {8 * 2}\")\n",
    "print(f\"8  * 3 = {8 * 3}\")\n",
    "print(f\"8  * 4 = {8 * 4}\")\n",
    "print(f\"8  * 5 = {8 * 5}\")\n",
    "print(f\"8  * 6 = {8 * 6}\")\n",
    "print(f\"8  * 7 = {8 * 7}\")\n",
    "print(f\"8  * 8 = {8 * 8}\")\n",
    "print(f\"8  * 9 = {8 * 9}\")\n",
    "\n",
    "print(\"==\" * 30)\n",
    "\n",
    "i = 1\n",
    "while i <= 9:\n",
    "    print(f\"8  * {i} = {8 * i}\")\n",
    "    #i = i + 1\n",
    "    i += 1"
   ]
  },
  {
   "cell_type": "code",
   "execution_count": 316,
   "id": "3c55bd4e",
   "metadata": {},
   "outputs": [
    {
     "name": "stdout",
     "output_type": "stream",
     "text": [
      "단을 입력해주세요.5\n",
      "5 * 1 = 5\n",
      "5 * 2 = 10\n",
      "5 * 3 = 15\n",
      "5 * 4 = 20\n",
      "5 * 5 = 25\n",
      "5 * 6 = 30\n",
      "5 * 7 = 35\n",
      "5 * 8 = 40\n",
      "5 * 9 = 45\n"
     ]
    }
   ],
   "source": [
    "dan = int(input(\"단을 입력해주세요.\"))\n",
    "i = 1\n",
    "while i <= 9:\n",
    "    # print(f\"{dan} * {i} = {dan * i}\")\n",
    "    print(\"%d * %d = %d\" % (dan, i , dan * i))\n",
    "    #i = i + 1\n",
    "    i += 1"
   ]
  },
  {
   "cell_type": "code",
   "execution_count": 321,
   "id": "3d684191",
   "metadata": {},
   "outputs": [
    {
     "name": "stdout",
     "output_type": "stream",
     "text": [
      "시작 곱을 입력하세요3\n",
      "마지막 곱을 입력하세요7\n",
      "8  * 3 = 24\n",
      "8  * 4 = 32\n",
      "8  * 5 = 40\n",
      "8  * 6 = 48\n",
      "8  * 7 = 56\n"
     ]
    }
   ],
   "source": [
    "start = int(input(\"시작 곱을 입력하세요\"))\n",
    "end = int(input(\"마지막 곱을 입력하세요\"))\n",
    "i = start\n",
    "while i <= end:\n",
    "    print(f\"8  * {i} = {8 * i}\")\n",
    "    #i = i + 1\n",
    "    i += 1"
   ]
  },
  {
   "cell_type": "code",
   "execution_count": null,
   "id": "baa90892",
   "metadata": {},
   "outputs": [],
   "source": [
    "dan = int(input(\"단을 입력해주세요.\"))\n",
    "start = int(input(\"시작 곱을 입력하세요\"))\n",
    "end = int(input(\"마지막 곱을 입력하세요\"))\n",
    "i = start\n",
    "while i <= end:\n",
    "    print(f\"{dan}  * {i} = {dan * i}\")\n",
    "    #i = i + 1\n",
    "    i += 1"
   ]
  }
 ],
 "metadata": {
  "kernelspec": {
   "display_name": "Python 3 (ipykernel)",
   "language": "python",
   "name": "python3"
  },
  "language_info": {
   "codemirror_mode": {
    "name": "ipython",
    "version": 3
   },
   "file_extension": ".py",
   "mimetype": "text/x-python",
   "name": "python",
   "nbconvert_exporter": "python",
   "pygments_lexer": "ipython3",
   "version": "3.10.4"
  }
 },
 "nbformat": 4,
 "nbformat_minor": 5
}
